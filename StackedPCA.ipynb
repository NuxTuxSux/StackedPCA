{
 "cells": [
  {
   "cell_type": "code",
   "execution_count": 1,
   "metadata": {},
   "outputs": [],
   "source": [
    "using PyCall, Plots, Images, MLDatasets, Colors"
   ]
  },
  {
   "cell_type": "code",
   "execution_count": 2,
   "metadata": {},
   "outputs": [],
   "source": [
    "#PCA = pyimport(\"sklearn.decomposition\").PCA"
   ]
  },
  {
   "cell_type": "code",
   "execution_count": 2,
   "metadata": {},
   "outputs": [
    {
     "data": {
      "text/plain": [
       "transform (generic function with 1 method)"
      ]
     },
     "execution_count": 2,
     "metadata": {},
     "output_type": "execute_result"
    }
   ],
   "source": [
    "include(\"StackedPCA.jl\")"
   ]
  },
  {
   "cell_type": "code",
   "execution_count": 3,
   "metadata": {},
   "outputs": [],
   "source": [
    "#using MultivariateStats"
   ]
  },
  {
   "cell_type": "markdown",
   "metadata": {},
   "source": [
    "Importo MNIST"
   ]
  },
  {
   "cell_type": "code",
   "execution_count": 4,
   "metadata": {},
   "outputs": [
    {
     "data": {
      "text/plain": [
       "(N0f8[0.0N0f8 0.0N0f8 … 0.0N0f8 0.0N0f8; 0.0N0f8 0.0N0f8 … 0.0N0f8 0.0N0f8; … ; 0.0N0f8 0.0N0f8 … 0.0N0f8 0.0N0f8; 0.0N0f8 0.0N0f8 … 0.0N0f8 0.0N0f8]\n",
       "\n",
       "N0f8[0.0N0f8 0.0N0f8 … 0.0N0f8 0.0N0f8; 0.0N0f8 0.0N0f8 … 0.0N0f8 0.0N0f8; … ; 0.0N0f8 0.0N0f8 … 0.0N0f8 0.0N0f8; 0.0N0f8 0.0N0f8 … 0.0N0f8 0.0N0f8]\n",
       "\n",
       "N0f8[0.0N0f8 0.0N0f8 … 0.0N0f8 0.0N0f8; 0.0N0f8 0.0N0f8 … 0.0N0f8 0.0N0f8; … ; 0.0N0f8 0.0N0f8 … 0.0N0f8 0.0N0f8; 0.0N0f8 0.0N0f8 … 0.0N0f8 0.0N0f8]\n",
       "\n",
       "...\n",
       "\n",
       "N0f8[0.0N0f8 0.0N0f8 … 0.0N0f8 0.0N0f8; 0.0N0f8 0.0N0f8 … 0.0N0f8 0.0N0f8; … ; 0.0N0f8 0.0N0f8 … 0.0N0f8 0.0N0f8; 0.0N0f8 0.0N0f8 … 0.0N0f8 0.0N0f8]\n",
       "\n",
       "N0f8[0.0N0f8 0.0N0f8 … 0.0N0f8 0.0N0f8; 0.0N0f8 0.0N0f8 … 0.0N0f8 0.0N0f8; … ; 0.0N0f8 0.0N0f8 … 0.0N0f8 0.0N0f8; 0.0N0f8 0.0N0f8 … 0.0N0f8 0.0N0f8]\n",
       "\n",
       "N0f8[0.0N0f8 0.0N0f8 … 0.0N0f8 0.0N0f8; 0.0N0f8 0.0N0f8 … 0.0N0f8 0.0N0f8; … ; 0.0N0f8 0.0N0f8 … 0.0N0f8 0.0N0f8; 0.0N0f8 0.0N0f8 … 0.0N0f8 0.0N0f8], [7, 2, 1, 0, 4, 1, 4, 9, 5, 9  …  7, 8, 9, 0, 1, 2, 3, 4, 5, 6])"
      ]
     },
     "execution_count": 4,
     "metadata": {},
     "output_type": "execute_result"
    }
   ],
   "source": [
    "train_X, train_y = MNIST.traindata()\n",
    "test_X, test_y = MNIST.testdata()"
   ]
  },
  {
   "cell_type": "code",
   "execution_count": 5,
   "metadata": {},
   "outputs": [
    {
     "data": {
      "text/plain": [
       "300"
      ]
     },
     "execution_count": 5,
     "metadata": {},
     "output_type": "execute_result"
    }
   ],
   "source": [
    "N = 300"
   ]
  },
  {
   "cell_type": "code",
   "execution_count": 7,
   "metadata": {},
   "outputs": [],
   "source": [
    "X = Float64.(permutedims(train_X,(3,2,1)));"
   ]
  },
  {
   "cell_type": "code",
   "execution_count": 8,
   "metadata": {},
   "outputs": [],
   "source": [
    "X = reshape(X,(60_000, 1, 28, 28))[1:N,:,:,:];"
   ]
  },
  {
   "cell_type": "markdown",
   "metadata": {},
   "source": [
    "<hr>"
   ]
  },
  {
   "cell_type": "code",
   "execution_count": 9,
   "metadata": {},
   "outputs": [
    {
     "data": {
      "text/plain": [
       "Layer((3, 3), (2, 2), 1, PyObject PCA(n_components=1))"
      ]
     },
     "execution_count": 9,
     "metadata": {},
     "output_type": "execute_result"
    }
   ],
   "source": [
    "l1 = Layer(stride = (5,5), kernelshape = (7,7), nfilters = 1)\n",
    "l2 = Layer(stride = (2,2), kernelshape = (3,3), nfilters = 1)"
   ]
  },
  {
   "cell_type": "code",
   "execution_count": 10,
   "metadata": {},
   "outputs": [
    {
     "data": {
      "text/plain": [
       "Layer((1, 1), (1, 1), 1, PyObject PCA(n_components=1))"
      ]
     },
     "execution_count": 10,
     "metadata": {},
     "output_type": "execute_result"
    }
   ],
   "source": [
    "l3 = Layer(stride = (1,1), kernelshape = (1,1), nfilters = 1)"
   ]
  },
  {
   "cell_type": "code",
   "execution_count": 11,
   "metadata": {},
   "outputs": [
    {
     "data": {
      "text/plain": [
       "PyObject PCA(n_components=1)"
      ]
     },
     "execution_count": 11,
     "metadata": {},
     "output_type": "execute_result"
    }
   ],
   "source": [
    "fit(l1, X)"
   ]
  },
  {
   "cell_type": "code",
   "execution_count": 12,
   "metadata": {},
   "outputs": [],
   "source": [
    "X1 = transform(l1, X);"
   ]
  },
  {
   "cell_type": "code",
   "execution_count": 13,
   "metadata": {},
   "outputs": [
    {
     "data": {
      "text/plain": [
       "PyObject PCA(n_components=1)"
      ]
     },
     "execution_count": 13,
     "metadata": {},
     "output_type": "execute_result"
    }
   ],
   "source": [
    "fit(l2, X1)"
   ]
  },
  {
   "cell_type": "code",
   "execution_count": 14,
   "metadata": {},
   "outputs": [],
   "source": [
    "X2 = transform(l2, X1);"
   ]
  },
  {
   "cell_type": "code",
   "execution_count": 15,
   "metadata": {},
   "outputs": [
    {
     "data": {
      "text/plain": [
       "(300, 1, 2, 2)"
      ]
     },
     "execution_count": 15,
     "metadata": {},
     "output_type": "execute_result"
    }
   ],
   "source": [
    "size(X2)"
   ]
  },
  {
   "cell_type": "code",
   "execution_count": 16,
   "metadata": {},
   "outputs": [
    {
     "data": {
      "text/plain": [
       "PyObject PCA(n_components=1)"
      ]
     },
     "execution_count": 16,
     "metadata": {},
     "output_type": "execute_result"
    }
   ],
   "source": [
    "fit(l3, X2)"
   ]
  },
  {
   "cell_type": "code",
   "execution_count": 17,
   "metadata": {},
   "outputs": [],
   "source": [
    "X3 = transform(l1, X2);"
   ]
  },
  {
   "cell_type": "code",
   "execution_count": 18,
   "metadata": {},
   "outputs": [
    {
     "data": {
      "text/plain": [
       "300×1×0×0 Array{Float64, 4}"
      ]
     },
     "execution_count": 18,
     "metadata": {},
     "output_type": "execute_result"
    }
   ],
   "source": [
    "X3"
   ]
  },
  {
   "cell_type": "code",
   "execution_count": 19,
   "metadata": {},
   "outputs": [
    {
     "data": {
      "text/plain": [
       "1×2×2 Array{RGB{Float64},3} with eltype RGB{Float64}:\n",
       "[:, :, 1] =\n",
       " RGB{Float64}(-0.353586,-0.353586,-0.353586)  …  RGB{Float64}(-0.251717,-0.251717,-0.251717)\n",
       "\n",
       "[:, :, 2] =\n",
       " RGB{Float64}(-0.0741044,-0.0741044,-0.0741044)  …  RGB{Float64}(0.232756,0.232756,0.232756)"
      ]
     },
     "execution_count": 19,
     "metadata": {},
     "output_type": "execute_result"
    }
   ],
   "source": [
    "RGB.(X2[1,:,:,:])"
   ]
  },
  {
   "cell_type": "code",
   "execution_count": 20,
   "metadata": {},
   "outputs": [
    {
     "data": {
      "text/plain": [
       "f (generic function with 1 method)"
      ]
     },
     "execution_count": 20,
     "metadata": {},
     "output_type": "execute_result"
    }
   ],
   "source": [
    "f(n) = [RGB(X2[n,:,i,j]...) for i in 1:2, j in 1:2]"
   ]
  },
  {
   "cell_type": "code",
   "execution_count": 21,
   "metadata": {},
   "outputs": [
    {
     "data": {
      "text/plain": [
       "10-element Vector{Int64}:\n",
       " 5\n",
       " 0\n",
       " 4\n",
       " 1\n",
       " 9\n",
       " 2\n",
       " 1\n",
       " 3\n",
       " 1\n",
       " 4"
      ]
     },
     "execution_count": 21,
     "metadata": {},
     "output_type": "execute_result"
    }
   ],
   "source": [
    "train_y[1:10]"
   ]
  },
  {
   "cell_type": "code",
   "execution_count": 22,
   "metadata": {},
   "outputs": [
    {
     "data": {
      "text/plain": [
       "c (generic function with 1 method)"
      ]
     },
     "execution_count": 22,
     "metadata": {},
     "output_type": "execute_result"
    }
   ],
   "source": [
    "c(n) = [i for i in 1:N if train_y[i] == n]"
   ]
  },
  {
   "cell_type": "code",
   "execution_count": 23,
   "metadata": {},
   "outputs": [
    {
     "data": {
      "text/plain": [
       "300×2 Matrix{Float64}:\n",
       "  0.25448   -0.110041\n",
       " -0.596511   0.0562226\n",
       "  1.76724    0.025318\n",
       " -0.596511   0.0562226\n",
       " -0.596161   0.0558976\n",
       " -0.584397   0.0467778\n",
       " -0.596511   0.0562226\n",
       " -0.472217   0.015805\n",
       " -0.596511   0.0562226\n",
       " -0.596511   0.0562226\n",
       " -0.596511   0.0562226\n",
       " -0.596511   0.0562226\n",
       "  9.91553    1.11115\n",
       "  ⋮         \n",
       "  1.49294   -0.314927\n",
       " -0.596511   0.0562226\n",
       " -0.596511   0.0562226\n",
       " -0.596511   0.0562226\n",
       " -0.596511   0.0562226\n",
       " -0.43647   -0.00465843\n",
       "  3.24372   -0.381339\n",
       " -0.596511   0.0562226\n",
       " -0.367153  -0.0542957\n",
       " -0.596511   0.0562226\n",
       "  2.56372   -0.224942\n",
       " -0.564796   0.038753"
      ]
     },
     "execution_count": 23,
     "metadata": {},
     "output_type": "execute_result"
    }
   ],
   "source": [
    "a, _, _, _ = size(X2)\n",
    "X3 = PCA(n_components =  2).fit_transform(reshape(X2,(a,:)))"
   ]
  },
  {
   "cell_type": "code",
   "execution_count": 24,
   "metadata": {},
   "outputs": [
    {
     "data": {
      "image/svg+xml": [
       "<?xml version=\"1.0\" encoding=\"utf-8\"?>\n",
       "<svg xmlns=\"http://www.w3.org/2000/svg\" xmlns:xlink=\"http://www.w3.org/1999/xlink\" width=\"1200\" height=\"900\" viewBox=\"0 0 4800 3600\">\n",
       "<defs>\n",
       "  <clipPath id=\"clip050\">\n",
       "    <rect x=\"0\" y=\"0\" width=\"4800\" height=\"3600\"/>\n",
       "  </clipPath>\n",
       "</defs>\n",
       "<path clip-path=\"url(#clip050)\" d=\"\n",
       "M0 3600 L4800 3600 L4800 0 L0 0  Z\n",
       "  \" fill=\"#ffffff\" fill-rule=\"evenodd\" fill-opacity=\"1\"/>\n",
       "<defs>\n",
       "  <clipPath id=\"clip051\">\n",
       "    <rect x=\"960\" y=\"0\" width=\"3361\" height=\"3361\"/>\n",
       "  </clipPath>\n",
       "</defs>\n",
       "<path clip-path=\"url(#clip050)\" d=\"\n",
       "M216.941 3462.13 L4752.76 3462.13 L4752.76 47.2441 L216.941 47.2441  Z\n",
       "  \" fill=\"#ffffff\" fill-rule=\"evenodd\" fill-opacity=\"1\"/>\n",
       "<defs>\n",
       "  <clipPath id=\"clip052\">\n",
       "    <rect x=\"216\" y=\"47\" width=\"4537\" height=\"3416\"/>\n",
       "  </clipPath>\n",
       "</defs>\n",
       "<polyline clip-path=\"url(#clip052)\" style=\"stroke:#000000; stroke-width:2; stroke-opacity:0.1; fill:none\" points=\"\n",
       "  583.904,3462.13 583.904,47.2441 \n",
       "  \"/>\n",
       "<polyline clip-path=\"url(#clip052)\" style=\"stroke:#000000; stroke-width:2; stroke-opacity:0.1; fill:none\" points=\"\n",
       "  1583.85,3462.13 1583.85,47.2441 \n",
       "  \"/>\n",
       "<polyline clip-path=\"url(#clip052)\" style=\"stroke:#000000; stroke-width:2; stroke-opacity:0.1; fill:none\" points=\"\n",
       "  2583.8,3462.13 2583.8,47.2441 \n",
       "  \"/>\n",
       "<polyline clip-path=\"url(#clip052)\" style=\"stroke:#000000; stroke-width:2; stroke-opacity:0.1; fill:none\" points=\"\n",
       "  3583.74,3462.13 3583.74,47.2441 \n",
       "  \"/>\n",
       "<polyline clip-path=\"url(#clip052)\" style=\"stroke:#000000; stroke-width:2; stroke-opacity:0.1; fill:none\" points=\"\n",
       "  4583.69,3462.13 4583.69,47.2441 \n",
       "  \"/>\n",
       "<polyline clip-path=\"url(#clip050)\" style=\"stroke:#000000; stroke-width:4; stroke-opacity:1; fill:none\" points=\"\n",
       "  216.941,3462.13 4752.76,3462.13 \n",
       "  \"/>\n",
       "<polyline clip-path=\"url(#clip050)\" style=\"stroke:#000000; stroke-width:4; stroke-opacity:1; fill:none\" points=\"\n",
       "  583.904,3462.13 583.904,3421.15 \n",
       "  \"/>\n",
       "<polyline clip-path=\"url(#clip050)\" style=\"stroke:#000000; stroke-width:4; stroke-opacity:1; fill:none\" points=\"\n",
       "  1583.85,3462.13 1583.85,3421.15 \n",
       "  \"/>\n",
       "<polyline clip-path=\"url(#clip050)\" style=\"stroke:#000000; stroke-width:4; stroke-opacity:1; fill:none\" points=\"\n",
       "  2583.8,3462.13 2583.8,3421.15 \n",
       "  \"/>\n",
       "<polyline clip-path=\"url(#clip050)\" style=\"stroke:#000000; stroke-width:4; stroke-opacity:1; fill:none\" points=\"\n",
       "  3583.74,3462.13 3583.74,3421.15 \n",
       "  \"/>\n",
       "<polyline clip-path=\"url(#clip050)\" style=\"stroke:#000000; stroke-width:4; stroke-opacity:1; fill:none\" points=\"\n",
       "  4583.69,3462.13 4583.69,3421.15 \n",
       "  \"/>\n",
       "<path clip-path=\"url(#clip050)\" d=\"M 0 0 M561.289 3510.52 Q557.678 3510.52 555.849 3514.08 Q554.044 3517.63 554.044 3524.75 Q554.044 3531.86 555.849 3535.43 Q557.678 3538.97 561.289 3538.97 Q564.923 3538.97 566.729 3535.43 Q568.557 3531.86 568.557 3524.75 Q568.557 3517.63 566.729 3514.08 Q564.923 3510.52 561.289 3510.52 M561.289 3506.81 Q567.099 3506.81 570.155 3511.42 Q573.233 3516 573.233 3524.75 Q573.233 3533.48 570.155 3538.09 Q567.099 3542.67 561.289 3542.67 Q555.479 3542.67 552.4 3538.09 Q549.344 3533.48 549.344 3524.75 Q549.344 3516 552.4 3511.42 Q555.479 3506.81 561.289 3506.81 Z\" fill=\"#000000\" fill-rule=\"evenodd\" fill-opacity=\"1\" /><path clip-path=\"url(#clip050)\" d=\"M 0 0 M581.451 3536.12 L586.335 3536.12 L586.335 3542 L581.451 3542 L581.451 3536.12 Z\" fill=\"#000000\" fill-rule=\"evenodd\" fill-opacity=\"1\" /><path clip-path=\"url(#clip050)\" d=\"M 0 0 M606.52 3510.52 Q602.909 3510.52 601.08 3514.08 Q599.275 3517.63 599.275 3524.75 Q599.275 3531.86 601.08 3535.43 Q602.909 3538.97 606.52 3538.97 Q610.154 3538.97 611.96 3535.43 Q613.789 3531.86 613.789 3524.75 Q613.789 3517.63 611.96 3514.08 Q610.154 3510.52 606.52 3510.52 M606.52 3506.81 Q612.33 3506.81 615.386 3511.42 Q618.464 3516 618.464 3524.75 Q618.464 3533.48 615.386 3538.09 Q612.33 3542.67 606.52 3542.67 Q600.71 3542.67 597.631 3538.09 Q594.576 3533.48 594.576 3524.75 Q594.576 3516 597.631 3511.42 Q600.71 3506.81 606.52 3506.81 Z\" fill=\"#000000\" fill-rule=\"evenodd\" fill-opacity=\"1\" /><path clip-path=\"url(#clip050)\" d=\"M 0 0 M1555.59 3538.06 L1571.91 3538.06 L1571.91 3542 L1549.96 3542 L1549.96 3538.06 Q1552.62 3535.31 1557.21 3530.68 Q1561.81 3526.03 1562.99 3524.69 Q1565.24 3522.16 1566.12 3520.43 Q1567.02 3518.67 1567.02 3516.98 Q1567.02 3514.22 1565.08 3512.49 Q1563.16 3510.75 1560.05 3510.75 Q1557.86 3510.75 1555.4 3511.51 Q1552.97 3512.28 1550.19 3513.83 L1550.19 3509.11 Q1553.02 3507.97 1555.47 3507.39 Q1557.92 3506.81 1559.96 3506.81 Q1565.33 3506.81 1568.53 3509.5 Q1571.72 3512.19 1571.72 3516.68 Q1571.72 3518.81 1570.91 3520.73 Q1570.12 3522.62 1568.02 3525.22 Q1567.44 3525.89 1564.34 3529.11 Q1561.23 3532.3 1555.59 3538.06 Z\" fill=\"#000000\" fill-rule=\"evenodd\" fill-opacity=\"1\" /><path clip-path=\"url(#clip050)\" d=\"M 0 0 M1581.72 3536.12 L1586.61 3536.12 L1586.61 3542 L1581.72 3542 L1581.72 3536.12 Z\" fill=\"#000000\" fill-rule=\"evenodd\" fill-opacity=\"1\" /><path clip-path=\"url(#clip050)\" d=\"M 0 0 M1596.84 3507.44 L1615.19 3507.44 L1615.19 3511.38 L1601.12 3511.38 L1601.12 3519.85 Q1602.14 3519.5 1603.16 3519.34 Q1604.17 3519.15 1605.19 3519.15 Q1610.98 3519.15 1614.36 3522.32 Q1617.74 3525.5 1617.74 3530.91 Q1617.74 3536.49 1614.27 3539.59 Q1610.79 3542.67 1604.48 3542.67 Q1602.3 3542.67 1600.03 3542.3 Q1597.79 3541.93 1595.38 3541.19 L1595.38 3536.49 Q1597.46 3537.62 1599.68 3538.18 Q1601.91 3538.74 1604.38 3538.74 Q1608.39 3538.74 1610.73 3536.63 Q1613.06 3534.52 1613.06 3530.91 Q1613.06 3527.3 1610.73 3525.19 Q1608.39 3523.09 1604.38 3523.09 Q1602.51 3523.09 1600.63 3523.5 Q1598.78 3523.92 1596.84 3524.8 L1596.84 3507.44 Z\" fill=\"#000000\" fill-rule=\"evenodd\" fill-opacity=\"1\" /><path clip-path=\"url(#clip050)\" d=\"M 0 0 M2550.96 3507.44 L2569.32 3507.44 L2569.32 3511.38 L2555.24 3511.38 L2555.24 3519.85 Q2556.26 3519.5 2557.28 3519.34 Q2558.3 3519.15 2559.32 3519.15 Q2565.1 3519.15 2568.48 3522.32 Q2571.86 3525.5 2571.86 3530.91 Q2571.86 3536.49 2568.39 3539.59 Q2564.92 3542.67 2558.6 3542.67 Q2556.42 3542.67 2554.16 3542.3 Q2551.91 3541.93 2549.5 3541.19 L2549.5 3536.49 Q2551.59 3537.62 2553.81 3538.18 Q2556.03 3538.74 2558.51 3538.74 Q2562.51 3538.74 2564.85 3536.63 Q2567.19 3534.52 2567.19 3530.91 Q2567.19 3527.3 2564.85 3525.19 Q2562.51 3523.09 2558.51 3523.09 Q2556.63 3523.09 2554.76 3523.5 Q2552.91 3523.92 2550.96 3524.8 L2550.96 3507.44 Z\" fill=\"#000000\" fill-rule=\"evenodd\" fill-opacity=\"1\" /><path clip-path=\"url(#clip050)\" d=\"M 0 0 M2581.08 3536.12 L2585.96 3536.12 L2585.96 3542 L2581.08 3542 L2581.08 3536.12 Z\" fill=\"#000000\" fill-rule=\"evenodd\" fill-opacity=\"1\" /><path clip-path=\"url(#clip050)\" d=\"M 0 0 M2606.15 3510.52 Q2602.53 3510.52 2600.71 3514.08 Q2598.9 3517.63 2598.9 3524.75 Q2598.9 3531.86 2600.71 3535.43 Q2602.53 3538.97 2606.15 3538.97 Q2609.78 3538.97 2611.59 3535.43 Q2613.41 3531.86 2613.41 3524.75 Q2613.41 3517.63 2611.59 3514.08 Q2609.78 3510.52 2606.15 3510.52 M2606.15 3506.81 Q2611.96 3506.81 2615.01 3511.42 Q2618.09 3516 2618.09 3524.75 Q2618.09 3533.48 2615.01 3538.09 Q2611.96 3542.67 2606.15 3542.67 Q2600.34 3542.67 2597.26 3538.09 Q2594.2 3533.48 2594.2 3524.75 Q2594.2 3516 2597.26 3511.42 Q2600.34 3506.81 2606.15 3506.81 Z\" fill=\"#000000\" fill-rule=\"evenodd\" fill-opacity=\"1\" /><path clip-path=\"url(#clip050)\" d=\"M 0 0 M3550.06 3507.44 L3572.28 3507.44 L3572.28 3509.43 L3559.74 3542 L3554.85 3542 L3566.66 3511.38 L3550.06 3511.38 L3550.06 3507.44 Z\" fill=\"#000000\" fill-rule=\"evenodd\" fill-opacity=\"1\" /><path clip-path=\"url(#clip050)\" d=\"M 0 0 M3581.4 3536.12 L3586.29 3536.12 L3586.29 3542 L3581.4 3542 L3581.4 3536.12 Z\" fill=\"#000000\" fill-rule=\"evenodd\" fill-opacity=\"1\" /><path clip-path=\"url(#clip050)\" d=\"M 0 0 M3596.52 3507.44 L3614.88 3507.44 L3614.88 3511.38 L3600.8 3511.38 L3600.8 3519.85 Q3601.82 3519.5 3602.84 3519.34 Q3603.86 3519.15 3604.88 3519.15 Q3610.66 3519.15 3614.04 3522.32 Q3617.42 3525.5 3617.42 3530.91 Q3617.42 3536.49 3613.95 3539.59 Q3610.48 3542.67 3604.16 3542.67 Q3601.98 3542.67 3599.71 3542.3 Q3597.47 3541.93 3595.06 3541.19 L3595.06 3536.49 Q3597.15 3537.62 3599.37 3538.18 Q3601.59 3538.74 3604.07 3538.74 Q3608.07 3538.74 3610.41 3536.63 Q3612.75 3534.52 3612.75 3530.91 Q3612.75 3527.3 3610.41 3525.19 Q3608.07 3523.09 3604.07 3523.09 Q3602.19 3523.09 3600.32 3523.5 Q3598.46 3523.92 3596.52 3524.8 L3596.52 3507.44 Z\" fill=\"#000000\" fill-rule=\"evenodd\" fill-opacity=\"1\" /><path clip-path=\"url(#clip050)\" d=\"M 0 0 M4535.76 3538.06 L4543.4 3538.06 L4543.4 3511.7 L4535.09 3513.37 L4535.09 3509.11 L4543.35 3507.44 L4548.03 3507.44 L4548.03 3538.06 L4555.67 3538.06 L4555.67 3542 L4535.76 3542 L4535.76 3538.06 Z\" fill=\"#000000\" fill-rule=\"evenodd\" fill-opacity=\"1\" /><path clip-path=\"url(#clip050)\" d=\"M 0 0 M4575.11 3510.52 Q4571.5 3510.52 4569.67 3514.08 Q4567.87 3517.63 4567.87 3524.75 Q4567.87 3531.86 4569.67 3535.43 Q4571.5 3538.97 4575.11 3538.97 Q4578.75 3538.97 4580.55 3535.43 Q4582.38 3531.86 4582.38 3524.75 Q4582.38 3517.63 4580.55 3514.08 Q4578.75 3510.52 4575.11 3510.52 M4575.11 3506.81 Q4580.92 3506.81 4583.98 3511.42 Q4587.06 3516 4587.06 3524.75 Q4587.06 3533.48 4583.98 3538.09 Q4580.92 3542.67 4575.11 3542.67 Q4569.3 3542.67 4566.22 3538.09 Q4563.17 3533.48 4563.17 3524.75 Q4563.17 3516 4566.22 3511.42 Q4569.3 3506.81 4575.11 3506.81 Z\" fill=\"#000000\" fill-rule=\"evenodd\" fill-opacity=\"1\" /><path clip-path=\"url(#clip050)\" d=\"M 0 0 M4595.27 3536.12 L4600.16 3536.12 L4600.16 3542 L4595.27 3542 L4595.27 3536.12 Z\" fill=\"#000000\" fill-rule=\"evenodd\" fill-opacity=\"1\" /><path clip-path=\"url(#clip050)\" d=\"M 0 0 M4620.34 3510.52 Q4616.73 3510.52 4614.9 3514.08 Q4613.1 3517.63 4613.1 3524.75 Q4613.1 3531.86 4614.9 3535.43 Q4616.73 3538.97 4620.34 3538.97 Q4623.98 3538.97 4625.78 3535.43 Q4627.61 3531.86 4627.61 3524.75 Q4627.61 3517.63 4625.78 3514.08 Q4623.98 3510.52 4620.34 3510.52 M4620.34 3506.81 Q4626.15 3506.81 4629.21 3511.42 Q4632.29 3516 4632.29 3524.75 Q4632.29 3533.48 4629.21 3538.09 Q4626.15 3542.67 4620.34 3542.67 Q4614.53 3542.67 4611.45 3538.09 Q4608.4 3533.48 4608.4 3524.75 Q4608.4 3516 4611.45 3511.42 Q4614.53 3506.81 4620.34 3506.81 Z\" fill=\"#000000\" fill-rule=\"evenodd\" fill-opacity=\"1\" /><polyline clip-path=\"url(#clip052)\" style=\"stroke:#000000; stroke-width:2; stroke-opacity:0.1; fill:none\" points=\"\n",
       "  216.941,3031.99 4752.76,3031.99 \n",
       "  \"/>\n",
       "<polyline clip-path=\"url(#clip052)\" style=\"stroke:#000000; stroke-width:2; stroke-opacity:0.1; fill:none\" points=\"\n",
       "  216.941,2135.7 4752.76,2135.7 \n",
       "  \"/>\n",
       "<polyline clip-path=\"url(#clip052)\" style=\"stroke:#000000; stroke-width:2; stroke-opacity:0.1; fill:none\" points=\"\n",
       "  216.941,1239.42 4752.76,1239.42 \n",
       "  \"/>\n",
       "<polyline clip-path=\"url(#clip052)\" style=\"stroke:#000000; stroke-width:2; stroke-opacity:0.1; fill:none\" points=\"\n",
       "  216.941,343.131 4752.76,343.131 \n",
       "  \"/>\n",
       "<polyline clip-path=\"url(#clip050)\" style=\"stroke:#000000; stroke-width:4; stroke-opacity:1; fill:none\" points=\"\n",
       "  216.941,3462.13 216.941,47.2441 \n",
       "  \"/>\n",
       "<polyline clip-path=\"url(#clip050)\" style=\"stroke:#000000; stroke-width:4; stroke-opacity:1; fill:none\" points=\"\n",
       "  216.941,3031.99 271.37,3031.99 \n",
       "  \"/>\n",
       "<polyline clip-path=\"url(#clip050)\" style=\"stroke:#000000; stroke-width:4; stroke-opacity:1; fill:none\" points=\"\n",
       "  216.941,2135.7 271.37,2135.7 \n",
       "  \"/>\n",
       "<polyline clip-path=\"url(#clip050)\" style=\"stroke:#000000; stroke-width:4; stroke-opacity:1; fill:none\" points=\"\n",
       "  216.941,1239.42 271.37,1239.42 \n",
       "  \"/>\n",
       "<polyline clip-path=\"url(#clip050)\" style=\"stroke:#000000; stroke-width:4; stroke-opacity:1; fill:none\" points=\"\n",
       "  216.941,343.131 271.37,343.131 \n",
       "  \"/>\n",
       "<path clip-path=\"url(#clip050)\" d=\"M 0 0 M38.9921 3032.44 L68.6679 3032.44 L68.6679 3036.38 L38.9921 3036.38 L38.9921 3032.44 Z\" fill=\"#000000\" fill-rule=\"evenodd\" fill-opacity=\"1\" /><path clip-path=\"url(#clip050)\" d=\"M 0 0 M88.7604 3017.79 Q85.1493 3017.79 83.3206 3021.35 Q81.515 3024.89 81.515 3032.02 Q81.515 3039.13 83.3206 3042.7 Q85.1493 3046.24 88.7604 3046.24 Q92.3946 3046.24 94.2002 3042.7 Q96.0289 3039.13 96.0289 3032.02 Q96.0289 3024.89 94.2002 3021.35 Q92.3946 3017.79 88.7604 3017.79 M88.7604 3014.08 Q94.5705 3014.08 97.6261 3018.69 Q100.705 3023.27 100.705 3032.02 Q100.705 3040.75 97.6261 3045.36 Q94.5705 3049.94 88.7604 3049.94 Q82.9502 3049.94 79.8715 3045.36 Q76.816 3040.75 76.816 3032.02 Q76.816 3023.27 79.8715 3018.69 Q82.9502 3014.08 88.7604 3014.08 Z\" fill=\"#000000\" fill-rule=\"evenodd\" fill-opacity=\"1\" /><path clip-path=\"url(#clip050)\" d=\"M 0 0 M108.922 3043.39 L113.807 3043.39 L113.807 3049.27 L108.922 3049.27 L108.922 3043.39 Z\" fill=\"#000000\" fill-rule=\"evenodd\" fill-opacity=\"1\" /><path clip-path=\"url(#clip050)\" d=\"M 0 0 M124.038 3014.71 L142.394 3014.71 L142.394 3018.64 L128.32 3018.64 L128.32 3027.12 Q129.339 3026.77 130.357 3026.61 Q131.376 3026.42 132.394 3026.42 Q138.181 3026.42 141.561 3029.59 Q144.941 3032.77 144.941 3038.18 Q144.941 3043.76 141.468 3046.86 Q137.996 3049.94 131.677 3049.94 Q129.501 3049.94 127.232 3049.57 Q124.987 3049.2 122.58 3048.46 L122.58 3043.76 Q124.663 3044.89 126.885 3045.45 Q129.107 3046.01 131.584 3046.01 Q135.589 3046.01 137.927 3043.9 Q140.265 3041.79 140.265 3038.18 Q140.265 3034.57 137.927 3032.46 Q135.589 3030.36 131.584 3030.36 Q129.709 3030.36 127.834 3030.77 Q125.982 3031.19 124.038 3032.07 L124.038 3014.71 Z\" fill=\"#000000\" fill-rule=\"evenodd\" fill-opacity=\"1\" /><path clip-path=\"url(#clip050)\" d=\"M 0 0 M87.765 2121.5 Q84.1539 2121.5 82.3252 2125.07 Q80.5197 2128.61 80.5197 2135.74 Q80.5197 2142.84 82.3252 2146.41 Q84.1539 2149.95 87.765 2149.95 Q91.3993 2149.95 93.2048 2146.41 Q95.0335 2142.84 95.0335 2135.74 Q95.0335 2128.61 93.2048 2125.07 Q91.3993 2121.5 87.765 2121.5 M87.765 2117.8 Q93.5752 2117.8 96.6307 2122.4 Q99.7094 2126.99 99.7094 2135.74 Q99.7094 2144.46 96.6307 2149.07 Q93.5752 2153.65 87.765 2153.65 Q81.9549 2153.65 78.8762 2149.07 Q75.8206 2144.46 75.8206 2135.74 Q75.8206 2126.99 78.8762 2122.4 Q81.9549 2117.8 87.765 2117.8 Z\" fill=\"#000000\" fill-rule=\"evenodd\" fill-opacity=\"1\" /><path clip-path=\"url(#clip050)\" d=\"M 0 0 M107.927 2147.1 L112.811 2147.1 L112.811 2152.98 L107.927 2152.98 L107.927 2147.1 Z\" fill=\"#000000\" fill-rule=\"evenodd\" fill-opacity=\"1\" /><path clip-path=\"url(#clip050)\" d=\"M 0 0 M132.996 2121.5 Q129.385 2121.5 127.556 2125.07 Q125.751 2128.61 125.751 2135.74 Q125.751 2142.84 127.556 2146.41 Q129.385 2149.95 132.996 2149.95 Q136.63 2149.95 138.436 2146.41 Q140.265 2142.84 140.265 2135.74 Q140.265 2128.61 138.436 2125.07 Q136.63 2121.5 132.996 2121.5 M132.996 2117.8 Q138.806 2117.8 141.862 2122.4 Q144.941 2126.99 144.941 2135.74 Q144.941 2144.46 141.862 2149.07 Q138.806 2153.65 132.996 2153.65 Q127.186 2153.65 124.107 2149.07 Q121.052 2144.46 121.052 2135.74 Q121.052 2126.99 124.107 2122.4 Q127.186 2117.8 132.996 2117.8 Z\" fill=\"#000000\" fill-rule=\"evenodd\" fill-opacity=\"1\" /><path clip-path=\"url(#clip050)\" d=\"M 0 0 M88.7604 1225.22 Q85.1493 1225.22 83.3206 1228.78 Q81.515 1232.32 81.515 1239.45 Q81.515 1246.56 83.3206 1250.12 Q85.1493 1253.66 88.7604 1253.66 Q92.3946 1253.66 94.2002 1250.12 Q96.0289 1246.56 96.0289 1239.45 Q96.0289 1232.32 94.2002 1228.78 Q92.3946 1225.22 88.7604 1225.22 M88.7604 1221.51 Q94.5705 1221.51 97.6261 1226.12 Q100.705 1230.7 100.705 1239.45 Q100.705 1248.18 97.6261 1252.79 Q94.5705 1257.37 88.7604 1257.37 Q82.9502 1257.37 79.8715 1252.79 Q76.816 1248.18 76.816 1239.45 Q76.816 1230.7 79.8715 1226.12 Q82.9502 1221.51 88.7604 1221.51 Z\" fill=\"#000000\" fill-rule=\"evenodd\" fill-opacity=\"1\" /><path clip-path=\"url(#clip050)\" d=\"M 0 0 M108.922 1250.82 L113.807 1250.82 L113.807 1256.7 L108.922 1256.7 L108.922 1250.82 Z\" fill=\"#000000\" fill-rule=\"evenodd\" fill-opacity=\"1\" /><path clip-path=\"url(#clip050)\" d=\"M 0 0 M124.038 1222.14 L142.394 1222.14 L142.394 1226.07 L128.32 1226.07 L128.32 1234.54 Q129.339 1234.2 130.357 1234.04 Q131.376 1233.85 132.394 1233.85 Q138.181 1233.85 141.561 1237.02 Q144.941 1240.19 144.941 1245.61 Q144.941 1251.19 141.468 1254.29 Q137.996 1257.37 131.677 1257.37 Q129.501 1257.37 127.232 1257 Q124.987 1256.63 122.58 1255.89 L122.58 1251.19 Q124.663 1252.32 126.885 1252.88 Q129.107 1253.43 131.584 1253.43 Q135.589 1253.43 137.927 1251.33 Q140.265 1249.22 140.265 1245.61 Q140.265 1242 137.927 1239.89 Q135.589 1237.79 131.584 1237.79 Q129.709 1237.79 127.834 1238.2 Q125.982 1238.62 124.038 1239.5 L124.038 1222.14 Z\" fill=\"#000000\" fill-rule=\"evenodd\" fill-opacity=\"1\" /><path clip-path=\"url(#clip050)\" d=\"M 0 0 M78.5752 356.476 L86.2141 356.476 L86.2141 330.11 L77.904 331.777 L77.904 327.517 L86.1678 325.851 L90.8437 325.851 L90.8437 356.476 L98.4825 356.476 L98.4825 360.411 L78.5752 360.411 L78.5752 356.476 Z\" fill=\"#000000\" fill-rule=\"evenodd\" fill-opacity=\"1\" /><path clip-path=\"url(#clip050)\" d=\"M 0 0 M107.927 354.531 L112.811 354.531 L112.811 360.411 L107.927 360.411 L107.927 354.531 Z\" fill=\"#000000\" fill-rule=\"evenodd\" fill-opacity=\"1\" /><path clip-path=\"url(#clip050)\" d=\"M 0 0 M132.996 328.929 Q129.385 328.929 127.556 332.494 Q125.751 336.036 125.751 343.165 Q125.751 350.272 127.556 353.837 Q129.385 357.378 132.996 357.378 Q136.63 357.378 138.436 353.837 Q140.265 350.272 140.265 343.165 Q140.265 336.036 138.436 332.494 Q136.63 328.929 132.996 328.929 M132.996 325.226 Q138.806 325.226 141.862 329.832 Q144.941 334.416 144.941 343.165 Q144.941 351.892 141.862 356.499 Q138.806 361.082 132.996 361.082 Q127.186 361.082 124.107 356.499 Q121.052 351.892 121.052 343.165 Q121.052 334.416 124.107 329.832 Q127.186 325.226 132.996 325.226 Z\" fill=\"#000000\" fill-rule=\"evenodd\" fill-opacity=\"1\" /><circle clip-path=\"url(#clip052)\" cx=\"345.313\" cy=\"2034.92\" r=\"14\" fill=\"#009af9\" fill-rule=\"evenodd\" fill-opacity=\"1\" stroke=\"#000000\" stroke-opacity=\"1\" stroke-width=\"7.2\"/>\n",
       "<circle clip-path=\"url(#clip052)\" cx=\"345.313\" cy=\"2034.92\" r=\"14\" fill=\"#009af9\" fill-rule=\"evenodd\" fill-opacity=\"1\" stroke=\"#000000\" stroke-opacity=\"1\" stroke-width=\"7.2\"/>\n",
       "<circle clip-path=\"url(#clip052)\" cx=\"345.313\" cy=\"2034.92\" r=\"14\" fill=\"#009af9\" fill-rule=\"evenodd\" fill-opacity=\"1\" stroke=\"#000000\" stroke-opacity=\"1\" stroke-width=\"7.2\"/>\n",
       "<circle clip-path=\"url(#clip052)\" cx=\"345.313\" cy=\"2034.92\" r=\"14\" fill=\"#009af9\" fill-rule=\"evenodd\" fill-opacity=\"1\" stroke=\"#000000\" stroke-opacity=\"1\" stroke-width=\"7.2\"/>\n",
       "<circle clip-path=\"url(#clip052)\" cx=\"345.313\" cy=\"2034.92\" r=\"14\" fill=\"#009af9\" fill-rule=\"evenodd\" fill-opacity=\"1\" stroke=\"#000000\" stroke-opacity=\"1\" stroke-width=\"7.2\"/>\n",
       "<circle clip-path=\"url(#clip052)\" cx=\"345.313\" cy=\"2034.92\" r=\"14\" fill=\"#009af9\" fill-rule=\"evenodd\" fill-opacity=\"1\" stroke=\"#000000\" stroke-opacity=\"1\" stroke-width=\"7.2\"/>\n",
       "<circle clip-path=\"url(#clip052)\" cx=\"345.313\" cy=\"2034.92\" r=\"14\" fill=\"#009af9\" fill-rule=\"evenodd\" fill-opacity=\"1\" stroke=\"#000000\" stroke-opacity=\"1\" stroke-width=\"7.2\"/>\n",
       "<circle clip-path=\"url(#clip052)\" cx=\"345.313\" cy=\"2034.92\" r=\"14\" fill=\"#009af9\" fill-rule=\"evenodd\" fill-opacity=\"1\" stroke=\"#000000\" stroke-opacity=\"1\" stroke-width=\"7.2\"/>\n",
       "<circle clip-path=\"url(#clip052)\" cx=\"345.313\" cy=\"2034.92\" r=\"14\" fill=\"#009af9\" fill-rule=\"evenodd\" fill-opacity=\"1\" stroke=\"#000000\" stroke-opacity=\"1\" stroke-width=\"7.2\"/>\n",
       "<circle clip-path=\"url(#clip052)\" cx=\"380.336\" cy=\"2108.33\" r=\"14\" fill=\"#009af9\" fill-rule=\"evenodd\" fill-opacity=\"1\" stroke=\"#000000\" stroke-opacity=\"1\" stroke-width=\"7.2\"/>\n",
       "<circle clip-path=\"url(#clip052)\" cx=\"345.313\" cy=\"2034.92\" r=\"14\" fill=\"#009af9\" fill-rule=\"evenodd\" fill-opacity=\"1\" stroke=\"#000000\" stroke-opacity=\"1\" stroke-width=\"7.2\"/>\n",
       "<circle clip-path=\"url(#clip052)\" cx=\"345.313\" cy=\"2034.92\" r=\"14\" fill=\"#009af9\" fill-rule=\"evenodd\" fill-opacity=\"1\" stroke=\"#000000\" stroke-opacity=\"1\" stroke-width=\"7.2\"/>\n",
       "<circle clip-path=\"url(#clip052)\" cx=\"345.313\" cy=\"2034.92\" r=\"14\" fill=\"#009af9\" fill-rule=\"evenodd\" fill-opacity=\"1\" stroke=\"#000000\" stroke-opacity=\"1\" stroke-width=\"7.2\"/>\n",
       "<circle clip-path=\"url(#clip052)\" cx=\"345.313\" cy=\"2034.92\" r=\"14\" fill=\"#009af9\" fill-rule=\"evenodd\" fill-opacity=\"1\" stroke=\"#000000\" stroke-opacity=\"1\" stroke-width=\"7.2\"/>\n",
       "<circle clip-path=\"url(#clip052)\" cx=\"345.313\" cy=\"2034.92\" r=\"14\" fill=\"#009af9\" fill-rule=\"evenodd\" fill-opacity=\"1\" stroke=\"#000000\" stroke-opacity=\"1\" stroke-width=\"7.2\"/>\n",
       "<circle clip-path=\"url(#clip052)\" cx=\"345.313\" cy=\"2034.92\" r=\"14\" fill=\"#009af9\" fill-rule=\"evenodd\" fill-opacity=\"1\" stroke=\"#000000\" stroke-opacity=\"1\" stroke-width=\"7.2\"/>\n",
       "<circle clip-path=\"url(#clip052)\" cx=\"345.313\" cy=\"2034.92\" r=\"14\" fill=\"#009af9\" fill-rule=\"evenodd\" fill-opacity=\"1\" stroke=\"#000000\" stroke-opacity=\"1\" stroke-width=\"7.2\"/>\n",
       "<circle clip-path=\"url(#clip052)\" cx=\"345.313\" cy=\"2034.92\" r=\"14\" fill=\"#009af9\" fill-rule=\"evenodd\" fill-opacity=\"1\" stroke=\"#000000\" stroke-opacity=\"1\" stroke-width=\"7.2\"/>\n",
       "<circle clip-path=\"url(#clip052)\" cx=\"345.313\" cy=\"2034.92\" r=\"14\" fill=\"#009af9\" fill-rule=\"evenodd\" fill-opacity=\"1\" stroke=\"#000000\" stroke-opacity=\"1\" stroke-width=\"7.2\"/>\n",
       "<circle clip-path=\"url(#clip052)\" cx=\"345.313\" cy=\"2034.92\" r=\"14\" fill=\"#009af9\" fill-rule=\"evenodd\" fill-opacity=\"1\" stroke=\"#000000\" stroke-opacity=\"1\" stroke-width=\"7.2\"/>\n",
       "<circle clip-path=\"url(#clip052)\" cx=\"345.313\" cy=\"2034.92\" r=\"14\" fill=\"#009af9\" fill-rule=\"evenodd\" fill-opacity=\"1\" stroke=\"#000000\" stroke-opacity=\"1\" stroke-width=\"7.2\"/>\n",
       "<circle clip-path=\"url(#clip052)\" cx=\"2536.02\" cy=\"1852.43\" r=\"14\" fill=\"#009af9\" fill-rule=\"evenodd\" fill-opacity=\"1\" stroke=\"#000000\" stroke-opacity=\"1\" stroke-width=\"7.2\"/>\n",
       "<circle clip-path=\"url(#clip052)\" cx=\"345.313\" cy=\"2034.92\" r=\"14\" fill=\"#009af9\" fill-rule=\"evenodd\" fill-opacity=\"1\" stroke=\"#000000\" stroke-opacity=\"1\" stroke-width=\"7.2\"/>\n",
       "<circle clip-path=\"url(#clip052)\" cx=\"345.313\" cy=\"2034.92\" r=\"14\" fill=\"#009af9\" fill-rule=\"evenodd\" fill-opacity=\"1\" stroke=\"#000000\" stroke-opacity=\"1\" stroke-width=\"7.2\"/>\n",
       "<circle clip-path=\"url(#clip052)\" cx=\"345.313\" cy=\"2034.92\" r=\"14\" fill=\"#009af9\" fill-rule=\"evenodd\" fill-opacity=\"1\" stroke=\"#000000\" stroke-opacity=\"1\" stroke-width=\"7.2\"/>\n",
       "<circle clip-path=\"url(#clip052)\" cx=\"345.313\" cy=\"2034.92\" r=\"14\" fill=\"#009af9\" fill-rule=\"evenodd\" fill-opacity=\"1\" stroke=\"#000000\" stroke-opacity=\"1\" stroke-width=\"7.2\"/>\n",
       "<circle clip-path=\"url(#clip052)\" cx=\"345.313\" cy=\"2034.92\" r=\"14\" fill=\"#009af9\" fill-rule=\"evenodd\" fill-opacity=\"1\" stroke=\"#000000\" stroke-opacity=\"1\" stroke-width=\"7.2\"/>\n",
       "<circle clip-path=\"url(#clip052)\" cx=\"345.313\" cy=\"2034.92\" r=\"14\" fill=\"#009af9\" fill-rule=\"evenodd\" fill-opacity=\"1\" stroke=\"#000000\" stroke-opacity=\"1\" stroke-width=\"7.2\"/>\n",
       "<circle clip-path=\"url(#clip052)\" cx=\"345.313\" cy=\"2034.92\" r=\"14\" fill=\"#009af9\" fill-rule=\"evenodd\" fill-opacity=\"1\" stroke=\"#000000\" stroke-opacity=\"1\" stroke-width=\"7.2\"/>\n",
       "<circle clip-path=\"url(#clip052)\" cx=\"345.313\" cy=\"2034.92\" r=\"14\" fill=\"#009af9\" fill-rule=\"evenodd\" fill-opacity=\"1\" stroke=\"#000000\" stroke-opacity=\"1\" stroke-width=\"7.2\"/>\n",
       "<circle clip-path=\"url(#clip052)\" cx=\"345.313\" cy=\"2034.92\" r=\"14\" fill=\"#009af9\" fill-rule=\"evenodd\" fill-opacity=\"1\" stroke=\"#000000\" stroke-opacity=\"1\" stroke-width=\"7.2\"/>\n",
       "<circle clip-path=\"url(#clip052)\" cx=\"346.924\" cy=\"2041.62\" r=\"14\" fill=\"#009af9\" fill-rule=\"evenodd\" fill-opacity=\"1\" stroke=\"#000000\" stroke-opacity=\"1\" stroke-width=\"7.2\"/>\n",
       "<circle clip-path=\"url(#clip052)\" cx=\"345.313\" cy=\"2034.92\" r=\"14\" fill=\"#009af9\" fill-rule=\"evenodd\" fill-opacity=\"1\" stroke=\"#000000\" stroke-opacity=\"1\" stroke-width=\"7.2\"/>\n",
       "<circle clip-path=\"url(#clip052)\" cx=\"345.313\" cy=\"2034.92\" r=\"14\" fill=\"#009af9\" fill-rule=\"evenodd\" fill-opacity=\"1\" stroke=\"#000000\" stroke-opacity=\"1\" stroke-width=\"7.2\"/>\n",
       "<circle clip-path=\"url(#clip052)\" cx=\"345.313\" cy=\"2034.92\" r=\"14\" fill=\"#009af9\" fill-rule=\"evenodd\" fill-opacity=\"1\" stroke=\"#000000\" stroke-opacity=\"1\" stroke-width=\"7.2\"/>\n",
       "<circle clip-path=\"url(#clip052)\" cx=\"345.313\" cy=\"2034.92\" r=\"14\" fill=\"#009af9\" fill-rule=\"evenodd\" fill-opacity=\"1\" stroke=\"#000000\" stroke-opacity=\"1\" stroke-width=\"7.2\"/>\n",
       "<circle clip-path=\"url(#clip052)\" cx=\"345.313\" cy=\"2034.92\" r=\"14\" fill=\"#009af9\" fill-rule=\"evenodd\" fill-opacity=\"1\" stroke=\"#000000\" stroke-opacity=\"1\" stroke-width=\"7.2\"/>\n",
       "<circle clip-path=\"url(#clip052)\" cx=\"345.313\" cy=\"2034.92\" r=\"14\" fill=\"#009af9\" fill-rule=\"evenodd\" fill-opacity=\"1\" stroke=\"#000000\" stroke-opacity=\"1\" stroke-width=\"7.2\"/>\n",
       "<circle clip-path=\"url(#clip052)\" cx=\"345.313\" cy=\"2034.92\" r=\"14\" fill=\"#009af9\" fill-rule=\"evenodd\" fill-opacity=\"1\" stroke=\"#000000\" stroke-opacity=\"1\" stroke-width=\"7.2\"/>\n",
       "<circle clip-path=\"url(#clip052)\" cx=\"350.158\" cy=\"2051.85\" r=\"14\" fill=\"#e26f46\" fill-rule=\"evenodd\" fill-opacity=\"1\" stroke=\"#000000\" stroke-opacity=\"1\" stroke-width=\"7.2\"/>\n",
       "<circle clip-path=\"url(#clip052)\" cx=\"444.522\" cy=\"2215.26\" r=\"14\" fill=\"#e26f46\" fill-rule=\"evenodd\" fill-opacity=\"1\" stroke=\"#000000\" stroke-opacity=\"1\" stroke-width=\"7.2\"/>\n",
       "<circle clip-path=\"url(#clip052)\" cx=\"896.85\" cy=\"2341.76\" r=\"14\" fill=\"#e26f46\" fill-rule=\"evenodd\" fill-opacity=\"1\" stroke=\"#000000\" stroke-opacity=\"1\" stroke-width=\"7.2\"/>\n",
       "<circle clip-path=\"url(#clip052)\" cx=\"4624.38\" cy=\"1758.15\" r=\"14\" fill=\"#e26f46\" fill-rule=\"evenodd\" fill-opacity=\"1\" stroke=\"#000000\" stroke-opacity=\"1\" stroke-width=\"7.2\"/>\n",
       "<circle clip-path=\"url(#clip052)\" cx=\"1953.77\" cy=\"2687.57\" r=\"14\" fill=\"#e26f46\" fill-rule=\"evenodd\" fill-opacity=\"1\" stroke=\"#000000\" stroke-opacity=\"1\" stroke-width=\"7.2\"/>\n",
       "<circle clip-path=\"url(#clip052)\" cx=\"532.494\" cy=\"2238.84\" r=\"14\" fill=\"#e26f46\" fill-rule=\"evenodd\" fill-opacity=\"1\" stroke=\"#000000\" stroke-opacity=\"1\" stroke-width=\"7.2\"/>\n",
       "<circle clip-path=\"url(#clip052)\" cx=\"755.478\" cy=\"2351.71\" r=\"14\" fill=\"#e26f46\" fill-rule=\"evenodd\" fill-opacity=\"1\" stroke=\"#000000\" stroke-opacity=\"1\" stroke-width=\"7.2\"/>\n",
       "<circle clip-path=\"url(#clip052)\" cx=\"1450.61\" cy=\"2854.15\" r=\"14\" fill=\"#e26f46\" fill-rule=\"evenodd\" fill-opacity=\"1\" stroke=\"#000000\" stroke-opacity=\"1\" stroke-width=\"7.2\"/>\n",
       "<circle clip-path=\"url(#clip052)\" cx=\"3103.22\" cy=\"2983.25\" r=\"14\" fill=\"#e26f46\" fill-rule=\"evenodd\" fill-opacity=\"1\" stroke=\"#000000\" stroke-opacity=\"1\" stroke-width=\"7.2\"/>\n",
       "<circle clip-path=\"url(#clip052)\" cx=\"345.313\" cy=\"2034.92\" r=\"14\" fill=\"#e26f46\" fill-rule=\"evenodd\" fill-opacity=\"1\" stroke=\"#000000\" stroke-opacity=\"1\" stroke-width=\"7.2\"/>\n",
       "<circle clip-path=\"url(#clip052)\" cx=\"600.694\" cy=\"2629.7\" r=\"14\" fill=\"#e26f46\" fill-rule=\"evenodd\" fill-opacity=\"1\" stroke=\"#000000\" stroke-opacity=\"1\" stroke-width=\"7.2\"/>\n",
       "<circle clip-path=\"url(#clip052)\" cx=\"869.88\" cy=\"2701.75\" r=\"14\" fill=\"#e26f46\" fill-rule=\"evenodd\" fill-opacity=\"1\" stroke=\"#000000\" stroke-opacity=\"1\" stroke-width=\"7.2\"/>\n",
       "<circle clip-path=\"url(#clip052)\" cx=\"368.833\" cy=\"2090.07\" r=\"14\" fill=\"#e26f46\" fill-rule=\"evenodd\" fill-opacity=\"1\" stroke=\"#000000\" stroke-opacity=\"1\" stroke-width=\"7.2\"/>\n",
       "<circle clip-path=\"url(#clip052)\" cx=\"572.821\" cy=\"2309.42\" r=\"14\" fill=\"#e26f46\" fill-rule=\"evenodd\" fill-opacity=\"1\" stroke=\"#000000\" stroke-opacity=\"1\" stroke-width=\"7.2\"/>\n",
       "<circle clip-path=\"url(#clip052)\" cx=\"345.313\" cy=\"2034.92\" r=\"14\" fill=\"#e26f46\" fill-rule=\"evenodd\" fill-opacity=\"1\" stroke=\"#000000\" stroke-opacity=\"1\" stroke-width=\"7.2\"/>\n",
       "<circle clip-path=\"url(#clip052)\" cx=\"345.313\" cy=\"2034.92\" r=\"14\" fill=\"#e26f46\" fill-rule=\"evenodd\" fill-opacity=\"1\" stroke=\"#000000\" stroke-opacity=\"1\" stroke-width=\"7.2\"/>\n",
       "<circle clip-path=\"url(#clip052)\" cx=\"490.244\" cy=\"2154.87\" r=\"14\" fill=\"#e26f46\" fill-rule=\"evenodd\" fill-opacity=\"1\" stroke=\"#000000\" stroke-opacity=\"1\" stroke-width=\"7.2\"/>\n",
       "<circle clip-path=\"url(#clip052)\" cx=\"584.551\" cy=\"2582.89\" r=\"14\" fill=\"#e26f46\" fill-rule=\"evenodd\" fill-opacity=\"1\" stroke=\"#000000\" stroke-opacity=\"1\" stroke-width=\"7.2\"/>\n",
       "<circle clip-path=\"url(#clip052)\" cx=\"345.313\" cy=\"2034.92\" r=\"14\" fill=\"#e26f46\" fill-rule=\"evenodd\" fill-opacity=\"1\" stroke=\"#000000\" stroke-opacity=\"1\" stroke-width=\"7.2\"/>\n",
       "<circle clip-path=\"url(#clip052)\" cx=\"470.508\" cy=\"2288.89\" r=\"14\" fill=\"#e26f46\" fill-rule=\"evenodd\" fill-opacity=\"1\" stroke=\"#000000\" stroke-opacity=\"1\" stroke-width=\"7.2\"/>\n",
       "<circle clip-path=\"url(#clip052)\" cx=\"345.313\" cy=\"2034.92\" r=\"14\" fill=\"#e26f46\" fill-rule=\"evenodd\" fill-opacity=\"1\" stroke=\"#000000\" stroke-opacity=\"1\" stroke-width=\"7.2\"/>\n",
       "<circle clip-path=\"url(#clip052)\" cx=\"3570.98\" cy=\"228.705\" r=\"14\" fill=\"#e26f46\" fill-rule=\"evenodd\" fill-opacity=\"1\" stroke=\"#000000\" stroke-opacity=\"1\" stroke-width=\"7.2\"/>\n",
       "<circle clip-path=\"url(#clip052)\" cx=\"345.313\" cy=\"2034.92\" r=\"14\" fill=\"#e26f46\" fill-rule=\"evenodd\" fill-opacity=\"1\" stroke=\"#000000\" stroke-opacity=\"1\" stroke-width=\"7.2\"/>\n",
       "<circle clip-path=\"url(#clip052)\" cx=\"1845.7\" cy=\"2168.23\" r=\"14\" fill=\"#e26f46\" fill-rule=\"evenodd\" fill-opacity=\"1\" stroke=\"#000000\" stroke-opacity=\"1\" stroke-width=\"7.2\"/>\n",
       "<circle clip-path=\"url(#clip052)\" cx=\"558.004\" cy=\"2133.04\" r=\"14\" fill=\"#e26f46\" fill-rule=\"evenodd\" fill-opacity=\"1\" stroke=\"#000000\" stroke-opacity=\"1\" stroke-width=\"7.2\"/>\n",
       "<circle clip-path=\"url(#clip052)\" cx=\"345.313\" cy=\"2034.92\" r=\"14\" fill=\"#e26f46\" fill-rule=\"evenodd\" fill-opacity=\"1\" stroke=\"#000000\" stroke-opacity=\"1\" stroke-width=\"7.2\"/>\n",
       "<circle clip-path=\"url(#clip052)\" cx=\"430.116\" cy=\"2273.88\" r=\"14\" fill=\"#e26f46\" fill-rule=\"evenodd\" fill-opacity=\"1\" stroke=\"#000000\" stroke-opacity=\"1\" stroke-width=\"7.2\"/>\n",
       "<circle clip-path=\"url(#clip052)\" cx=\"415.585\" cy=\"2112.14\" r=\"14\" fill=\"#e26f46\" fill-rule=\"evenodd\" fill-opacity=\"1\" stroke=\"#000000\" stroke-opacity=\"1\" stroke-width=\"7.2\"/>\n",
       "<circle clip-path=\"url(#clip052)\" cx=\"395.028\" cy=\"2107.37\" r=\"14\" fill=\"#3da44d\" fill-rule=\"evenodd\" fill-opacity=\"1\" stroke=\"#000000\" stroke-opacity=\"1\" stroke-width=\"7.2\"/>\n",
       "<circle clip-path=\"url(#clip052)\" cx=\"345.313\" cy=\"2034.92\" r=\"14\" fill=\"#3da44d\" fill-rule=\"evenodd\" fill-opacity=\"1\" stroke=\"#000000\" stroke-opacity=\"1\" stroke-width=\"7.2\"/>\n",
       "<circle clip-path=\"url(#clip052)\" cx=\"4549.9\" cy=\"143.892\" r=\"14\" fill=\"#3da44d\" fill-rule=\"evenodd\" fill-opacity=\"1\" stroke=\"#000000\" stroke-opacity=\"1\" stroke-width=\"7.2\"/>\n",
       "<circle clip-path=\"url(#clip052)\" cx=\"1672.77\" cy=\"2399.1\" r=\"14\" fill=\"#3da44d\" fill-rule=\"evenodd\" fill-opacity=\"1\" stroke=\"#000000\" stroke-opacity=\"1\" stroke-width=\"7.2\"/>\n",
       "<circle clip-path=\"url(#clip052)\" cx=\"1622.92\" cy=\"3365.48\" r=\"14\" fill=\"#3da44d\" fill-rule=\"evenodd\" fill-opacity=\"1\" stroke=\"#000000\" stroke-opacity=\"1\" stroke-width=\"7.2\"/>\n",
       "<circle clip-path=\"url(#clip052)\" cx=\"1463.48\" cy=\"2075.96\" r=\"14\" fill=\"#3da44d\" fill-rule=\"evenodd\" fill-opacity=\"1\" stroke=\"#000000\" stroke-opacity=\"1\" stroke-width=\"7.2\"/>\n",
       "<circle clip-path=\"url(#clip052)\" cx=\"481.845\" cy=\"2048.66\" r=\"14\" fill=\"#3da44d\" fill-rule=\"evenodd\" fill-opacity=\"1\" stroke=\"#000000\" stroke-opacity=\"1\" stroke-width=\"7.2\"/>\n",
       "<circle clip-path=\"url(#clip052)\" cx=\"581.752\" cy=\"2102.12\" r=\"14\" fill=\"#3da44d\" fill-rule=\"evenodd\" fill-opacity=\"1\" stroke=\"#000000\" stroke-opacity=\"1\" stroke-width=\"7.2\"/>\n",
       "<circle clip-path=\"url(#clip052)\" cx=\"731.679\" cy=\"2322.37\" r=\"14\" fill=\"#3da44d\" fill-rule=\"evenodd\" fill-opacity=\"1\" stroke=\"#000000\" stroke-opacity=\"1\" stroke-width=\"7.2\"/>\n",
       "<circle clip-path=\"url(#clip052)\" cx=\"3143.78\" cy=\"1590.93\" r=\"14\" fill=\"#3da44d\" fill-rule=\"evenodd\" fill-opacity=\"1\" stroke=\"#000000\" stroke-opacity=\"1\" stroke-width=\"7.2\"/>\n",
       "<circle clip-path=\"url(#clip052)\" cx=\"496.85\" cy=\"2221.19\" r=\"14\" fill=\"#3da44d\" fill-rule=\"evenodd\" fill-opacity=\"1\" stroke=\"#000000\" stroke-opacity=\"1\" stroke-width=\"7.2\"/>\n",
       "<circle clip-path=\"url(#clip052)\" cx=\"357.288\" cy=\"2049.09\" r=\"14\" fill=\"#3da44d\" fill-rule=\"evenodd\" fill-opacity=\"1\" stroke=\"#000000\" stroke-opacity=\"1\" stroke-width=\"7.2\"/>\n",
       "<circle clip-path=\"url(#clip052)\" cx=\"2186.64\" cy=\"2825.28\" r=\"14\" fill=\"#3da44d\" fill-rule=\"evenodd\" fill-opacity=\"1\" stroke=\"#000000\" stroke-opacity=\"1\" stroke-width=\"7.2\"/>\n",
       "<circle clip-path=\"url(#clip052)\" cx=\"708.573\" cy=\"2216.35\" r=\"14\" fill=\"#3da44d\" fill-rule=\"evenodd\" fill-opacity=\"1\" stroke=\"#000000\" stroke-opacity=\"1\" stroke-width=\"7.2\"/>\n",
       "<circle clip-path=\"url(#clip052)\" cx=\"464.214\" cy=\"2167.37\" r=\"14\" fill=\"#3da44d\" fill-rule=\"evenodd\" fill-opacity=\"1\" stroke=\"#000000\" stroke-opacity=\"1\" stroke-width=\"7.2\"/>\n",
       "<circle clip-path=\"url(#clip052)\" cx=\"850.408\" cy=\"2401.53\" r=\"14\" fill=\"#3da44d\" fill-rule=\"evenodd\" fill-opacity=\"1\" stroke=\"#000000\" stroke-opacity=\"1\" stroke-width=\"7.2\"/>\n",
       "<circle clip-path=\"url(#clip052)\" cx=\"2368.68\" cy=\"2557.02\" r=\"14\" fill=\"#3da44d\" fill-rule=\"evenodd\" fill-opacity=\"1\" stroke=\"#000000\" stroke-opacity=\"1\" stroke-width=\"7.2\"/>\n",
       "<circle clip-path=\"url(#clip052)\" cx=\"345.313\" cy=\"2034.92\" r=\"14\" fill=\"#3da44d\" fill-rule=\"evenodd\" fill-opacity=\"1\" stroke=\"#000000\" stroke-opacity=\"1\" stroke-width=\"7.2\"/>\n",
       "<circle clip-path=\"url(#clip052)\" cx=\"729.764\" cy=\"2585.04\" r=\"14\" fill=\"#3da44d\" fill-rule=\"evenodd\" fill-opacity=\"1\" stroke=\"#000000\" stroke-opacity=\"1\" stroke-width=\"7.2\"/>\n",
       "<circle clip-path=\"url(#clip052)\" cx=\"585.08\" cy=\"2457.3\" r=\"14\" fill=\"#3da44d\" fill-rule=\"evenodd\" fill-opacity=\"1\" stroke=\"#000000\" stroke-opacity=\"1\" stroke-width=\"7.2\"/>\n",
       "<circle clip-path=\"url(#clip052)\" cx=\"3197.74\" cy=\"2005.79\" r=\"14\" fill=\"#3da44d\" fill-rule=\"evenodd\" fill-opacity=\"1\" stroke=\"#000000\" stroke-opacity=\"1\" stroke-width=\"7.2\"/>\n",
       "<circle clip-path=\"url(#clip052)\" cx=\"396.051\" cy=\"2158.62\" r=\"14\" fill=\"#3da44d\" fill-rule=\"evenodd\" fill-opacity=\"1\" stroke=\"#000000\" stroke-opacity=\"1\" stroke-width=\"7.2\"/>\n",
       "<circle clip-path=\"url(#clip052)\" cx=\"522.647\" cy=\"2350.7\" r=\"14\" fill=\"#3da44d\" fill-rule=\"evenodd\" fill-opacity=\"1\" stroke=\"#000000\" stroke-opacity=\"1\" stroke-width=\"7.2\"/>\n",
       "<circle clip-path=\"url(#clip052)\" cx=\"399.518\" cy=\"2091.52\" r=\"14\" fill=\"#3da44d\" fill-rule=\"evenodd\" fill-opacity=\"1\" stroke=\"#000000\" stroke-opacity=\"1\" stroke-width=\"7.2\"/>\n",
       "<circle clip-path=\"url(#clip052)\" cx=\"1993.22\" cy=\"1485.1\" r=\"14\" fill=\"#3da44d\" fill-rule=\"evenodd\" fill-opacity=\"1\" stroke=\"#000000\" stroke-opacity=\"1\" stroke-width=\"7.2\"/>\n",
       "<circle clip-path=\"url(#clip052)\" cx=\"345.313\" cy=\"2034.92\" r=\"14\" fill=\"#3da44d\" fill-rule=\"evenodd\" fill-opacity=\"1\" stroke=\"#000000\" stroke-opacity=\"1\" stroke-width=\"7.2\"/>\n",
       "<circle clip-path=\"url(#clip052)\" cx=\"670.712\" cy=\"2256.63\" r=\"14\" fill=\"#3da44d\" fill-rule=\"evenodd\" fill-opacity=\"1\" stroke=\"#000000\" stroke-opacity=\"1\" stroke-width=\"7.2\"/>\n",
       "<circle clip-path=\"url(#clip052)\" cx=\"975.005\" cy=\"3131.63\" r=\"14\" fill=\"#3da44d\" fill-rule=\"evenodd\" fill-opacity=\"1\" stroke=\"#000000\" stroke-opacity=\"1\" stroke-width=\"7.2\"/>\n",
       "<circle clip-path=\"url(#clip052)\" cx=\"345.313\" cy=\"2034.92\" r=\"14\" fill=\"#3da44d\" fill-rule=\"evenodd\" fill-opacity=\"1\" stroke=\"#000000\" stroke-opacity=\"1\" stroke-width=\"7.2\"/>\n",
       "<circle clip-path=\"url(#clip052)\" cx=\"345.313\" cy=\"2034.92\" r=\"14\" fill=\"#3da44d\" fill-rule=\"evenodd\" fill-opacity=\"1\" stroke=\"#000000\" stroke-opacity=\"1\" stroke-width=\"7.2\"/>\n",
       "<circle clip-path=\"url(#clip052)\" cx=\"473.693\" cy=\"2234.93\" r=\"14\" fill=\"#3da44d\" fill-rule=\"evenodd\" fill-opacity=\"1\" stroke=\"#000000\" stroke-opacity=\"1\" stroke-width=\"7.2\"/>\n",
       "<circle clip-path=\"url(#clip052)\" cx=\"400.819\" cy=\"2085.9\" r=\"14\" fill=\"#3da44d\" fill-rule=\"evenodd\" fill-opacity=\"1\" stroke=\"#000000\" stroke-opacity=\"1\" stroke-width=\"7.2\"/>\n",
       "<circle clip-path=\"url(#clip052)\" cx=\"345.313\" cy=\"2034.92\" r=\"14\" fill=\"#3da44d\" fill-rule=\"evenodd\" fill-opacity=\"1\" stroke=\"#000000\" stroke-opacity=\"1\" stroke-width=\"7.2\"/>\n",
       "<circle clip-path=\"url(#clip052)\" cx=\"1609.34\" cy=\"2538.93\" r=\"14\" fill=\"#3da44d\" fill-rule=\"evenodd\" fill-opacity=\"1\" stroke=\"#000000\" stroke-opacity=\"1\" stroke-width=\"7.2\"/>\n",
       "<circle clip-path=\"url(#clip052)\" cx=\"1290.76\" cy=\"2090.32\" r=\"14\" fill=\"#c271d2\" fill-rule=\"evenodd\" fill-opacity=\"1\" stroke=\"#000000\" stroke-opacity=\"1\" stroke-width=\"7.2\"/>\n",
       "<circle clip-path=\"url(#clip052)\" cx=\"345.313\" cy=\"2034.92\" r=\"14\" fill=\"#c271d2\" fill-rule=\"evenodd\" fill-opacity=\"1\" stroke=\"#000000\" stroke-opacity=\"1\" stroke-width=\"7.2\"/>\n",
       "<circle clip-path=\"url(#clip052)\" cx=\"2831.4\" cy=\"1937.27\" r=\"14\" fill=\"#c271d2\" fill-rule=\"evenodd\" fill-opacity=\"1\" stroke=\"#000000\" stroke-opacity=\"1\" stroke-width=\"7.2\"/>\n",
       "<circle clip-path=\"url(#clip052)\" cx=\"359.343\" cy=\"2075.9\" r=\"14\" fill=\"#c271d2\" fill-rule=\"evenodd\" fill-opacity=\"1\" stroke=\"#000000\" stroke-opacity=\"1\" stroke-width=\"7.2\"/>\n",
       "<circle clip-path=\"url(#clip052)\" cx=\"345.313\" cy=\"2034.92\" r=\"14\" fill=\"#c271d2\" fill-rule=\"evenodd\" fill-opacity=\"1\" stroke=\"#000000\" stroke-opacity=\"1\" stroke-width=\"7.2\"/>\n",
       "<circle clip-path=\"url(#clip052)\" cx=\"1060.23\" cy=\"2699.72\" r=\"14\" fill=\"#c271d2\" fill-rule=\"evenodd\" fill-opacity=\"1\" stroke=\"#000000\" stroke-opacity=\"1\" stroke-width=\"7.2\"/>\n",
       "<circle clip-path=\"url(#clip052)\" cx=\"1004.17\" cy=\"2776.28\" r=\"14\" fill=\"#c271d2\" fill-rule=\"evenodd\" fill-opacity=\"1\" stroke=\"#000000\" stroke-opacity=\"1\" stroke-width=\"7.2\"/>\n",
       "<circle clip-path=\"url(#clip052)\" cx=\"345.313\" cy=\"2034.92\" r=\"14\" fill=\"#c271d2\" fill-rule=\"evenodd\" fill-opacity=\"1\" stroke=\"#000000\" stroke-opacity=\"1\" stroke-width=\"7.2\"/>\n",
       "<circle clip-path=\"url(#clip052)\" cx=\"345.313\" cy=\"2034.92\" r=\"14\" fill=\"#c271d2\" fill-rule=\"evenodd\" fill-opacity=\"1\" stroke=\"#000000\" stroke-opacity=\"1\" stroke-width=\"7.2\"/>\n",
       "<circle clip-path=\"url(#clip052)\" cx=\"348.147\" cy=\"2042.25\" r=\"14\" fill=\"#c271d2\" fill-rule=\"evenodd\" fill-opacity=\"1\" stroke=\"#000000\" stroke-opacity=\"1\" stroke-width=\"7.2\"/>\n",
       "<circle clip-path=\"url(#clip052)\" cx=\"386.941\" cy=\"2127.39\" r=\"14\" fill=\"#c271d2\" fill-rule=\"evenodd\" fill-opacity=\"1\" stroke=\"#000000\" stroke-opacity=\"1\" stroke-width=\"7.2\"/>\n",
       "<circle clip-path=\"url(#clip052)\" cx=\"345.313\" cy=\"2034.92\" r=\"14\" fill=\"#c271d2\" fill-rule=\"evenodd\" fill-opacity=\"1\" stroke=\"#000000\" stroke-opacity=\"1\" stroke-width=\"7.2\"/>\n",
       "<circle clip-path=\"url(#clip052)\" cx=\"345.313\" cy=\"2034.92\" r=\"14\" fill=\"#c271d2\" fill-rule=\"evenodd\" fill-opacity=\"1\" stroke=\"#000000\" stroke-opacity=\"1\" stroke-width=\"7.2\"/>\n",
       "<circle clip-path=\"url(#clip052)\" cx=\"345.313\" cy=\"2034.92\" r=\"14\" fill=\"#c271d2\" fill-rule=\"evenodd\" fill-opacity=\"1\" stroke=\"#000000\" stroke-opacity=\"1\" stroke-width=\"7.2\"/>\n",
       "<circle clip-path=\"url(#clip052)\" cx=\"345.313\" cy=\"2034.92\" r=\"14\" fill=\"#c271d2\" fill-rule=\"evenodd\" fill-opacity=\"1\" stroke=\"#000000\" stroke-opacity=\"1\" stroke-width=\"7.2\"/>\n",
       "<circle clip-path=\"url(#clip052)\" cx=\"361.484\" cy=\"2077.63\" r=\"14\" fill=\"#c271d2\" fill-rule=\"evenodd\" fill-opacity=\"1\" stroke=\"#000000\" stroke-opacity=\"1\" stroke-width=\"7.2\"/>\n",
       "<circle clip-path=\"url(#clip052)\" cx=\"345.313\" cy=\"2034.92\" r=\"14\" fill=\"#c271d2\" fill-rule=\"evenodd\" fill-opacity=\"1\" stroke=\"#000000\" stroke-opacity=\"1\" stroke-width=\"7.2\"/>\n",
       "<circle clip-path=\"url(#clip052)\" cx=\"345.313\" cy=\"2034.92\" r=\"14\" fill=\"#c271d2\" fill-rule=\"evenodd\" fill-opacity=\"1\" stroke=\"#000000\" stroke-opacity=\"1\" stroke-width=\"7.2\"/>\n",
       "<circle clip-path=\"url(#clip052)\" cx=\"1936.91\" cy=\"2615.4\" r=\"14\" fill=\"#c271d2\" fill-rule=\"evenodd\" fill-opacity=\"1\" stroke=\"#000000\" stroke-opacity=\"1\" stroke-width=\"7.2\"/>\n",
       "<circle clip-path=\"url(#clip052)\" cx=\"345.313\" cy=\"2034.92\" r=\"14\" fill=\"#c271d2\" fill-rule=\"evenodd\" fill-opacity=\"1\" stroke=\"#000000\" stroke-opacity=\"1\" stroke-width=\"7.2\"/>\n",
       "<circle clip-path=\"url(#clip052)\" cx=\"525.626\" cy=\"2310.98\" r=\"14\" fill=\"#c271d2\" fill-rule=\"evenodd\" fill-opacity=\"1\" stroke=\"#000000\" stroke-opacity=\"1\" stroke-width=\"7.2\"/>\n",
       "<circle clip-path=\"url(#clip052)\" cx=\"345.663\" cy=\"2036.38\" r=\"14\" fill=\"#c271d2\" fill-rule=\"evenodd\" fill-opacity=\"1\" stroke=\"#000000\" stroke-opacity=\"1\" stroke-width=\"7.2\"/>\n",
       "<circle clip-path=\"url(#clip052)\" cx=\"1757.39\" cy=\"2805.12\" r=\"14\" fill=\"#c271d2\" fill-rule=\"evenodd\" fill-opacity=\"1\" stroke=\"#000000\" stroke-opacity=\"1\" stroke-width=\"7.2\"/>\n",
       "<circle clip-path=\"url(#clip052)\" cx=\"384.827\" cy=\"2160.82\" r=\"14\" fill=\"#c271d2\" fill-rule=\"evenodd\" fill-opacity=\"1\" stroke=\"#000000\" stroke-opacity=\"1\" stroke-width=\"7.2\"/>\n",
       "<circle clip-path=\"url(#clip052)\" cx=\"345.313\" cy=\"2034.92\" r=\"14\" fill=\"#c271d2\" fill-rule=\"evenodd\" fill-opacity=\"1\" stroke=\"#000000\" stroke-opacity=\"1\" stroke-width=\"7.2\"/>\n",
       "<circle clip-path=\"url(#clip052)\" cx=\"345.313\" cy=\"2034.92\" r=\"14\" fill=\"#c271d2\" fill-rule=\"evenodd\" fill-opacity=\"1\" stroke=\"#000000\" stroke-opacity=\"1\" stroke-width=\"7.2\"/>\n",
       "<circle clip-path=\"url(#clip052)\" cx=\"445.315\" cy=\"2267.93\" r=\"14\" fill=\"#c271d2\" fill-rule=\"evenodd\" fill-opacity=\"1\" stroke=\"#000000\" stroke-opacity=\"1\" stroke-width=\"7.2\"/>\n",
       "<circle clip-path=\"url(#clip052)\" cx=\"345.313\" cy=\"2034.92\" r=\"14\" fill=\"#c271d2\" fill-rule=\"evenodd\" fill-opacity=\"1\" stroke=\"#000000\" stroke-opacity=\"1\" stroke-width=\"7.2\"/>\n",
       "<circle clip-path=\"url(#clip052)\" cx=\"345.313\" cy=\"2034.92\" r=\"14\" fill=\"#c271d2\" fill-rule=\"evenodd\" fill-opacity=\"1\" stroke=\"#000000\" stroke-opacity=\"1\" stroke-width=\"7.2\"/>\n",
       "<circle clip-path=\"url(#clip052)\" cx=\"345.313\" cy=\"2034.92\" r=\"14\" fill=\"#c271d2\" fill-rule=\"evenodd\" fill-opacity=\"1\" stroke=\"#000000\" stroke-opacity=\"1\" stroke-width=\"7.2\"/>\n",
       "<circle clip-path=\"url(#clip052)\" cx=\"1881.32\" cy=\"2819.28\" r=\"14\" fill=\"#c271d2\" fill-rule=\"evenodd\" fill-opacity=\"1\" stroke=\"#000000\" stroke-opacity=\"1\" stroke-width=\"7.2\"/>\n",
       "<circle clip-path=\"url(#clip052)\" cx=\"345.313\" cy=\"2034.92\" r=\"14\" fill=\"#c271d2\" fill-rule=\"evenodd\" fill-opacity=\"1\" stroke=\"#000000\" stroke-opacity=\"1\" stroke-width=\"7.2\"/>\n",
       "<circle clip-path=\"url(#clip052)\" cx=\"685.691\" cy=\"2332.96\" r=\"14\" fill=\"#ac8d18\" fill-rule=\"evenodd\" fill-opacity=\"1\" stroke=\"#000000\" stroke-opacity=\"1\" stroke-width=\"7.2\"/>\n",
       "<circle clip-path=\"url(#clip052)\" cx=\"345.313\" cy=\"2034.92\" r=\"14\" fill=\"#ac8d18\" fill-rule=\"evenodd\" fill-opacity=\"1\" stroke=\"#000000\" stroke-opacity=\"1\" stroke-width=\"7.2\"/>\n",
       "<circle clip-path=\"url(#clip052)\" cx=\"345.313\" cy=\"2034.92\" r=\"14\" fill=\"#ac8d18\" fill-rule=\"evenodd\" fill-opacity=\"1\" stroke=\"#000000\" stroke-opacity=\"1\" stroke-width=\"7.2\"/>\n",
       "<circle clip-path=\"url(#clip052)\" cx=\"345.313\" cy=\"2034.92\" r=\"14\" fill=\"#ac8d18\" fill-rule=\"evenodd\" fill-opacity=\"1\" stroke=\"#000000\" stroke-opacity=\"1\" stroke-width=\"7.2\"/>\n",
       "<circle clip-path=\"url(#clip052)\" cx=\"345.313\" cy=\"2034.92\" r=\"14\" fill=\"#ac8d18\" fill-rule=\"evenodd\" fill-opacity=\"1\" stroke=\"#000000\" stroke-opacity=\"1\" stroke-width=\"7.2\"/>\n",
       "<circle clip-path=\"url(#clip052)\" cx=\"345.313\" cy=\"2034.92\" r=\"14\" fill=\"#ac8d18\" fill-rule=\"evenodd\" fill-opacity=\"1\" stroke=\"#000000\" stroke-opacity=\"1\" stroke-width=\"7.2\"/>\n",
       "<circle clip-path=\"url(#clip052)\" cx=\"345.313\" cy=\"2034.92\" r=\"14\" fill=\"#ac8d18\" fill-rule=\"evenodd\" fill-opacity=\"1\" stroke=\"#000000\" stroke-opacity=\"1\" stroke-width=\"7.2\"/>\n",
       "<circle clip-path=\"url(#clip052)\" cx=\"345.313\" cy=\"2034.92\" r=\"14\" fill=\"#ac8d18\" fill-rule=\"evenodd\" fill-opacity=\"1\" stroke=\"#000000\" stroke-opacity=\"1\" stroke-width=\"7.2\"/>\n",
       "<circle clip-path=\"url(#clip052)\" cx=\"345.313\" cy=\"2034.92\" r=\"14\" fill=\"#ac8d18\" fill-rule=\"evenodd\" fill-opacity=\"1\" stroke=\"#000000\" stroke-opacity=\"1\" stroke-width=\"7.2\"/>\n",
       "<circle clip-path=\"url(#clip052)\" cx=\"345.313\" cy=\"2034.92\" r=\"14\" fill=\"#ac8d18\" fill-rule=\"evenodd\" fill-opacity=\"1\" stroke=\"#000000\" stroke-opacity=\"1\" stroke-width=\"7.2\"/>\n",
       "<circle clip-path=\"url(#clip052)\" cx=\"345.313\" cy=\"2034.92\" r=\"14\" fill=\"#ac8d18\" fill-rule=\"evenodd\" fill-opacity=\"1\" stroke=\"#000000\" stroke-opacity=\"1\" stroke-width=\"7.2\"/>\n",
       "<circle clip-path=\"url(#clip052)\" cx=\"513.829\" cy=\"2342.89\" r=\"14\" fill=\"#ac8d18\" fill-rule=\"evenodd\" fill-opacity=\"1\" stroke=\"#000000\" stroke-opacity=\"1\" stroke-width=\"7.2\"/>\n",
       "<circle clip-path=\"url(#clip052)\" cx=\"345.313\" cy=\"2034.92\" r=\"14\" fill=\"#ac8d18\" fill-rule=\"evenodd\" fill-opacity=\"1\" stroke=\"#000000\" stroke-opacity=\"1\" stroke-width=\"7.2\"/>\n",
       "<circle clip-path=\"url(#clip052)\" cx=\"345.313\" cy=\"2034.92\" r=\"14\" fill=\"#ac8d18\" fill-rule=\"evenodd\" fill-opacity=\"1\" stroke=\"#000000\" stroke-opacity=\"1\" stroke-width=\"7.2\"/>\n",
       "<circle clip-path=\"url(#clip052)\" cx=\"346.539\" cy=\"2040.02\" r=\"14\" fill=\"#ac8d18\" fill-rule=\"evenodd\" fill-opacity=\"1\" stroke=\"#000000\" stroke-opacity=\"1\" stroke-width=\"7.2\"/>\n",
       "<circle clip-path=\"url(#clip052)\" cx=\"345.313\" cy=\"2034.92\" r=\"14\" fill=\"#ac8d18\" fill-rule=\"evenodd\" fill-opacity=\"1\" stroke=\"#000000\" stroke-opacity=\"1\" stroke-width=\"7.2\"/>\n",
       "<circle clip-path=\"url(#clip052)\" cx=\"677.567\" cy=\"2348.07\" r=\"14\" fill=\"#ac8d18\" fill-rule=\"evenodd\" fill-opacity=\"1\" stroke=\"#000000\" stroke-opacity=\"1\" stroke-width=\"7.2\"/>\n",
       "<circle clip-path=\"url(#clip052)\" cx=\"345.313\" cy=\"2034.92\" r=\"14\" fill=\"#ac8d18\" fill-rule=\"evenodd\" fill-opacity=\"1\" stroke=\"#000000\" stroke-opacity=\"1\" stroke-width=\"7.2\"/>\n",
       "<circle clip-path=\"url(#clip052)\" cx=\"919.042\" cy=\"2509.04\" r=\"14\" fill=\"#ac8d18\" fill-rule=\"evenodd\" fill-opacity=\"1\" stroke=\"#000000\" stroke-opacity=\"1\" stroke-width=\"7.2\"/>\n",
       "<circle clip-path=\"url(#clip052)\" cx=\"345.313\" cy=\"2034.92\" r=\"14\" fill=\"#ac8d18\" fill-rule=\"evenodd\" fill-opacity=\"1\" stroke=\"#000000\" stroke-opacity=\"1\" stroke-width=\"7.2\"/>\n",
       "<circle clip-path=\"url(#clip052)\" cx=\"345.313\" cy=\"2034.92\" r=\"14\" fill=\"#ac8d18\" fill-rule=\"evenodd\" fill-opacity=\"1\" stroke=\"#000000\" stroke-opacity=\"1\" stroke-width=\"7.2\"/>\n",
       "<circle clip-path=\"url(#clip052)\" cx=\"2799.33\" cy=\"1772.55\" r=\"14\" fill=\"#ac8d18\" fill-rule=\"evenodd\" fill-opacity=\"1\" stroke=\"#000000\" stroke-opacity=\"1\" stroke-width=\"7.2\"/>\n",
       "<circle clip-path=\"url(#clip052)\" cx=\"345.313\" cy=\"2034.92\" r=\"14\" fill=\"#ac8d18\" fill-rule=\"evenodd\" fill-opacity=\"1\" stroke=\"#000000\" stroke-opacity=\"1\" stroke-width=\"7.2\"/>\n",
       "</svg>\n"
      ]
     },
     "execution_count": 24,
     "metadata": {},
     "output_type": "execute_result"
    }
   ],
   "source": [
    "scatter(X3[c(1),1],X3[c(1),2], legend = false, size = (1200,900))\n",
    "scatter!(X3[c(2),1],X3[c(2),2])\n",
    "scatter!(X3[c(3),1],X3[c(3),2])\n",
    "scatter!(X3[c(4),1],X3[c(4),2])\n",
    "scatter!(X3[c(5),1],X3[c(5),2])\n"
   ]
  },
  {
   "cell_type": "code",
   "execution_count": 25,
   "metadata": {},
   "outputs": [
    {
     "data": {
      "text/plain": [
       "32-element Vector{Float64}:\n",
       "  0.986239158960069\n",
       " -0.4982197753347508\n",
       "  3.3270781673229806\n",
       " -0.4982197753347508\n",
       " -0.4982197753347508\n",
       "  0.21158912155803716\n",
       "  0.10405167090222943\n",
       " -0.4982197753347508\n",
       " -0.4982197753347508\n",
       " -0.49228874013687474\n",
       " -0.4982197753347508\n",
       " -0.4982197753347508\n",
       " -0.4982197753347508\n",
       "  ⋮\n",
       " -0.4635794232454287\n",
       " -0.4982197753347508\n",
       "  0.82637180000582\n",
       " -0.447090856809221\n",
       " -0.4982197753347508\n",
       " -0.4982197753347508\n",
       " -0.4259580373251915\n",
       " -0.4982197753347508\n",
       " -0.4982197753347508\n",
       " -0.4982197753347508\n",
       "  1.7921682432070345\n",
       " -0.4982197753347508"
      ]
     },
     "execution_count": 25,
     "metadata": {},
     "output_type": "execute_result"
    }
   ],
   "source": [
    "X2[c(4),1,2,1]"
   ]
  },
  {
   "cell_type": "markdown",
   "metadata": {},
   "source": [
    "<hr>"
   ]
  },
  {
   "cell_type": "code",
   "execution_count": 26,
   "metadata": {},
   "outputs": [],
   "source": [
    "Xx = reshape(X,(N,28,28));"
   ]
  },
  {
   "cell_type": "code",
   "execution_count": 27,
   "metadata": {},
   "outputs": [
    {
     "data": {
      "image/png": "[encoded data removed]",
      "text/plain": [
       "28×28 Array{Gray{Float64},2} with eltype Gray{Float64}:\n",
       " Gray{Float64}(0.0)  Gray{Float64}(0.0)  …  Gray{Float64}(0.0)\n",
       " Gray{Float64}(0.0)  Gray{Float64}(0.0)     Gray{Float64}(0.0)\n",
       " Gray{Float64}(0.0)  Gray{Float64}(0.0)     Gray{Float64}(0.0)\n",
       " Gray{Float64}(0.0)  Gray{Float64}(0.0)     Gray{Float64}(0.0)\n",
       " Gray{Float64}(0.0)  Gray{Float64}(0.0)     Gray{Float64}(0.0)\n",
       " Gray{Float64}(0.0)  Gray{Float64}(0.0)  …  Gray{Float64}(0.0)\n",
       " Gray{Float64}(0.0)  Gray{Float64}(0.0)     Gray{Float64}(0.0)\n",
       " Gray{Float64}(0.0)  Gray{Float64}(0.0)     Gray{Float64}(0.0)\n",
       " Gray{Float64}(0.0)  Gray{Float64}(0.0)     Gray{Float64}(0.0)\n",
       " Gray{Float64}(0.0)  Gray{Float64}(0.0)     Gray{Float64}(0.0)\n",
       " Gray{Float64}(0.0)  Gray{Float64}(0.0)  …  Gray{Float64}(0.0)\n",
       " Gray{Float64}(0.0)  Gray{Float64}(0.0)     Gray{Float64}(0.0)\n",
       " Gray{Float64}(0.0)  Gray{Float64}(0.0)     Gray{Float64}(0.0)\n",
       " ⋮                                       ⋱  \n",
       " Gray{Float64}(0.0)  Gray{Float64}(0.0)     Gray{Float64}(0.0)\n",
       " Gray{Float64}(0.0)  Gray{Float64}(0.0)     Gray{Float64}(0.0)\n",
       " Gray{Float64}(0.0)  Gray{Float64}(0.0)     Gray{Float64}(0.0)\n",
       " Gray{Float64}(0.0)  Gray{Float64}(0.0)     Gray{Float64}(0.0)\n",
       " Gray{Float64}(0.0)  Gray{Float64}(0.0)  …  Gray{Float64}(0.0)\n",
       " Gray{Float64}(0.0)  Gray{Float64}(0.0)     Gray{Float64}(0.0)\n",
       " Gray{Float64}(0.0)  Gray{Float64}(0.0)     Gray{Float64}(0.0)\n",
       " Gray{Float64}(0.0)  Gray{Float64}(0.0)     Gray{Float64}(0.0)\n",
       " Gray{Float64}(0.0)  Gray{Float64}(0.0)     Gray{Float64}(0.0)\n",
       " Gray{Float64}(0.0)  Gray{Float64}(0.0)  …  Gray{Float64}(0.0)\n",
       " Gray{Float64}(0.0)  Gray{Float64}(0.0)     Gray{Float64}(0.0)\n",
       " Gray{Float64}(0.0)  Gray{Float64}(0.0)     Gray{Float64}(0.0)"
      ]
     },
     "execution_count": 27,
     "metadata": {},
     "output_type": "execute_result"
    }
   ],
   "source": [
    "Gray.(Xx[6,:,:])"
   ]
  },
  {
   "cell_type": "code",
   "execution_count": 28,
   "metadata": {},
   "outputs": [
    {
     "data": {
      "image/svg+xml": [
       "<?xml version=\"1.0\" encoding=\"utf-8\"?>\n",
       "<svg xmlns=\"http://www.w3.org/2000/svg\" xmlns:xlink=\"http://www.w3.org/1999/xlink\" width=\"600\" height=\"400\" viewBox=\"0 0 2400 1600\">\n",
       "<defs>\n",
       "  <clipPath id=\"clip090\">\n",
       "    <rect x=\"0\" y=\"0\" width=\"2400\" height=\"1600\"/>\n",
       "  </clipPath>\n",
       "</defs>\n",
       "<path clip-path=\"url(#clip090)\" d=\"\n",
       "M0 1600 L2400 1600 L2400 0 L0 0  Z\n",
       "  \" fill=\"#ffffff\" fill-rule=\"evenodd\" fill-opacity=\"1\"/>\n",
       "<defs>\n",
       "  <clipPath id=\"clip091\">\n",
       "    <rect x=\"480\" y=\"0\" width=\"1681\" height=\"1600\"/>\n",
       "  </clipPath>\n",
       "</defs>\n",
       "<path clip-path=\"url(#clip090)\" d=\"\n",
       "M170.857 1486.45 L2352.76 1486.45 L2352.76 47.2441 L170.857 47.2441  Z\n",
       "  \" fill=\"#ffffff\" fill-rule=\"evenodd\" fill-opacity=\"1\"/>\n",
       "<defs>\n",
       "  <clipPath id=\"clip092\">\n",
       "    <rect x=\"170\" y=\"47\" width=\"2183\" height=\"1440\"/>\n",
       "  </clipPath>\n",
       "</defs>\n",
       "<polyline clip-path=\"url(#clip092)\" style=\"stroke:#000000; stroke-width:2; stroke-opacity:0.1; fill:none\" points=\"\n",
       "  485.054,1486.45 485.054,47.2441 \n",
       "  \"/>\n",
       "<polyline clip-path=\"url(#clip092)\" style=\"stroke:#000000; stroke-width:2; stroke-opacity:0.1; fill:none\" points=\"\n",
       "  873.43,1486.45 873.43,47.2441 \n",
       "  \"/>\n",
       "<polyline clip-path=\"url(#clip092)\" style=\"stroke:#000000; stroke-width:2; stroke-opacity:0.1; fill:none\" points=\"\n",
       "  1261.81,1486.45 1261.81,47.2441 \n",
       "  \"/>\n",
       "<polyline clip-path=\"url(#clip092)\" style=\"stroke:#000000; stroke-width:2; stroke-opacity:0.1; fill:none\" points=\"\n",
       "  1650.18,1486.45 1650.18,47.2441 \n",
       "  \"/>\n",
       "<polyline clip-path=\"url(#clip092)\" style=\"stroke:#000000; stroke-width:2; stroke-opacity:0.1; fill:none\" points=\"\n",
       "  2038.56,1486.45 2038.56,47.2441 \n",
       "  \"/>\n",
       "<polyline clip-path=\"url(#clip090)\" style=\"stroke:#000000; stroke-width:4; stroke-opacity:1; fill:none\" points=\"\n",
       "  170.857,1486.45 2352.76,1486.45 \n",
       "  \"/>\n",
       "<polyline clip-path=\"url(#clip090)\" style=\"stroke:#000000; stroke-width:4; stroke-opacity:1; fill:none\" points=\"\n",
       "  485.054,1486.45 485.054,1469.18 \n",
       "  \"/>\n",
       "<polyline clip-path=\"url(#clip090)\" style=\"stroke:#000000; stroke-width:4; stroke-opacity:1; fill:none\" points=\"\n",
       "  873.43,1486.45 873.43,1469.18 \n",
       "  \"/>\n",
       "<polyline clip-path=\"url(#clip090)\" style=\"stroke:#000000; stroke-width:4; stroke-opacity:1; fill:none\" points=\"\n",
       "  1261.81,1486.45 1261.81,1469.18 \n",
       "  \"/>\n",
       "<polyline clip-path=\"url(#clip090)\" style=\"stroke:#000000; stroke-width:4; stroke-opacity:1; fill:none\" points=\"\n",
       "  1650.18,1486.45 1650.18,1469.18 \n",
       "  \"/>\n",
       "<polyline clip-path=\"url(#clip090)\" style=\"stroke:#000000; stroke-width:4; stroke-opacity:1; fill:none\" points=\"\n",
       "  2038.56,1486.45 2038.56,1469.18 \n",
       "  \"/>\n",
       "<path clip-path=\"url(#clip090)\" d=\"M 0 0 M431.339 1530.29 L461.015 1530.29 L461.015 1534.23 L431.339 1534.23 L431.339 1530.29 Z\" fill=\"#000000\" fill-rule=\"evenodd\" fill-opacity=\"1\" /><path clip-path=\"url(#clip090)\" d=\"M 0 0 M471.917 1543.18 L479.556 1543.18 L479.556 1516.82 L471.246 1518.49 L471.246 1514.23 L479.51 1512.56 L484.186 1512.56 L484.186 1543.18 L491.825 1543.18 L491.825 1547.12 L471.917 1547.12 L471.917 1543.18 Z\" fill=\"#000000\" fill-rule=\"evenodd\" fill-opacity=\"1\" /><path clip-path=\"url(#clip090)\" d=\"M 0 0 M501.269 1541.24 L506.153 1541.24 L506.153 1547.12 L501.269 1547.12 L501.269 1541.24 Z\" fill=\"#000000\" fill-rule=\"evenodd\" fill-opacity=\"1\" /><path clip-path=\"url(#clip090)\" d=\"M 0 0 M529.186 1516.63 L517.38 1535.08 L529.186 1535.08 L529.186 1516.63 M527.959 1512.56 L533.838 1512.56 L533.838 1535.08 L538.769 1535.08 L538.769 1538.97 L533.838 1538.97 L533.838 1547.12 L529.186 1547.12 L529.186 1538.97 L513.584 1538.97 L513.584 1534.46 L527.959 1512.56 Z\" fill=\"#000000\" fill-rule=\"evenodd\" fill-opacity=\"1\" /><path clip-path=\"url(#clip090)\" d=\"M 0 0 M820.757 1530.29 L850.433 1530.29 L850.433 1534.23 L820.757 1534.23 L820.757 1530.29 Z\" fill=\"#000000\" fill-rule=\"evenodd\" fill-opacity=\"1\" /><path clip-path=\"url(#clip090)\" d=\"M 0 0 M861.335 1543.18 L868.974 1543.18 L868.974 1516.82 L860.664 1518.49 L860.664 1514.23 L868.928 1512.56 L873.604 1512.56 L873.604 1543.18 L881.243 1543.18 L881.243 1547.12 L861.335 1547.12 L861.335 1543.18 Z\" fill=\"#000000\" fill-rule=\"evenodd\" fill-opacity=\"1\" /><path clip-path=\"url(#clip090)\" d=\"M 0 0 M890.687 1541.24 L895.571 1541.24 L895.571 1547.12 L890.687 1547.12 L890.687 1541.24 Z\" fill=\"#000000\" fill-rule=\"evenodd\" fill-opacity=\"1\" /><path clip-path=\"url(#clip090)\" d=\"M 0 0 M909.784 1543.18 L926.104 1543.18 L926.104 1547.12 L904.159 1547.12 L904.159 1543.18 Q906.821 1540.43 911.405 1535.8 Q916.011 1531.15 917.192 1529.81 Q919.437 1527.28 920.317 1525.55 Q921.219 1523.79 921.219 1522.1 Q921.219 1519.34 919.275 1517.61 Q917.354 1515.87 914.252 1515.87 Q912.053 1515.87 909.599 1516.63 Q907.169 1517.4 904.391 1518.95 L904.391 1514.23 Q907.215 1513.09 909.669 1512.51 Q912.122 1511.93 914.159 1511.93 Q919.53 1511.93 922.724 1514.62 Q925.918 1517.31 925.918 1521.8 Q925.918 1523.93 925.108 1525.85 Q924.321 1527.74 922.215 1530.34 Q921.636 1531.01 918.534 1534.23 Q915.432 1537.42 909.784 1543.18 Z\" fill=\"#000000\" fill-rule=\"evenodd\" fill-opacity=\"1\" /><path clip-path=\"url(#clip090)\" d=\"M 0 0 M1208.33 1530.29 L1238.01 1530.29 L1238.01 1534.23 L1208.33 1534.23 L1208.33 1530.29 Z\" fill=\"#000000\" fill-rule=\"evenodd\" fill-opacity=\"1\" /><path clip-path=\"url(#clip090)\" d=\"M 0 0 M1248.91 1543.18 L1256.55 1543.18 L1256.55 1516.82 L1248.24 1518.49 L1248.24 1514.23 L1256.51 1512.56 L1261.18 1512.56 L1261.18 1543.18 L1268.82 1543.18 L1268.82 1547.12 L1248.91 1547.12 L1248.91 1543.18 Z\" fill=\"#000000\" fill-rule=\"evenodd\" fill-opacity=\"1\" /><path clip-path=\"url(#clip090)\" d=\"M 0 0 M1278.26 1541.24 L1283.15 1541.24 L1283.15 1547.12 L1278.26 1547.12 L1278.26 1541.24 Z\" fill=\"#000000\" fill-rule=\"evenodd\" fill-opacity=\"1\" /><path clip-path=\"url(#clip090)\" d=\"M 0 0 M1303.33 1515.64 Q1299.72 1515.64 1297.89 1519.2 Q1296.09 1522.75 1296.09 1529.87 Q1296.09 1536.98 1297.89 1540.55 Q1299.72 1544.09 1303.33 1544.09 Q1306.97 1544.09 1308.77 1540.55 Q1310.6 1536.98 1310.6 1529.87 Q1310.6 1522.75 1308.77 1519.2 Q1306.97 1515.64 1303.33 1515.64 M1303.33 1511.93 Q1309.14 1511.93 1312.2 1516.54 Q1315.28 1521.12 1315.28 1529.87 Q1315.28 1538.6 1312.2 1543.21 Q1309.14 1547.79 1303.33 1547.79 Q1297.52 1547.79 1294.45 1543.21 Q1291.39 1538.6 1291.39 1529.87 Q1291.39 1521.12 1294.45 1516.54 Q1297.52 1511.93 1303.33 1511.93 Z\" fill=\"#000000\" fill-rule=\"evenodd\" fill-opacity=\"1\" /><path clip-path=\"url(#clip090)\" d=\"M 0 0 M1596.76 1530.29 L1626.43 1530.29 L1626.43 1534.23 L1596.76 1534.23 L1596.76 1530.29 Z\" fill=\"#000000\" fill-rule=\"evenodd\" fill-opacity=\"1\" /><path clip-path=\"url(#clip090)\" d=\"M 0 0 M1646.53 1515.64 Q1642.91 1515.64 1641.09 1519.2 Q1639.28 1522.75 1639.28 1529.87 Q1639.28 1536.98 1641.09 1540.55 Q1642.91 1544.09 1646.53 1544.09 Q1650.16 1544.09 1651.97 1540.55 Q1653.79 1536.98 1653.79 1529.87 Q1653.79 1522.75 1651.97 1519.2 Q1650.16 1515.64 1646.53 1515.64 M1646.53 1511.93 Q1652.34 1511.93 1655.39 1516.54 Q1658.47 1521.12 1658.47 1529.87 Q1658.47 1538.6 1655.39 1543.21 Q1652.34 1547.79 1646.53 1547.79 Q1640.72 1547.79 1637.64 1543.21 Q1634.58 1538.6 1634.58 1529.87 Q1634.58 1521.12 1637.64 1516.54 Q1640.72 1511.93 1646.53 1511.93 Z\" fill=\"#000000\" fill-rule=\"evenodd\" fill-opacity=\"1\" /><path clip-path=\"url(#clip090)\" d=\"M 0 0 M1666.69 1541.24 L1671.57 1541.24 L1671.57 1547.12 L1666.69 1547.12 L1666.69 1541.24 Z\" fill=\"#000000\" fill-rule=\"evenodd\" fill-opacity=\"1\" /><path clip-path=\"url(#clip090)\" d=\"M 0 0 M1691.76 1530.71 Q1688.42 1530.71 1686.5 1532.49 Q1684.6 1534.27 1684.6 1537.4 Q1684.6 1540.52 1686.5 1542.31 Q1688.42 1544.09 1691.76 1544.09 Q1695.09 1544.09 1697.01 1542.31 Q1698.93 1540.5 1698.93 1537.4 Q1698.93 1534.27 1697.01 1532.49 Q1695.11 1530.71 1691.76 1530.71 M1687.08 1528.72 Q1684.07 1527.98 1682.38 1525.92 Q1680.72 1523.86 1680.72 1520.89 Q1680.72 1516.75 1683.66 1514.34 Q1686.62 1511.93 1691.76 1511.93 Q1696.92 1511.93 1699.86 1514.34 Q1702.8 1516.75 1702.8 1520.89 Q1702.8 1523.86 1701.11 1525.92 Q1699.44 1527.98 1696.46 1528.72 Q1699.84 1529.5 1701.71 1531.8 Q1703.61 1534.09 1703.61 1537.4 Q1703.61 1542.42 1700.53 1545.11 Q1697.47 1547.79 1691.76 1547.79 Q1686.04 1547.79 1682.96 1545.11 Q1679.91 1542.42 1679.91 1537.4 Q1679.91 1534.09 1681.8 1531.8 Q1683.7 1529.5 1687.08 1528.72 M1685.37 1521.33 Q1685.37 1524.02 1687.03 1525.52 Q1688.72 1527.03 1691.76 1527.03 Q1694.77 1527.03 1696.46 1525.52 Q1698.17 1524.02 1698.17 1521.33 Q1698.17 1518.65 1696.46 1517.14 Q1694.77 1515.64 1691.76 1515.64 Q1688.72 1515.64 1687.03 1517.14 Q1685.37 1518.65 1685.37 1521.33 Z\" fill=\"#000000\" fill-rule=\"evenodd\" fill-opacity=\"1\" /><path clip-path=\"url(#clip090)\" d=\"M 0 0 M1985.01 1530.29 L2014.68 1530.29 L2014.68 1534.23 L1985.01 1534.23 L1985.01 1530.29 Z\" fill=\"#000000\" fill-rule=\"evenodd\" fill-opacity=\"1\" /><path clip-path=\"url(#clip090)\" d=\"M 0 0 M2034.77 1515.64 Q2031.16 1515.64 2029.33 1519.2 Q2027.53 1522.75 2027.53 1529.87 Q2027.53 1536.98 2029.33 1540.55 Q2031.16 1544.09 2034.77 1544.09 Q2038.41 1544.09 2040.21 1540.55 Q2042.04 1536.98 2042.04 1529.87 Q2042.04 1522.75 2040.21 1519.2 Q2038.41 1515.64 2034.77 1515.64 M2034.77 1511.93 Q2040.58 1511.93 2043.64 1516.54 Q2046.72 1521.12 2046.72 1529.87 Q2046.72 1538.6 2043.64 1543.21 Q2040.58 1547.79 2034.77 1547.79 Q2028.96 1547.79 2025.89 1543.21 Q2022.83 1538.6 2022.83 1529.87 Q2022.83 1521.12 2025.89 1516.54 Q2028.96 1511.93 2034.77 1511.93 Z\" fill=\"#000000\" fill-rule=\"evenodd\" fill-opacity=\"1\" /><path clip-path=\"url(#clip090)\" d=\"M 0 0 M2054.94 1541.24 L2059.82 1541.24 L2059.82 1547.12 L2054.94 1547.12 L2054.94 1541.24 Z\" fill=\"#000000\" fill-rule=\"evenodd\" fill-opacity=\"1\" /><path clip-path=\"url(#clip090)\" d=\"M 0 0 M2080.58 1527.98 Q2077.44 1527.98 2075.58 1530.13 Q2073.76 1532.28 2073.76 1536.03 Q2073.76 1539.76 2075.58 1541.93 Q2077.44 1544.09 2080.58 1544.09 Q2083.73 1544.09 2085.56 1541.93 Q2087.41 1539.76 2087.41 1536.03 Q2087.41 1532.28 2085.56 1530.13 Q2083.73 1527.98 2080.58 1527.98 M2089.87 1513.32 L2089.87 1517.58 Q2088.11 1516.75 2086.3 1516.31 Q2084.52 1515.87 2082.76 1515.87 Q2078.13 1515.87 2075.68 1519 Q2073.25 1522.12 2072.9 1528.44 Q2074.27 1526.43 2076.33 1525.36 Q2078.39 1524.27 2080.86 1524.27 Q2086.07 1524.27 2089.08 1527.44 Q2092.11 1530.59 2092.11 1536.03 Q2092.11 1541.36 2088.96 1544.57 Q2085.82 1547.79 2080.58 1547.79 Q2074.59 1547.79 2071.42 1543.21 Q2068.25 1538.6 2068.25 1529.87 Q2068.25 1521.68 2072.14 1516.82 Q2076.02 1511.93 2082.58 1511.93 Q2084.33 1511.93 2086.12 1512.28 Q2087.92 1512.63 2089.87 1513.32 Z\" fill=\"#000000\" fill-rule=\"evenodd\" fill-opacity=\"1\" /><polyline clip-path=\"url(#clip092)\" style=\"stroke:#000000; stroke-width:2; stroke-opacity:0.1; fill:none\" points=\"\n",
       "  170.857,1445.72 2352.76,1445.72 \n",
       "  \"/>\n",
       "<polyline clip-path=\"url(#clip092)\" style=\"stroke:#000000; stroke-width:2; stroke-opacity:0.1; fill:none\" points=\"\n",
       "  170.857,982.323 2352.76,982.323 \n",
       "  \"/>\n",
       "<polyline clip-path=\"url(#clip092)\" style=\"stroke:#000000; stroke-width:2; stroke-opacity:0.1; fill:none\" points=\"\n",
       "  170.857,518.931 2352.76,518.931 \n",
       "  \"/>\n",
       "<polyline clip-path=\"url(#clip092)\" style=\"stroke:#000000; stroke-width:2; stroke-opacity:0.1; fill:none\" points=\"\n",
       "  170.857,55.5388 2352.76,55.5388 \n",
       "  \"/>\n",
       "<polyline clip-path=\"url(#clip090)\" style=\"stroke:#000000; stroke-width:4; stroke-opacity:1; fill:none\" points=\"\n",
       "  170.857,1486.45 170.857,47.2441 \n",
       "  \"/>\n",
       "<polyline clip-path=\"url(#clip090)\" style=\"stroke:#000000; stroke-width:4; stroke-opacity:1; fill:none\" points=\"\n",
       "  170.857,1445.72 197.04,1445.72 \n",
       "  \"/>\n",
       "<polyline clip-path=\"url(#clip090)\" style=\"stroke:#000000; stroke-width:4; stroke-opacity:1; fill:none\" points=\"\n",
       "  170.857,982.323 197.04,982.323 \n",
       "  \"/>\n",
       "<polyline clip-path=\"url(#clip090)\" style=\"stroke:#000000; stroke-width:4; stroke-opacity:1; fill:none\" points=\"\n",
       "  170.857,518.931 197.04,518.931 \n",
       "  \"/>\n",
       "<polyline clip-path=\"url(#clip090)\" style=\"stroke:#000000; stroke-width:4; stroke-opacity:1; fill:none\" points=\"\n",
       "  170.857,55.5388 197.04,55.5388 \n",
       "  \"/>\n",
       "<path clip-path=\"url(#clip090)\" d=\"M 0 0 M122.913 1431.51 Q119.302 1431.51 117.473 1435.08 Q115.668 1438.62 115.668 1445.75 Q115.668 1452.86 117.473 1456.42 Q119.302 1459.96 122.913 1459.96 Q126.547 1459.96 128.353 1456.42 Q130.182 1452.86 130.182 1445.75 Q130.182 1438.62 128.353 1435.08 Q126.547 1431.51 122.913 1431.51 M122.913 1427.81 Q128.723 1427.81 131.779 1432.42 Q134.857 1437 134.857 1445.75 Q134.857 1454.48 131.779 1459.08 Q128.723 1463.67 122.913 1463.67 Q117.103 1463.67 114.024 1459.08 Q110.969 1454.48 110.969 1445.75 Q110.969 1437 114.024 1432.42 Q117.103 1427.81 122.913 1427.81 Z\" fill=\"#000000\" fill-rule=\"evenodd\" fill-opacity=\"1\" /><path clip-path=\"url(#clip090)\" d=\"M 0 0 M53.3995 995.668 L61.0384 995.668 L61.0384 969.303 L52.7282 970.969 L52.7282 966.71 L60.9921 965.043 L65.668 965.043 L65.668 995.668 L73.3068 995.668 L73.3068 999.603 L53.3995 999.603 L53.3995 995.668 Z\" fill=\"#000000\" fill-rule=\"evenodd\" fill-opacity=\"1\" /><path clip-path=\"url(#clip090)\" d=\"M 0 0 M92.7512 968.122 Q89.1401 968.122 87.3114 971.687 Q85.5058 975.229 85.5058 982.358 Q85.5058 989.465 87.3114 993.029 Q89.1401 996.571 92.7512 996.571 Q96.3854 996.571 98.1909 993.029 Q100.02 989.465 100.02 982.358 Q100.02 975.229 98.1909 971.687 Q96.3854 968.122 92.7512 968.122 M92.7512 964.418 Q98.5613 964.418 101.617 969.025 Q104.696 973.608 104.696 982.358 Q104.696 991.085 101.617 995.691 Q98.5613 1000.27 92.7512 1000.27 Q86.941 1000.27 83.8623 995.691 Q80.8068 991.085 80.8068 982.358 Q80.8068 973.608 83.8623 969.025 Q86.941 964.418 92.7512 964.418 Z\" fill=\"#000000\" fill-rule=\"evenodd\" fill-opacity=\"1\" /><path clip-path=\"url(#clip090)\" d=\"M 0 0 M122.913 968.122 Q119.302 968.122 117.473 971.687 Q115.668 975.229 115.668 982.358 Q115.668 989.465 117.473 993.029 Q119.302 996.571 122.913 996.571 Q126.547 996.571 128.353 993.029 Q130.182 989.465 130.182 982.358 Q130.182 975.229 128.353 971.687 Q126.547 968.122 122.913 968.122 M122.913 964.418 Q128.723 964.418 131.779 969.025 Q134.857 973.608 134.857 982.358 Q134.857 991.085 131.779 995.691 Q128.723 1000.27 122.913 1000.27 Q117.103 1000.27 114.024 995.691 Q110.969 991.085 110.969 982.358 Q110.969 973.608 114.024 969.025 Q117.103 964.418 122.913 964.418 Z\" fill=\"#000000\" fill-rule=\"evenodd\" fill-opacity=\"1\" /><path clip-path=\"url(#clip090)\" d=\"M 0 0 M56.6171 532.276 L72.9365 532.276 L72.9365 536.211 L50.9921 536.211 L50.9921 532.276 Q53.6541 529.521 58.2375 524.892 Q62.8439 520.239 64.0245 518.896 Q66.2698 516.373 67.1494 514.637 Q68.0522 512.878 68.0522 511.188 Q68.0522 508.433 66.1078 506.697 Q64.1865 504.961 61.0847 504.961 Q58.8856 504.961 56.4319 505.725 Q54.0014 506.489 51.2236 508.04 L51.2236 503.318 Q54.0477 502.184 56.5014 501.605 Q58.955 501.026 60.9921 501.026 Q66.3624 501.026 69.5568 503.711 Q72.7513 506.396 72.7513 510.887 Q72.7513 513.017 71.9411 514.938 Q71.1541 516.836 69.0476 519.429 Q68.4689 520.1 65.367 523.318 Q62.2652 526.512 56.6171 532.276 Z\" fill=\"#000000\" fill-rule=\"evenodd\" fill-opacity=\"1\" /><path clip-path=\"url(#clip090)\" d=\"M 0 0 M92.7512 504.73 Q89.1401 504.73 87.3114 508.295 Q85.5058 511.836 85.5058 518.966 Q85.5058 526.072 87.3114 529.637 Q89.1401 533.179 92.7512 533.179 Q96.3854 533.179 98.1909 529.637 Q100.02 526.072 100.02 518.966 Q100.02 511.836 98.1909 508.295 Q96.3854 504.73 92.7512 504.73 M92.7512 501.026 Q98.5613 501.026 101.617 505.633 Q104.696 510.216 104.696 518.966 Q104.696 527.693 101.617 532.299 Q98.5613 536.882 92.7512 536.882 Q86.941 536.882 83.8623 532.299 Q80.8068 527.693 80.8068 518.966 Q80.8068 510.216 83.8623 505.633 Q86.941 501.026 92.7512 501.026 Z\" fill=\"#000000\" fill-rule=\"evenodd\" fill-opacity=\"1\" /><path clip-path=\"url(#clip090)\" d=\"M 0 0 M122.913 504.73 Q119.302 504.73 117.473 508.295 Q115.668 511.836 115.668 518.966 Q115.668 526.072 117.473 529.637 Q119.302 533.179 122.913 533.179 Q126.547 533.179 128.353 529.637 Q130.182 526.072 130.182 518.966 Q130.182 511.836 128.353 508.295 Q126.547 504.73 122.913 504.73 M122.913 501.026 Q128.723 501.026 131.779 505.633 Q134.857 510.216 134.857 518.966 Q134.857 527.693 131.779 532.299 Q128.723 536.882 122.913 536.882 Q117.103 536.882 114.024 532.299 Q110.969 527.693 110.969 518.966 Q110.969 510.216 114.024 505.633 Q117.103 501.026 122.913 501.026 Z\" fill=\"#000000\" fill-rule=\"evenodd\" fill-opacity=\"1\" /><path clip-path=\"url(#clip090)\" d=\"M 0 0 M66.7559 54.1847 Q70.1124 54.9022 71.9874 57.1708 Q73.8855 59.4393 73.8855 62.7726 Q73.8855 67.8883 70.367 70.6892 Q66.8485 73.4901 60.3671 73.4901 Q58.1912 73.4901 55.8764 73.0503 Q53.5847 72.6336 51.131 71.7772 L51.131 67.2633 Q53.0754 68.3975 55.3903 68.9762 Q57.7051 69.5549 60.2282 69.5549 Q64.6263 69.5549 66.918 67.8188 Q69.2328 66.0827 69.2328 62.7726 Q69.2328 59.717 67.08 58.0041 Q64.9504 56.268 61.131 56.268 L57.1032 56.268 L57.1032 52.4254 L61.3161 52.4254 Q64.7652 52.4254 66.5939 51.0597 Q68.4226 49.6708 68.4226 47.0782 Q68.4226 44.4162 66.5245 43.0042 Q64.6495 41.569 61.131 41.569 Q59.2097 41.569 57.0106 41.9856 Q54.8115 42.4023 52.1727 43.2819 L52.1727 39.1153 Q54.8347 38.3746 57.1495 38.0042 Q59.4875 37.6338 61.5476 37.6338 Q66.8717 37.6338 69.9735 40.0644 Q73.0753 42.4718 73.0753 46.5921 Q73.0753 49.4625 71.4318 51.4532 Q69.7883 53.4208 66.7559 54.1847 Z\" fill=\"#000000\" fill-rule=\"evenodd\" fill-opacity=\"1\" /><path clip-path=\"url(#clip090)\" d=\"M 0 0 M92.7512 41.3375 Q89.1401 41.3375 87.3114 44.9023 Q85.5058 48.4439 85.5058 55.5735 Q85.5058 62.68 87.3114 66.2448 Q89.1401 69.7864 92.7512 69.7864 Q96.3854 69.7864 98.1909 66.2448 Q100.02 62.68 100.02 55.5735 Q100.02 48.4439 98.1909 44.9023 Q96.3854 41.3375 92.7512 41.3375 M92.7512 37.6338 Q98.5613 37.6338 101.617 42.2403 Q104.696 46.8236 104.696 55.5735 Q104.696 64.3003 101.617 68.9068 Q98.5613 73.4901 92.7512 73.4901 Q86.941 73.4901 83.8623 68.9068 Q80.8068 64.3003 80.8068 55.5735 Q80.8068 46.8236 83.8623 42.2403 Q86.941 37.6338 92.7512 37.6338 Z\" fill=\"#000000\" fill-rule=\"evenodd\" fill-opacity=\"1\" /><path clip-path=\"url(#clip090)\" d=\"M 0 0 M122.913 41.3375 Q119.302 41.3375 117.473 44.9023 Q115.668 48.4439 115.668 55.5735 Q115.668 62.68 117.473 66.2448 Q119.302 69.7864 122.913 69.7864 Q126.547 69.7864 128.353 66.2448 Q130.182 62.68 130.182 55.5735 Q130.182 48.4439 128.353 44.9023 Q126.547 41.3375 122.913 41.3375 M122.913 37.6338 Q128.723 37.6338 131.779 42.2403 Q134.857 46.8236 134.857 55.5735 Q134.857 64.3003 131.779 68.9068 Q128.723 73.4901 122.913 73.4901 Q117.103 73.4901 114.024 68.9068 Q110.969 64.3003 110.969 55.5735 Q110.969 46.8236 114.024 42.2403 Q117.103 37.6338 122.913 37.6338 Z\" fill=\"#000000\" fill-rule=\"evenodd\" fill-opacity=\"1\" /><path clip-path=\"url(#clip092)\" d=\"\n",
       "M290.866 87.9763 L290.866 1445.72 L1261.81 1445.72 L1261.81 87.9763 L290.866 87.9763 L290.866 87.9763  Z\n",
       "  \" fill=\"#009af9\" fill-rule=\"evenodd\" fill-opacity=\"1\"/>\n",
       "<polyline clip-path=\"url(#clip092)\" style=\"stroke:#000000; stroke-width:4; stroke-opacity:1; fill:none\" points=\"\n",
       "  290.866,87.9763 290.866,1445.72 1261.81,1445.72 1261.81,87.9763 290.866,87.9763 \n",
       "  \"/>\n",
       "<path clip-path=\"url(#clip092)\" d=\"\n",
       "M1261.81 1413.28 L1261.81 1445.72 L2232.75 1445.72 L2232.75 1413.28 L1261.81 1413.28 L1261.81 1413.28  Z\n",
       "  \" fill=\"#009af9\" fill-rule=\"evenodd\" fill-opacity=\"1\"/>\n",
       "<polyline clip-path=\"url(#clip092)\" style=\"stroke:#000000; stroke-width:4; stroke-opacity:1; fill:none\" points=\"\n",
       "  1261.81,1413.28 1261.81,1445.72 2232.75,1445.72 2232.75,1413.28 1261.81,1413.28 \n",
       "  \"/>\n",
       "<path clip-path=\"url(#clip090)\" d=\"\n",
       "M1985.16 216.178 L2280.03 216.178 L2280.03 95.2176 L1985.16 95.2176  Z\n",
       "  \" fill=\"#ffffff\" fill-rule=\"evenodd\" fill-opacity=\"1\"/>\n",
       "<polyline clip-path=\"url(#clip090)\" style=\"stroke:#000000; stroke-width:4; stroke-opacity:1; fill:none\" points=\"\n",
       "  1985.16,216.178 2280.03,216.178 2280.03,95.2176 1985.16,95.2176 1985.16,216.178 \n",
       "  \"/>\n",
       "<path clip-path=\"url(#clip090)\" d=\"\n",
       "M2009.41 179.89 L2154.87 179.89 L2154.87 131.506 L2009.41 131.506 L2009.41 179.89  Z\n",
       "  \" fill=\"#009af9\" fill-rule=\"evenodd\" fill-opacity=\"1\"/>\n",
       "<polyline clip-path=\"url(#clip090)\" style=\"stroke:#000000; stroke-width:4; stroke-opacity:1; fill:none\" points=\"\n",
       "  2009.41,179.89 2154.87,179.89 2154.87,131.506 2009.41,131.506 2009.41,179.89 \n",
       "  \"/>\n",
       "<path clip-path=\"url(#clip090)\" d=\"M 0 0 M2192.95 175.385 Q2191.15 180.015 2189.43 181.427 Q2187.72 182.839 2184.85 182.839 L2181.45 182.839 L2181.45 179.274 L2183.95 179.274 Q2185.71 179.274 2186.68 178.44 Q2187.65 177.607 2188.83 174.505 L2189.6 172.561 L2179.11 147.052 L2183.62 147.052 L2191.72 167.329 L2199.83 147.052 L2204.34 147.052 L2192.95 175.385 Z\" fill=\"#000000\" fill-rule=\"evenodd\" fill-opacity=\"1\" /><path clip-path=\"url(#clip090)\" d=\"M 0 0 M2211.63 169.042 L2219.27 169.042 L2219.27 142.677 L2210.96 144.343 L2210.96 140.084 L2219.22 138.418 L2223.9 138.418 L2223.9 169.042 L2231.54 169.042 L2231.54 172.978 L2211.63 172.978 L2211.63 169.042 Z\" fill=\"#000000\" fill-rule=\"evenodd\" fill-opacity=\"1\" /></svg>\n"
      ]
     },
     "execution_count": 28,
     "metadata": {},
     "output_type": "execute_result"
    }
   ],
   "source": [
    "histogram(X1[:,:,1,1])"
   ]
  },
  {
   "cell_type": "code",
   "execution_count": 75,
   "metadata": {},
   "outputs": [
    {
     "name": "stderr",
     "output_type": "stream",
     "text": [
      "WARNING: using StatsBase.fit in module Main conflicts with an existing identifier.\n"
     ]
    }
   ],
   "source": [
    "using StatsBase"
   ]
  },
  {
   "cell_type": "code",
   "execution_count": 80,
   "metadata": {},
   "outputs": [
    {
     "data": {
      "text/plain": [
       "(300, 1, 11, 11)"
      ]
     },
     "execution_count": 80,
     "metadata": {},
     "output_type": "execute_result"
    }
   ],
   "source": [
    "size(X1)"
   ]
  },
  {
   "cell_type": "code",
   "execution_count": 110,
   "metadata": {},
   "outputs": [
    {
     "data": {
      "text/plain": [
       "11×11 Array{Float64,2}:\n",
       " 0.00180688   0.00824916   0.0281152    …  0.97217      0.972486\n",
       " 0.00106636   0.00726401   0.0296208       0.938423     0.954457\n",
       " 0.000850869  0.0050851    0.0234853       0.931069     0.952479\n",
       " 0.00110506   0.00417079   0.0177143       0.873419     0.901285\n",
       " 0.000721296  0.00228176   0.00988212      0.766875     0.828491\n",
       " 0.00010075   0.000594534  0.0039623    …  0.620445     0.750345\n",
       " 2.37606e-6   9.72347e-5   0.00113192      0.390787     0.534674\n",
       " 0.0          2.79376e-5   0.000190743     0.178232     0.26016\n",
       " 0.0          0.0          1.4125e-6       0.0545143    0.0813246\n",
       " 0.0          0.0          0.0             0.010229     0.0146867\n",
       " 0.0          0.0          0.0          …  0.000906671  0.00115096"
      ]
     },
     "execution_count": 110,
     "metadata": {},
     "output_type": "execute_result"
    }
   ],
   "source": [
    "M = [StatsBase.var(X1[:,:,i,j]) for i in 11:-1:1, j in 1:11]"
   ]
  },
  {
   "cell_type": "code",
   "execution_count": 111,
   "metadata": {},
   "outputs": [
    {
     "data": {
      "image/svg+xml": [
       "<?xml version=\"1.0\" encoding=\"utf-8\"?>\n",
       "<svg xmlns=\"http://www.w3.org/2000/svg\" xmlns:xlink=\"http://www.w3.org/1999/xlink\" width=\"800\" height=\"800\" viewBox=\"0 0 3200 3200\">\n",
       "<defs>\n",
       "  <clipPath id=\"clip140\">\n",
       "    <rect x=\"0\" y=\"0\" width=\"3200\" height=\"3200\"/>\n",
       "  </clipPath>\n",
       "</defs>\n",
       "<path clip-path=\"url(#clip140)\" d=\"\n",
       "M0 3200 L3200 3200 L3200 0 L0 0  Z\n",
       "  \" fill=\"#ffffff\" fill-rule=\"evenodd\" fill-opacity=\"1\"/>\n",
       "<defs>\n",
       "  <clipPath id=\"clip141\">\n",
       "    <rect x=\"640\" y=\"320\" width=\"2241\" height=\"2241\"/>\n",
       "  </clipPath>\n",
       "</defs>\n",
       "<path clip-path=\"url(#clip140)\" d=\"\n",
       "M142.584 3053.17 L2832.76 3053.17 L2832.76 47.2441 L142.584 47.2441  Z\n",
       "  \" fill=\"#ffffff\" fill-rule=\"evenodd\" fill-opacity=\"1\"/>\n",
       "<defs>\n",
       "  <clipPath id=\"clip142\">\n",
       "    <rect x=\"142\" y=\"47\" width=\"2691\" height=\"3007\"/>\n",
       "  </clipPath>\n",
       "</defs>\n",
       "<polyline clip-path=\"url(#clip142)\" style=\"stroke:#000000; stroke-width:2; stroke-opacity:0.1; fill:none\" points=\"\n",
       "  509.426,3053.17 509.426,47.2441 \n",
       "  \"/>\n",
       "<polyline clip-path=\"url(#clip142)\" style=\"stroke:#000000; stroke-width:2; stroke-opacity:0.1; fill:none\" points=\"\n",
       "  998.548,3053.17 998.548,47.2441 \n",
       "  \"/>\n",
       "<polyline clip-path=\"url(#clip142)\" style=\"stroke:#000000; stroke-width:2; stroke-opacity:0.1; fill:none\" points=\"\n",
       "  1487.67,3053.17 1487.67,47.2441 \n",
       "  \"/>\n",
       "<polyline clip-path=\"url(#clip142)\" style=\"stroke:#000000; stroke-width:2; stroke-opacity:0.1; fill:none\" points=\"\n",
       "  1976.79,3053.17 1976.79,47.2441 \n",
       "  \"/>\n",
       "<polyline clip-path=\"url(#clip142)\" style=\"stroke:#000000; stroke-width:2; stroke-opacity:0.1; fill:none\" points=\"\n",
       "  2465.91,3053.17 2465.91,47.2441 \n",
       "  \"/>\n",
       "<polyline clip-path=\"url(#clip142)\" style=\"stroke:#000000; stroke-width:2; stroke-opacity:0.1; fill:none\" points=\"\n",
       "  142.584,2643.27 2832.76,2643.27 \n",
       "  \"/>\n",
       "<polyline clip-path=\"url(#clip142)\" style=\"stroke:#000000; stroke-width:2; stroke-opacity:0.1; fill:none\" points=\"\n",
       "  142.584,2096.74 2832.76,2096.74 \n",
       "  \"/>\n",
       "<polyline clip-path=\"url(#clip142)\" style=\"stroke:#000000; stroke-width:2; stroke-opacity:0.1; fill:none\" points=\"\n",
       "  142.584,1550.21 2832.76,1550.21 \n",
       "  \"/>\n",
       "<polyline clip-path=\"url(#clip142)\" style=\"stroke:#000000; stroke-width:2; stroke-opacity:0.1; fill:none\" points=\"\n",
       "  142.584,1003.67 2832.76,1003.67 \n",
       "  \"/>\n",
       "<polyline clip-path=\"url(#clip142)\" style=\"stroke:#000000; stroke-width:2; stroke-opacity:0.1; fill:none\" points=\"\n",
       "  142.584,457.143 2832.76,457.143 \n",
       "  \"/>\n",
       "<polyline clip-path=\"url(#clip140)\" style=\"stroke:#000000; stroke-width:4; stroke-opacity:1; fill:none\" points=\"\n",
       "  142.584,3053.17 2832.76,3053.17 \n",
       "  \"/>\n",
       "<polyline clip-path=\"url(#clip140)\" style=\"stroke:#000000; stroke-width:4; stroke-opacity:1; fill:none\" points=\"\n",
       "  142.584,3053.17 142.584,47.2441 \n",
       "  \"/>\n",
       "<polyline clip-path=\"url(#clip140)\" style=\"stroke:#000000; stroke-width:4; stroke-opacity:1; fill:none\" points=\"\n",
       "  509.426,3053.17 509.426,3017.1 \n",
       "  \"/>\n",
       "<polyline clip-path=\"url(#clip140)\" style=\"stroke:#000000; stroke-width:4; stroke-opacity:1; fill:none\" points=\"\n",
       "  998.548,3053.17 998.548,3017.1 \n",
       "  \"/>\n",
       "<polyline clip-path=\"url(#clip140)\" style=\"stroke:#000000; stroke-width:4; stroke-opacity:1; fill:none\" points=\"\n",
       "  1487.67,3053.17 1487.67,3017.1 \n",
       "  \"/>\n",
       "<polyline clip-path=\"url(#clip140)\" style=\"stroke:#000000; stroke-width:4; stroke-opacity:1; fill:none\" points=\"\n",
       "  1976.79,3053.17 1976.79,3017.1 \n",
       "  \"/>\n",
       "<polyline clip-path=\"url(#clip140)\" style=\"stroke:#000000; stroke-width:4; stroke-opacity:1; fill:none\" points=\"\n",
       "  2465.91,3053.17 2465.91,3017.1 \n",
       "  \"/>\n",
       "<polyline clip-path=\"url(#clip140)\" style=\"stroke:#000000; stroke-width:4; stroke-opacity:1; fill:none\" points=\"\n",
       "  142.584,2643.27 174.867,2643.27 \n",
       "  \"/>\n",
       "<polyline clip-path=\"url(#clip140)\" style=\"stroke:#000000; stroke-width:4; stroke-opacity:1; fill:none\" points=\"\n",
       "  142.584,2096.74 174.867,2096.74 \n",
       "  \"/>\n",
       "<polyline clip-path=\"url(#clip140)\" style=\"stroke:#000000; stroke-width:4; stroke-opacity:1; fill:none\" points=\"\n",
       "  142.584,1550.21 174.867,1550.21 \n",
       "  \"/>\n",
       "<polyline clip-path=\"url(#clip140)\" style=\"stroke:#000000; stroke-width:4; stroke-opacity:1; fill:none\" points=\"\n",
       "  142.584,1003.67 174.867,1003.67 \n",
       "  \"/>\n",
       "<polyline clip-path=\"url(#clip140)\" style=\"stroke:#000000; stroke-width:4; stroke-opacity:1; fill:none\" points=\"\n",
       "  142.584,457.143 174.867,457.143 \n",
       "  \"/>\n",
       "<path clip-path=\"url(#clip140)\" d=\"M 0 0 M504.079 3106.7 L520.398 3106.7 L520.398 3110.64 L498.454 3110.64 L498.454 3106.7 Q501.116 3103.95 505.699 3099.32 Q510.306 3094.67 511.486 3093.33 Q513.732 3090.8 514.611 3089.07 Q515.514 3087.31 515.514 3085.62 Q515.514 3082.86 513.57 3081.13 Q511.648 3079.39 508.546 3079.39 Q506.347 3079.39 503.894 3080.15 Q501.463 3080.92 498.685 3082.47 L498.685 3077.75 Q501.509 3076.61 503.963 3076.03 Q506.417 3075.45 508.454 3075.45 Q513.824 3075.45 517.019 3078.14 Q520.213 3080.83 520.213 3085.32 Q520.213 3087.45 519.403 3089.37 Q518.616 3091.26 516.509 3093.86 Q515.931 3094.53 512.829 3097.75 Q509.727 3100.94 504.079 3106.7 Z\" fill=\"#000000\" fill-rule=\"evenodd\" fill-opacity=\"1\" /><path clip-path=\"url(#clip140)\" d=\"M 0 0 M1001.56 3080.15 L989.752 3098.6 L1001.56 3098.6 L1001.56 3080.15 M1000.33 3076.08 L1006.21 3076.08 L1006.21 3098.6 L1011.14 3098.6 L1011.14 3102.49 L1006.21 3102.49 L1006.21 3110.64 L1001.56 3110.64 L1001.56 3102.49 L985.956 3102.49 L985.956 3097.98 L1000.33 3076.08 Z\" fill=\"#000000\" fill-rule=\"evenodd\" fill-opacity=\"1\" /><path clip-path=\"url(#clip140)\" d=\"M 0 0 M1488.08 3091.5 Q1484.93 3091.5 1483.08 3093.65 Q1481.25 3095.8 1481.25 3099.55 Q1481.25 3103.28 1483.08 3105.45 Q1484.93 3107.61 1488.08 3107.61 Q1491.22 3107.61 1493.05 3105.45 Q1494.9 3103.28 1494.9 3099.55 Q1494.9 3095.8 1493.05 3093.65 Q1491.22 3091.5 1488.08 3091.5 M1497.36 3076.84 L1497.36 3081.1 Q1495.6 3080.27 1493.79 3079.83 Q1492.01 3079.39 1490.25 3079.39 Q1485.62 3079.39 1483.17 3082.52 Q1480.74 3085.64 1480.39 3091.96 Q1481.76 3089.95 1483.82 3088.88 Q1485.88 3087.79 1488.35 3087.79 Q1493.56 3087.79 1496.57 3090.96 Q1499.6 3094.11 1499.6 3099.55 Q1499.6 3104.88 1496.45 3108.09 Q1493.31 3111.31 1488.08 3111.31 Q1482.08 3111.31 1478.91 3106.73 Q1475.74 3102.12 1475.74 3093.39 Q1475.74 3085.2 1479.63 3080.34 Q1483.52 3075.45 1490.07 3075.45 Q1491.83 3075.45 1493.61 3075.8 Q1495.41 3076.15 1497.36 3076.84 Z\" fill=\"#000000\" fill-rule=\"evenodd\" fill-opacity=\"1\" /><path clip-path=\"url(#clip140)\" d=\"M 0 0 M1976.79 3094.23 Q1973.46 3094.23 1971.54 3096.01 Q1969.64 3097.79 1969.64 3100.92 Q1969.64 3104.04 1971.54 3105.83 Q1973.46 3107.61 1976.79 3107.61 Q1980.13 3107.61 1982.05 3105.83 Q1983.97 3104.02 1983.97 3100.92 Q1983.97 3097.79 1982.05 3096.01 Q1980.15 3094.23 1976.79 3094.23 M1972.12 3092.24 Q1969.11 3091.5 1967.42 3089.44 Q1965.75 3087.38 1965.75 3084.41 Q1965.75 3080.27 1968.69 3077.86 Q1971.65 3075.45 1976.79 3075.45 Q1981.95 3075.45 1984.89 3077.86 Q1987.83 3080.27 1987.83 3084.41 Q1987.83 3087.38 1986.14 3089.44 Q1984.48 3091.5 1981.49 3092.24 Q1984.87 3093.02 1986.75 3095.32 Q1988.64 3097.61 1988.64 3100.92 Q1988.64 3105.94 1985.57 3108.63 Q1982.51 3111.31 1976.79 3111.31 Q1971.07 3111.31 1968 3108.63 Q1964.94 3105.94 1964.94 3100.92 Q1964.94 3097.61 1966.84 3095.32 Q1968.74 3093.02 1972.12 3092.24 M1970.4 3084.85 Q1970.4 3087.54 1972.07 3089.04 Q1973.76 3090.55 1976.79 3090.55 Q1979.8 3090.55 1981.49 3089.04 Q1983.2 3087.54 1983.2 3084.85 Q1983.2 3082.17 1981.49 3080.66 Q1979.8 3079.16 1976.79 3079.16 Q1973.76 3079.16 1972.07 3080.66 Q1970.4 3082.17 1970.4 3084.85 Z\" fill=\"#000000\" fill-rule=\"evenodd\" fill-opacity=\"1\" /><path clip-path=\"url(#clip140)\" d=\"M 0 0 M2442.79 3106.7 L2450.43 3106.7 L2450.43 3080.34 L2442.12 3082.01 L2442.12 3077.75 L2450.38 3076.08 L2455.06 3076.08 L2455.06 3106.7 L2462.7 3106.7 L2462.7 3110.64 L2442.79 3110.64 L2442.79 3106.7 Z\" fill=\"#000000\" fill-rule=\"evenodd\" fill-opacity=\"1\" /><path clip-path=\"url(#clip140)\" d=\"M 0 0 M2477.77 3079.16 Q2474.16 3079.16 2472.33 3082.72 Q2470.52 3086.27 2470.52 3093.39 Q2470.52 3100.5 2472.33 3104.07 Q2474.16 3107.61 2477.77 3107.61 Q2481.4 3107.61 2483.21 3104.07 Q2485.03 3100.5 2485.03 3093.39 Q2485.03 3086.27 2483.21 3082.72 Q2481.4 3079.16 2477.77 3079.16 M2477.77 3075.45 Q2483.58 3075.45 2486.63 3080.06 Q2489.71 3084.64 2489.71 3093.39 Q2489.71 3102.12 2486.63 3106.73 Q2483.58 3111.31 2477.77 3111.31 Q2471.96 3111.31 2468.88 3106.73 Q2465.82 3102.12 2465.82 3093.39 Q2465.82 3084.64 2468.88 3080.06 Q2471.96 3075.45 2477.77 3075.45 Z\" fill=\"#000000\" fill-rule=\"evenodd\" fill-opacity=\"1\" /><path clip-path=\"url(#clip140)\" d=\"M 0 0 M94.2651 2656.61 L110.584 2656.61 L110.584 2660.55 L88.6401 2660.55 L88.6401 2656.61 Q91.3022 2653.86 95.8855 2649.23 Q100.492 2644.58 101.672 2643.23 Q103.918 2640.71 104.797 2638.98 Q105.7 2637.22 105.7 2635.53 Q105.7 2632.77 103.756 2631.04 Q101.835 2629.3 98.7327 2629.3 Q96.5336 2629.3 94.0799 2630.06 Q91.6494 2630.83 88.8716 2632.38 L88.8716 2627.66 Q91.6957 2626.52 94.1494 2625.94 Q96.6031 2625.36 98.6401 2625.36 Q104.01 2625.36 107.205 2628.05 Q110.399 2630.73 110.399 2635.23 Q110.399 2637.35 109.589 2639.28 Q108.802 2641.17 106.696 2643.77 Q106.117 2644.44 103.015 2647.66 Q99.9132 2650.85 94.2651 2656.61 Z\" fill=\"#000000\" fill-rule=\"evenodd\" fill-opacity=\"1\" /><path clip-path=\"url(#clip140)\" d=\"M 0 0 M101.001 2083.53 L89.1957 2101.98 L101.001 2101.98 L101.001 2083.53 M99.7743 2079.46 L105.654 2079.46 L105.654 2101.98 L110.584 2101.98 L110.584 2105.87 L105.654 2105.87 L105.654 2114.02 L101.001 2114.02 L101.001 2105.87 L85.3994 2105.87 L85.3994 2101.36 L99.7743 2079.46 Z\" fill=\"#000000\" fill-rule=\"evenodd\" fill-opacity=\"1\" /><path clip-path=\"url(#clip140)\" d=\"M 0 0 M99.0567 1548.34 Q95.9086 1548.34 94.0568 1550.5 Q92.2281 1552.65 92.2281 1556.4 Q92.2281 1560.12 94.0568 1562.3 Q95.9086 1564.45 99.0567 1564.45 Q102.205 1564.45 104.034 1562.3 Q105.885 1560.12 105.885 1556.4 Q105.885 1552.65 104.034 1550.5 Q102.205 1548.34 99.0567 1548.34 M108.339 1533.69 L108.339 1537.95 Q106.58 1537.12 104.774 1536.68 Q102.992 1536.24 101.233 1536.24 Q96.6031 1536.24 94.1494 1539.36 Q91.7188 1542.49 91.3716 1548.81 Q92.7373 1546.79 94.7975 1545.73 Q96.8577 1544.64 99.3345 1544.64 Q104.543 1544.64 107.552 1547.81 Q110.584 1550.96 110.584 1556.4 Q110.584 1561.72 107.436 1564.94 Q104.288 1568.16 99.0567 1568.16 Q93.0614 1568.16 89.8901 1563.57 Q86.7189 1558.97 86.7189 1550.24 Q86.7189 1542.05 90.6077 1537.19 Q94.4966 1532.3 101.047 1532.3 Q102.807 1532.3 104.589 1532.65 Q106.395 1533 108.339 1533.69 Z\" fill=\"#000000\" fill-rule=\"evenodd\" fill-opacity=\"1\" /><path clip-path=\"url(#clip140)\" d=\"M 0 0 M98.7327 1004.54 Q95.3994 1004.54 93.4781 1006.32 Q91.5799 1008.11 91.5799 1011.23 Q91.5799 1014.36 93.4781 1016.14 Q95.3994 1017.92 98.7327 1017.92 Q102.066 1017.92 103.987 1016.14 Q105.909 1014.33 105.909 1011.23 Q105.909 1008.11 103.987 1006.32 Q102.089 1004.54 98.7327 1004.54 M94.0568 1002.55 Q91.0475 1001.81 89.3577 999.751 Q87.6911 997.691 87.6911 994.728 Q87.6911 990.584 90.6309 988.177 Q93.5938 985.769 98.7327 985.769 Q103.895 985.769 106.834 988.177 Q109.774 990.584 109.774 994.728 Q109.774 997.691 108.084 999.751 Q106.418 1001.81 103.432 1002.55 Q106.811 1003.34 108.686 1005.63 Q110.584 1007.92 110.584 1011.23 Q110.584 1016.26 107.506 1018.94 Q104.45 1021.63 98.7327 1021.63 Q93.0151 1021.63 89.9364 1018.94 Q86.8809 1016.26 86.8809 1011.23 Q86.8809 1007.92 88.779 1005.63 Q90.6772 1003.34 94.0568 1002.55 M92.3438 995.167 Q92.3438 997.853 94.0105 999.357 Q95.7003 1000.86 98.7327 1000.86 Q101.742 1000.86 103.432 999.357 Q105.145 997.853 105.145 995.167 Q105.145 992.482 103.432 990.978 Q101.742 989.473 98.7327 989.473 Q95.7003 989.473 94.0105 990.978 Q92.3438 992.482 92.3438 995.167 Z\" fill=\"#000000\" fill-rule=\"evenodd\" fill-opacity=\"1\" /><path clip-path=\"url(#clip140)\" d=\"M 0 0 M63.6634 470.488 L71.3023 470.488 L71.3023 444.122 L62.9921 445.789 L62.9921 441.529 L71.256 439.863 L75.9319 439.863 L75.9319 470.488 L83.5707 470.488 L83.5707 474.423 L63.6634 474.423 L63.6634 470.488 Z\" fill=\"#000000\" fill-rule=\"evenodd\" fill-opacity=\"1\" /><path clip-path=\"url(#clip140)\" d=\"M 0 0 M98.6401 442.941 Q95.029 442.941 93.2003 446.506 Q91.3948 450.048 91.3948 457.178 Q91.3948 464.284 93.2003 467.849 Q95.029 471.39 98.6401 471.39 Q102.274 471.39 104.08 467.849 Q105.909 464.284 105.909 457.178 Q105.909 450.048 104.08 446.506 Q102.274 442.941 98.6401 442.941 M98.6401 439.238 Q104.45 439.238 107.506 443.844 Q110.584 448.428 110.584 457.178 Q110.584 465.904 107.506 470.511 Q104.45 475.094 98.6401 475.094 Q92.8299 475.094 89.7512 470.511 Q86.6957 465.904 86.6957 457.178 Q86.6957 448.428 89.7512 443.844 Q92.8299 439.238 98.6401 439.238 Z\" fill=\"#000000\" fill-rule=\"evenodd\" fill-opacity=\"1\" /><g clip-path=\"url(#clip142)\">\n",
       "<image width=\"2690\" height=\"3006\" xlink:href=\"data:image/png;base64,\n",
       "iVBORw0KGgoAAAANSUhEUgAACoIAAAu+CAYAAAAZE9tVAAAgAElEQVR4nOzcsQ2AMBAEQRvov2VI\n",
       "iZEla9FMBZd8tvo5xnUPAAAAAAAAAAAAAHKO3QMAAAAAAAAAAAAA+EYICgAAAAAAAAAAABAlBAUA\n",
       "AAAAAAAAAACIEoICAAAAAAAAAAAARAlBAQAAAAAAAAAAAKKEoAAAAAAAAAAAAABRQlAAAAAAAAAA\n",
       "AACAKCEoAAAAAAAAAAAAQJQQFAAAAAAAAAAAACBKCAoAAAAAAAAAAAAQJQQFAAAAAAAAAAAAiBKC\n",
       "AgAAAAAAAAAAAEQJQQEAAAAAAAAAAACihKAAAAAAAAAAAAAAUUJQAAAAAAAAAAAAgCghKAAAAAAA\n",
       "AAAAAECUEBQAAAAAAAAAAAAgSggKAAAAAAAAAAAAECUEBQAAAAAAAAAAAIgSggIAAAAAAAAAAABE\n",
       "CUEBAAAAAAAAAAAAooSgAAAAAAAAAAAAAFFCUAAAAAAAAAAAAIAoISgAAAAAAAAAAABAlBAUAAAA\n",
       "AAAAAAAAIEoICgAAAAAAAAAAABAlBAUAAAAAAAAAAACIEoICAAAAAAAAAAAARAlBAQAAAAAAAAAA\n",
       "AKKEoAAAAAAAAAAAAABRQlAAAAAAAAAAAACAKCEoAAAAAAAAAAAAQJQQFAAAAAAAAAAAACBKCAoA\n",
       "AAAAAAAAAAAQJQQFAAAAAAAAAAAAiBKCAgAAAAAAAAAAAEQJQQEAAAAAAAAAAACihKAAAAAAAAAA\n",
       "AAAAUUJQAAAAAAAAAAAAgCghKAAAAAAAAAAAAECUEBQAAAAAAAAAAAAgSggKAAAAAAAAAAAAECUE\n",
       "BQAAAAAAAAAAAIgSggIAAAAAAAAAAABECUEBAAAAAAAAAAAAooSgAAAAAAAAAAAAAFFCUAAAAAAA\n",
       "AAAAAIAoISgAAAAAAAAAAABAlBAUAAAAAAAAAAAAIEoICgAAAAAAAAAAABAlBAUAAAAAAAAAAACI\n",
       "EoICAAAAAAAAAAAARAlBAQAAAAAAAAAAAKKEoAAAAAAAAAAAAABRQlAAAAAAAAAAAACAKCEoAAAA\n",
       "AAAAAAAAQJQQFAAAAAAAAAAAACBKCAoAAAAAAAAAAAAQJQQFAAAAAAAAAAAAiBKCAgAAAAAAAAAA\n",
       "AEQJQQEAAAAAAAAAAACihKAAAAAAAAAAAAAAUUJQAAAAAAAAAAAAgCghKAAAAAAAAAAAAECUEBQA\n",
       "AAAAAAAAAAAgSggKAAAAAAAAAAAAECUEBQAAAAAAAAAAAIgSggIAAAAAAAAAAABECUEBAAAAAAAA\n",
       "AAAAooSgAAAAAAAAAAAAAFFCUAAAAAAAAAAAAIAoISgAAAAAAAAAAABAlBAUAAAAAAAAAAAAIEoI\n",
       "CgAAAAAAAAAAABAlBAUAAAAAAAAAAACIEoICAAAAAAAAAAAARAlBAQAAAAAAAAAAAKKEoAAAAAAA\n",
       "AAAAAABRQlAAAAAAAAAAAACAKCEoAAAAAAAAAAAAQJQQFAAAAAAAAAAAACBKCAoAAAAAAAAAAAAQ\n",
       "JQQFAAAAAAAAAAAAiBKCAgAAAAAAAAAAAEQJQQEAAAAAAAAAAACihKAAAAAAAAAAAAAAUUJQAAAA\n",
       "AAAAAAAAgCghKAAAAAAAAAAAAECUEBQAAAAAAAAAAAAgSggKAAAAAAAAAAAAECUEBQAAAAAAAAAA\n",
       "AIgSggIAAAAAAAAAAABECUEBAAAAAAAAAAAAooSgAAAAAAAAAAAAAFFCUAAAAAAAAAAAAIAoISgA\n",
       "AAAAAAAAAABAlBAUAAAAAAAAAAAAIEoICgAAAAAAAAAAABAlBAUAAAAAAAAAAACIEoICAAAAAAAA\n",
       "AAAARAlBAQAAAAAAAAAAAKKEoAAAAAAAAAAAAABRQlAAAAAAAAAAAACAKCEoAAAAAAAAAAAAQJQQ\n",
       "FAAAAAAAAAAAACBKCAoAAAAAAAAAAAAQJQQFAAAAAAAAAAAAiBKCAgAAAAAAAAAAAEQJQQEAAAAA\n",
       "AAAAAACihKAAAAAAAAAAAAAAUUJQAAAAAAAAAAAAgCghKAAAAAAAAAAAAECUEBQAAAAAAAAAAAAg\n",
       "SggKAAAAAAAAAAAAECUEBQAAAAAAAAAAAIgSggIAAAAAAAAAAABECUEBAAAAAAAAAAAAooSgAAAA\n",
       "AAAAAAAAAFFCUAAAAAAAAAAAAIAoISgAAAAAAAAAAABAlBAUAAAAAAAAAAAAIEoICgAAAAAAAAAA\n",
       "ABAlBAUAAAAAAAAAAACIEoICAAAAAAAAAAAARAlBAQAAAAAAAAAAAKKEoAAAAAAAAAAAAABRQlAA\n",
       "AAAAAAAAAACAKCEoAAAAAAAAAAAAQJQQFAAAAAAAAAAAACBKCAoAAAAAAAAAAAAQJQQFAAAAAAAA\n",
       "AAAAiBKCAgAAAAAAAAAAAEQJQQEAAAAAAAAAAACihKAAAAAAAAAAAAAAUUJQAAAAAAAAAAAAgCgh\n",
       "KAAAAAAAAAAAAECUEBQAAAAAAAAAAAAgSggKAAAAAAAAAAAAECUEBQAAAAAAAAAAAIgSggIAAAAA\n",
       "AAAAAABECUEBAAAAAAAAAAAAooSgAAAAAAAAAAAAAFFCUAAAAAAAAAAAAIAoISgAAAAAAAAAAABA\n",
       "lBAUAAAAAAAAAAAAIEoICgAAAAAAAAAAABAlBAUAAAAAAAAAAACIEoICAAAAAAAAAAAARAlBAQAA\n",
       "AAAAAAAAAKKEoAAAAAAAAAAAAABRQlAAAAAAAAAAAACAKCEoAAAAAAAAAAAAQJQQFAAAAAAAAAAA\n",
       "ACBKCAoAAAAAAAAAAAAQJQQFAAAAAAAAAAAAiBKCAgAAAAAAAAAAAEQJQQEAAAAAAAAAAACihKAA\n",
       "AAAAAAAAAAAAUUJQAAAAAAAAAAAAgCghKAAAAAAAAAAAAECUEBQAAAAAAAAAAAAgSggKAAAAAAAA\n",
       "AAAAECUEBQAAAAAAAAAAAIgSggIAAAAAAAAAAABECUEBAAAAAAAAAAAAooSgAAAAAAAAAAAAAFFC\n",
       "UAAAAAAAAAAAAIAoISgAAAAAAAAAAABAlBAUAAAAAAAAAAAAIEoICgAAAAAAAAAAABAlBAUAAAAA\n",
       "AAAAAACIEoICAAAAAAAAAAAARAlBAQAAAAAAAAAAAKKEoAAAAAAAAAAAAABRQlAAAAAAAAAAAACA\n",
       "KCEoAAAAAAAAAAAAQJQQFAAAAAAAAAAAACBKCAoAAAAAAAAAAAAQJQQFAAAAAAAAAAAAiBKCAgAA\n",
       "AAAAAAAAAEQJQQEAAAAAAAAAAACihKAAAAAAAAAAAAAAUUJQAAAAAAAAAAAAgCghKAAAAAAAAAAA\n",
       "AECUEBQAAAAAAAAAAAAgSggKAAAAAAAAAAAAECUEBQAAAAAAAAAAAIgSggIAAAAAAAAAAABECUEB\n",
       "AAAAAAAAAAAAooSgAAAAAAAAAAAAAFFCUAAAAAAAAAAAAIAoISgAAAAAAAAAAABAlBAUAAAAAAAA\n",
       "AAAAIEoICgAAAAAAAAAAABAlBAUAAAAAAAAAAACIEoICAAAAAAAAAAAARAlBAQAAAAAAAAAAAKKE\n",
       "oAAAAAAAAAAAAABRQlAAAAAAAAAAAACAKCEoAAAAAAAAAAAAQJQQFAAAAAAAAAAAACBKCAoAAAAA\n",
       "AAAAAAAQJQQFAAAAAAAAAAAAiBKCAgAAAAAAAAAAAEQJQQEAAAAAAAAAAACihKAAAAAAAAAAAAAA\n",
       "UUJQAAAAAAAAAAAAgCghKAAAAAAAAAAAAECUEBQAAAAAAAAAAAAgSggKAAAAAAAAAAAAECUEBQAA\n",
       "AAAAAAAAAIgSggIAAAAAAAAAAABECUEBAAAAAAAAAAAAooSgAAAAAAAAAAAAAFFCUAAAAAAAAAAA\n",
       "AIAoISgAAAAAAAAAAABAlBAUAAAAAAAAAAAAIEoICgAAAAAAAAAAABAlBAUAAAAAAAAAAACIEoIC\n",
       "AAAAAAAAAAAARAlBAQAAAAAAAAAAAKKEoAAAAAAAAAAAAABRQlAAAAAAAAAAAACAKCEoAAAAAAAA\n",
       "AAAAQJQQFAAAAAAAAAAAACBKCAoAAAAAAAAAAAAQJQQFAAAAAAAAAAAAiBKCAgAAAAAAAAAAAEQJ\n",
       "QQEAAAAAAAAAAACihKAAAAAAAAAAAAAAUUJQAAAAAAAAAAAAgCghKAAAAAAAAAAAAECUEBQAAAAA\n",
       "AAAAAAAgSggKAAAAAAAAAAAAECUEBQAAAAAAAAAAAIgSggIAAAAAAAAAAABECUEBAAAAAAAAAAAA\n",
       "ooSgAAAAAAAAAAAAAFFCUAAAAAAAAAAAAIAoISgAAAAAAAAAAABAlBAUAAAAAAAAAAAAIEoICgAA\n",
       "AAAAAAAAABAlBAUAAAAAAAAAAACIEoICAAAAAAAAAAAARAlBAQAAAAAAAAAAAKKEoAAAAAAAAAAA\n",
       "AABRQlAAAAAAAAAAAACAKCEoAAAAAAAAAAAAQJQQFAAAAAAAAAAAACBKCAoAAAAAAAAAAAAQJQQF\n",
       "AAAAAAAAAAAAiBKCAgAAAAAAAAAAAEQJQQEAAAAAAAAAAACihKAAAAAAAAAAAAAAUUJQAAAAAAAA\n",
       "AAAAgCghKAAAAAAAAAAAAECUEBQAAAAAAAAAAAAgSggKAAAAAAAAAAAAECUEBQAAAAAAAAAAAIgS\n",
       "ggIAAAAAAAAAAABECUEBAAAAAAAAAAAAooSgAAAAAAAAAAAAAFFCUAAAAAAAAAAAAIAoISgAAAAA\n",
       "AAAAAABAlBAUAAAAAAAAAAAAIEoICgAAAAAAAAAAABAlBAUAAAAAAAAAAACIEoICAAAAAAAAAAAA\n",
       "RAlBAQAAAAAAAAAAAKKEoAAAAAAAAAAAAABRQlAAAAAAAAAAAACAKCEoAAAAAAAAAAAAQJQQFAAA\n",
       "AAAAAAAAACDq2j0AAAAAAAAA3uaYuycAS7lp+I3pnuFfzt0DgEV8BAUAAAAAAAAAAACIEoICAAAA\n",
       "AAAAAAAARAlBAQAAAAAAAAAAAKKEoAAAAAAAAAAAAABRQlAAAAAAAAAAAACAKCEoAAAAAAAAAAAA\n",
       "QJQQFAAAAAAAAAAAACBKCAoAAAAAAAAAAAAQJQQFAAAAAAAAAAAAiBKCAgAAAAAAAAAAAEQJQQEA\n",
       "AAAAAAAAAACihKAAAAAAAAAAAAAAUUJQAAAAAAAAAAAAgCghKAAAAAAAAAAAAECUEBQAAAAAAAAA\n",
       "AAAgSggKAAAAAAAAAAAAECUEBQAAAAAAAAAAAIgSggIAAAAAAAAAAABECUEBAAAAAAAAAAAAooSg\n",
       "AAAAAAAAAAAAAFFCUAAAAAAAAAAAAIAoISgAAAAAAAAAAABAlBAUAAAAAAAAAAAAIEoICgAAAAAA\n",
       "AAAAABAlBAUAAAAAAAAAAACIEoICAAAAAAAAAAAARAlBAQAAAAAAAAAAAKKEoAAAAAAAAAAAAABR\n",
       "QlAAAAAAAAAAAACAKCEoAAAAAAAAAAAAQJQQFAAAAAAAAAAAACBKCAoAAAAAAAAAAAAQJQQFAAAA\n",
       "AAAAAAAAiBKCAgAAAAAAAAAAAEQJQQEAAAAAAAAAAACihKAAAAAAAAAAAAAAUUJQAAAAAAAAAAAA\n",
       "gCghKAAAAAAAAAAAAECUEBQAAAAAAAAAAAAgSggKAAAAAAAAAAAAECUEBQAAAAAAAAAAAIgSggIA\n",
       "AAAAAAAAAABECUEBAAAAAAAAAAAAooSgAAAAAAAAAAAAAFFCUAAAAAAAAAAAAIAoISgAAAAAAAAA\n",
       "AABAlBAUAAAAAAAAAAAAIEoICgAAAAAAAAAAABAlBAUAAAAAAAAAAACIEoICAAAAAAAAAAAARAlB\n",
       "AQAAAAAAAAAAAKKEoAAAAAAAAAAAAABRQlAAAAAAAAAAAACAKCEoAAAAAAAAAAAAQJQQFAAAAAAA\n",
       "AAAAACBKCAoAAAAAAAAAAAAQJQQFAAAAAAAAAAAAiBKCAgAAAAAAAAAAAEQJQQEAAAAAAAAAAACi\n",
       "hKAAAAAAAAAAAAAAUUJQAAAAAAAAAAAAgCghKAAAAAAAAAAAAECUEBQAAAAAAAAAAAAgSggKAAAA\n",
       "AAAAAAAAECUEBQAAAAAAAAAAAIgSggIAAAAAAAAAAABECUEBAAAAAAAAAAAAooSgAAAAAAAAAAAA\n",
       "AFFCUAAAAAAAAAAAAIAoISgAAAAAAAAAAABAlBAUAAAAAAAAAAAAIEoICgAAAAAAAAAAABAlBAUA\n",
       "AAAAAAAAAACIEoICAAAAAAAAAAAARAlBAQAAAAAAAAAAAKKEoAAAAAAAAAAAAABRQlAAAAAAAAAA\n",
       "AACAKCEoAAAAAAAAAAAAQJQQFAAAAAAAAAAAACBKCAoAAAAAAAAAAAAQJQQFAAAAAAAAAAAAiBKC\n",
       "AgAAAAAAAAAAAEQJQQEAAAAAAAAAAACihKAAAAAAAAAAAAAAUUJQAAAAAAAAAAAAgCghKAAAAAAA\n",
       "AAAAAECUEBQAAAAAAAAAAAAgSggKAAAAAAAAAAAAECUEBQAAAAAAAAAAAIgSggIAAAAAAAAAAABE\n",
       "CUEBAAAAAAAAAAAAooSgAAAAAAAAAAAAAFFCUAAAAAAAAAAAAIAoISgAAAAAAAAAAABAlBAUAAAA\n",
       "AAAAAAAAIEoICgAAAAAAAAAAABAlBAUAAAAAAAAAAACIEoICAAAAAAAAAAAARAlBAQAAAAAAAAAA\n",
       "AKKEoAAAAAAAAAAAAABRQlAAAAAAAAAAAACAKCEoAAAAAAAAAAAAQJQQFAAAAAAAAAAAACBKCAoA\n",
       "AAAAAAAAAAAQJQQFAAAAAAAAAAAAiBKCAgAAAAAAAAAAAEQJQQEAAAAAAAAAAACihKAAAAAAAAAA\n",
       "AAAAUUJQAAAAAAAAAAAAgCghKAAAAAAAAAAAAECUEBQAAAAAAAAAAAAgSggKAAAAAAAAAAAAECUE\n",
       "BQAAAAAAAAAAAIgSggIAAAAAAAAAAABECUEBAAAAAADgYedeTgCEoSgKEj+gC8H+q7WJQDgyU8Fd\n",
       "5x0CAAAAUUJQAAAAAAAAAAAAgCghKAAAAAAAAAAAAECUEBQAAAAAAAAAAAAgSggKAAAAAAAAAAAA\n",
       "ECUEBQAAAAAAAAAAAIgSggIAAAAAAAAAAABECUEBAAAAAAAAAAAAooSgAAAAAAAAAAAAAFFCUAAA\n",
       "AAAAAAAAAIAoISgAAAAAAAAAAABAlBAUAAAAAAAAAAAAIEoICgAAAAAAAAAAABAlBAUAAAAAAAAA\n",
       "AACIEoICAAAAAAAAAAAARAlBAQAAAAAAAAAAAKKEoAAAAAAAAAAAAABRQlAAAAAAAAAAAACAKCEo\n",
       "AAAAAAAAAAAAQJQQFAAAAAAAAAAAACBKCAoAAAAAAAAAAAAQJQQFAAAAAAAAAAAAiBKCAgAAAAAA\n",
       "AAAAAEQJQQEAAAAAAAAAAACihKAAAAAAAAAAAAAAUUJQAAAAAAAAAAAAgCghKAAAAAAAAAAAAECU\n",
       "EBQAAAAAAAAAAAAgSggKAAAAAAAAAAAAECUEBQAAAAAAAAAAAIgSggIAAAAAAAAAAABECUEBAAAA\n",
       "AAAAAAAAooSgAAAAAAAAAAAAAFFCUAAAAAAAAAAAAIAoISgAAAAAAAAAAABAlBAUAAAAAAAAAAAA\n",
       "IEoICgAAAAAAAAAAABAlBAUAAAAAAAAAAACIEoICAAAAAAAAAAAARAlBAQAAAAAAAAAAAKKEoAAA\n",
       "AAAAAAAAAABRQlAAAAAAAAAAAACAKCEoAAAAAAAAAAAAQJQQFAAAAAAAAAAAACBKCAoAAAAAAAAA\n",
       "AAAQJQQFAAAAAAAAAAAAiBKCAgAAAAAAAAAAAEQJQQEAAAAAAAAAAACihKAAAAAAAAAAAAAAUUJQ\n",
       "AAAAAAAAAAAAgCghKAAAAAAAAAAAAECUEBQAAAAAAAAAAAAgSggKAAAAAAAAAAAAECUEBQAAAAAA\n",
       "AAAAAIgSggIAAAAAAAAAAABECUEBAAAAAAAAAAAAooSgAAAAAAAAAAAAAFFCUAAAAAAAAAAAAIAo\n",
       "ISgAAAAAAAAAAABAlBAUAAAAAAAAAAAAIEoICgAAAAAAAAAAABAlBAUAAAAAAAAAAACIEoICAAAA\n",
       "AAAAAAAARAlBAQAAAAAAAAAAAKKEoAAAAAAAAAAAAABRQlAAAAAAAAAAAACAKCEoAAAAAAAAAAAA\n",
       "QJQQFAAAAAAAAAAAACBKCAoAAAAAAAAAAAAQJQQFAAAAAAAAAAAAiBKCAgAAAAAAAAAAAEQJQQEA\n",
       "AAAAAAAAAACihKAAAAAAAAAAAAAAUUJQAAAAAAAAAAAAgCghKAAAAAAAAAAAAECUEBQAAAAAAAAA\n",
       "AAAgSggKAAAAAAAAAAAAECUEBQAAAAAAAAAAAIgSggIAAAAAAAAAAABECUEBAAAAAAAAAAAAooSg\n",
       "AAAAAAAAAAAAAFFCUAAAAAAAAAAAAIAoISgAAAAAAAAAAABAlBAUAAAAAAAAAAAAIEoICgAAAAAA\n",
       "AAAAABAlBAUAAAAAAAAAAACIEoICAAAAAAAAAAAARAlBAQAAAAAAAAAAAKKEoAAAAAAAAAAAAABR\n",
       "QlAAAAAAAAAAAACAKCEoAAAAAAAAAAAAQJQQFAAAAAAAAAAAACBKCAoAAAAAAAAAAAAQJQQFAAAA\n",
       "AAAAAAAAiBKCAgAAAAAAAAAAAEQJQQEAAAAAAAAAAACihKAAAAAAAAAAAAAAUUJQAAAAAAAAAAAA\n",
       "gCghKAAAAAAAAAAAAECUEBQAAAAAAAAAAAAgSggKAAAAAAAAAAAAECUEBQAAAAAAAAAAAIgSggIA\n",
       "AAAAAAAAAABECUEBAAAAAAAAAAAAooSgAAAAAAAAAAAAAFFCUAAAAAAAAAAAAIAoISgAAAAAAAAA\n",
       "AABAlBAUAAAAAAAAAAAAIEoICgAAAAAAAAAAABAlBAUAAAAAAAAAAACIEoICAAAAAAAAAAAARAlB\n",
       "AQAAAAAAAAAAAKKEoAAAAAAAAAAAAABRQlAAAAAAAAAAAACAKCEoAAAAAAAAAAAAQJQQFAAAAAAA\n",
       "AAAAACBKCAoAAAAAAAAAAAAQJQQFAAAAAAAAAAAAiBKCAgAAAAAAAAAAAEQJQQEAAAAAAAAAAACi\n",
       "hKAAAAAAAAAAAAAAUUJQAAAAAAAAAAAAgCghKAAAAAAAAAAAAECUEBQAAAAAAAAAAAAgSggKAAAA\n",
       "AAAAAAAAECUEBQAAAAAAAAAAAIgSggIAAAAAAAAAAABECUEBAAAAAAAAAAAAooSgAAAAAAAAAAAA\n",
       "AFFCUAAAAAAAAAAAAIAoISgAAAAAAAAAAABAlBAUAAAAAAAAAAAAIEoICgAAAAAAAAAAABAlBAUA\n",
       "AAAAAAAAAACIEoICAAAAAAAAAAAARAlBAQAAAAAAAAAAAKKEoAAAAAAAAAAAAABRQlAAAAAAAAAA\n",
       "AACAKCEoAAAAAAAAAAAAQJQQFAAAAAAAAAAAACBKCAoAAAAAAAAAAAAQJQQFAAAAAAAAAAAAiBKC\n",
       "AgAAAAAAAAAAAEQJQQEAAAAAAAAAAACihKAAAAAAAAAAAAAAUUJQAAAAAAAAAAAAgCghKAAAAAAA\n",
       "AAAAAECUEBQAAAAAAAAAAAAgSggKAAAAAAAAAAAAECUEBQAAAAAAAAAAAIgSggIAAAAAAAAAAABE\n",
       "CUEBAAAAAAAAAAAAooSgAAAAAAAAAAAAAFFCUAAAAAAAAAAAAIAoISgAAAAAAAAAAABAlBAUAAAA\n",
       "AAAAAAAAIEoICgAAAAAAAAAAABAlBAUAAAAAAAAAAACIOlYPAAAAAACAGYa/D+A3xnDCgj/Ztnv1\n",
       "BGCSc39WTwAmuo539QRgEq9iAAAAAAAAAAAAAFFCUAAAAAAAAAAAAIAoISgAAAAAAAAAAABAlBAU\n",
       "AAAAAAAAAAAAIEoICgAAAAAAAAAAABAlBAUAAAAAAAAAAACIEoICAAAAAAAAAAAARAlBAQAAAAAA\n",
       "AAAAAKKEoAAAAAAAAAAAAABRQlAAAAAAAAAAAACAKCEoAAAAAAAAAAAAQJQQFAAAAAAAAAAAACBK\n",
       "CAoAAAAAAAAAAAAQJQQFAAAAAAAAAAAAiBKCAgAAAAAAAAAAAEQJQQEAAAAAAAAAAACihKAAAAAA\n",
       "AAAAAAAAUUJQAAAAAAAAAAAAgCghKAAAAAAAAAAAAECUEBQAAAAAAAAAAAAgSggKAAAAAAAAAAAA\n",
       "ECUEBQAAAAAAAAAAAIgSggIAAAAAAAAAAABECUEBAAAAAAAAAAAAooSgAAAAAAAAAAAAAFFCUAAA\n",
       "AAAAAAAAAIAoISgAAAAAAAAAAABAlBAUAAAAAAAAAAAAIEoICgAAAAAAAAAAABAlBAUAAAAAAAAA\n",
       "AACIEoICAAAAAAAAAAAARAlBAQAAAAAAAAAAAKKEoAAAAAAAAAAAAABRQlAAAAAAAAAAAACAKCEo\n",
       "AAAAAAAAAAAAQJQQFAAAAAAAAAAAACBKCAoAAAAAAAAAAAAQJQQFAAAAAAAAAAAAiBKCAgAAAAAA\n",
       "AAAAAEQJQQEAAAAAAAAAAACihKAAAAAAAAAAAAAAUUJQAAAAAAAAAAAAgCghKAAAAAAAAAAAAECU\n",
       "EBQAAAAAAAAAAAAgSggKAAAAAAAAAAAAECUEBQAAAAAAAAAAAIgSggIAAAAAAAAAAABECUEBAAAA\n",
       "AAAAAAAAooSgAAAAAAAAAAAAAFFCUAAAAAAAAAAAAIAoISgAAAAAAAAAAABAlBAUAAAAAAAAAAAA\n",
       "IEoICgAAAAAAAAAAABAlBAUAAAAAAAAAAACIEoICAAAAAAAAAAAARAlBAQAAAAAAAAAAAKKEoAAA\n",
       "AAAAAAAAAABRQlAAAAAAAAAAAACAKCEoAAAAAAAAAAAAQJQQFAAAAAAAAAAAACBKCAoAAAAAAAAA\n",
       "AAAQJQQFAAAAAAAAAAAAiBKCAgAAAAAAAAAAAEQJQQEAAAAAAAAAAACihKAAAAAAAAAAAAAAUUJQ\n",
       "AAAAAAAAAAAAgCghKAAAAAAAAAAAAECUEBQAAAAAAAAAAAAgSggKAAAAAAAAAAAAECUEBQAAAAAA\n",
       "AAAAAIgSggIAAAAAAAAAAABECUEBAAAAAAAAAAAAooSgAAAAAAAAAAAAAFFCUAAAAAAAAAAAAIAo\n",
       "ISgAAAAAAAAAAABAlBAUAAAAAAAAAAAAIEoICgAAAAAAAAAAABAlBAUAAAAAAAAAAACIEoICAAAA\n",
       "AAAAAAAARAlBAQAAAAAAAAAAAKKEoAAAAGv3nV8AACAASURBVAAAAAAAAABRQlAAAAAAAAAAAACA\n",
       "KCEoAAAAAAAAAAAAQJQQFAAAAAAAAAAAACBKCAoAAAAAAAAAAAAQJQQFAAAAAAAAAAAAiBKCAgAA\n",
       "AAAAAAAAAEQJQQEAAAAAAAAAAACihKAAAAAAAAAAAAAAUUJQAAAAAAAAAAAAgCghKAAAAAAAAAAA\n",
       "AECUEBQAAAAAAAAAAAAgSggKAAAAAAAAAAAAECUEBQAAAAAAAAAAAIgSggIAAAAAAAAAAABECUEB\n",
       "AAAAAAAAAAAAooSgAAAAAAAAAAAAAFFCUAAAAAAAAAAAAIAoISgAAAAAAAAAAABAlBAUAAAAAAAA\n",
       "AAAAIEoICgAAAAAAAAAAABAlBAUAAAAAAAAAAACIEoICAAAAAAAAAAAARAlBAQAAAAAAAAAAAKKE\n",
       "oAAAAAAAAAAAAABRQlAAAAAAAAAAAACAKCEoAAAAAAAAAAAAQJQQFAAAAAAAAAAAACBKCAoAAAAA\n",
       "AAAAAAAQJQQFAAAAAAAAAAAAiBKCAgAAAAAAAAAAAEQJQQEAAAAAAAAAAACihKAAAAAAAAAAAAAA\n",
       "UUJQAAAAAAAAAAAAgCghKAAAAAAAAAAAAECUEBQAAAAAAAAAAAAgSggKAAAAAAAAAAAAECUEBQAA\n",
       "AAAAAAAAAIgSggIAAAAAAAAAAABECUEBAAAAAAAAAAAAooSgAAAAAAAAAAAAAFFCUAAAAAAAAAAA\n",
       "AIAoISgAAAAAAAAAAABAlBAUAAAAAAAAAAAAIEoICgAAAAAAAAAAABAlBAUAAAAAAAAAAACIEoIC\n",
       "AAAAAAAAAAAARAlBAQAAAAAAAAAAAKKEoAAAAAAAAAAAAABRQlAAAAAAAAAAAACAKCEoAAAAAAAA\n",
       "AAAAQJQQFAAAAAAAAAAAACBKCAoAAAAAAAAAAAAQJQQFAAAAAAAAAAAAiBKCAgAAAAAAAAAAAEQJ\n",
       "QQEAAAAAAAAAAACihKAAAAAAAAAAAAAAUUJQAAAAAAAAAAAAgCghKAAAAAAAAAAAAECUEBQAAAAA\n",
       "AAAAAAAgSggKAAAAAAAAAAAAECUEBQAAAAAAAAAAAIgSggIAAAAAAAAAAABECUEBAAAAAAAAAAAA\n",
       "ooSgAAAAAAAAAAAAAFFCUAAAAAAAAAAAAIAoISgAAAAAAAAAAABAlBAUAAAAAAAAAAAAIEoICgAA\n",
       "AAAAAAAAABAlBAUAAAAAAAAAAACIEoICAAAAAAAAAAAARAlBAQAAAAAAAAAAAKKEoAAAAAAAAAAA\n",
       "AABRQlAAAAAAAAAAAACAKCEoAAAAAAAAAAAAQJQQFAAAAAAAAAAAACBKCAoAAAAAAAAAAAAQJQQF\n",
       "AAAAAAAAAAAAiBKCAgAAAAAAAAAAAEQJQQEAAAAAAAAAAACihKAAAAAAAAAAAAAAUUJQAAAAAAAA\n",
       "AAAAgCghKAAAAAAAAAAAAECUEBQAAAAAAAAAAAAgSggKAAAAAAAAAAAAECUEBQAAAAAAAAAAAIgS\n",
       "ggIAAAAAAAAAAABECUEBAAAAAAAAAAAAooSgAAAAAAAAAAAAAFFCUAAAAAAAAAAAAIAoISgAAAAA\n",
       "AAAAAABAlBAUAAAAAAAAAAAAIEoICgAAAAAAAAAAABAlBAUAAAAAAAAAAACIEoICAAAAAAAAAAAA\n",
       "RAlBAQAAAAAAAAAAAKKEoAAAAAAAAAAAAABRQlAAAAAAAAAAAACAKCEoAAAAAAAAAAAAQJQQFAAA\n",
       "AAAAAAAAACBKCAoAAAAAAAAAAAAQJQQFAAAAAAAAAAAAiBKCAgAAAAAAAAAAAEQJQQEAAAAAAAAA\n",
       "AACihKAAAAAAAAAAAAAAUUJQAAAAAAAAAAAAgCghKAAAAAAAAAAAAECUEBQAAAAAAAAAAAAgSggK\n",
       "AAAAAAAAAAAAECUEBQAAAAAAAAAAAIgSggIAAAAAAAAAAABECUEBAAAAAAAAAAAAooSgAAAAAAAA\n",
       "AAAAAFFCUAAAAAAAAAAAAIAoISgAAAAAAAAAAABAlBAUAAAAAAAAAAAAIEoICgAAAAAAAAAAABAl\n",
       "BAUAAAAAAAAAAACIEoICAAAAAAAAAAAARAlBAQAAAAAAAAAAAKKEoAAAAAAAAAAAAABRQlAAAAAA\n",
       "AAAAAACAKCEoAAAAAAAAAAAAQJQQFAAAAAAAAAAAACBKCAoAAAAAAAAAAAAQJQQFAAAAAAAAAAAA\n",
       "iBKCAgAAAAAAAAAAAEQJQQEAAAAAAAAAAACihKAAAAAAAAAAAAAAUUJQAAAAAAAAAAAAgCghKAAA\n",
       "AAAAAAAAAECUEBQAAAAAAAAAAAAgSggKAAAAAAAAAAAAECUEBQAAAAAAAAAAAIgSggIAAAAAAAAA\n",
       "AABECUEBAAAAAAAAAAAAooSgAAAAAAAAAAAAAFFCUAAAAAAAAAAAAIAoISgAAAAAAAAAAABAlBAU\n",
       "AAAAAAAAAAAAIEoICgAAAAAAAAAAABAlBAUAAAAAAAAAAACIEoICAAAAAAAAAAAARAlBAQAAAAAA\n",
       "AAAAAKKEoAAAAAAAAAAAAABRQlAAAAAAAAAAAACAKCEoAAAAAAAAAAAAQJQQFAAAAAAAAAAAACBK\n",
       "CAoAAAAAAAAAAAAQJQQFAAAAAAAAAAAAiBKCAgAAAAAAAAAAAEQJQQEAgI+dezeJKAyjKDpXr48x\n",
       "UAZTUWECE2PB/iuxDAPRJn742LJWBaeAzQEAAAAAAAAgSggKAAAAAAAAAAAAECUEBQAAAAAAAAAA\n",
       "AIgSggIAAAAAAAAAAABECUEBAAAAAAAAAAAAooSgAAAAAAAAAAAAAFFCUAAAAAAAAAAAAIAoISgA\n",
       "AAAAAAAAAABAlBAUAAAAAAAAAAAAIEoICgAAAAAAAAAAABAlBAUAAAAAAAAAAACIEoICAAAAAAAA\n",
       "AAAARAlBAQAAAAAAAAAAAKKEoAAAAAAAAAAAAABRQlAAAAAAAAAAAACAKCEoAAAAAAAAAAAAQJQQ\n",
       "FAAAAAAAAAAAACBKCAoAAAAAAAAAAAAQJQQFAAAAAAAAAAAAiBKCAgAAAAAAAAAAAEQJQQEAAAAA\n",
       "AAAAAACihKAAAAAAAAAAAAAAUUJQAAAAAAAAAAAAgCghKAAAAAAAAAAAAECUEBQAAAAAAAAAAAAg\n",
       "SggKAAAAAAAAAAAAECUEBQAAAAAAAAAAAIgSggIAAAAAAAAAAABECUEBAAAAAAAAAAAAooSgAAAA\n",
       "AAAAAAAAAFFCUAAAAAAAAAAAAIAoISgAAAAAAAAAAABAlBAUAAAAAAAAAAAAIEoICgAAAAAAAAAA\n",
       "ABAlBAUAAAAAAAAAAACIEoICAAAAAAAAAAAARAlBAQAAAAAAAAAAAKKEoAAAAAAAAAAAAABRQlAA\n",
       "AAAAAAAAAACAKCEoAAAAAAAAAAAAQJQQFAAAAAAAAAAAACBqnx4AAAAANdthm54ArLJdTi8AFrq4\n",
       "OE5PABa52U/TE4CFTlcv0xOARV5/ztMTgIXOt3fTE4BFPIICAAAAAAAAAAAARAlBAQAAAAAAAAAA\n",
       "AKKEoAAAAAAAAAAAAABRQlAAAAAAAAAAAACAKCEoAAAAAAAAAAAAQJQQFAAAAAAAAAAAACBKCAoA\n",
       "AAAAAAAAAAAQJQQFAAAAAAAAAAAAiBKCAgAAAAAAAAAAAEQJQQEAAAAAAAAAAACihKAAAAAAAAAA\n",
       "AAAAUUJQAAAAAAAAAAAAgCghKAAAAAAAAAAAAECUEBQAAAAAAAAAAAAgSggKAAAAAAAAAAAAECUE\n",
       "BQAAAAAAAAAAAIgSggIAAAAAAAAAAABECUEBAAAAAAAAAAAAooSgAAAAAAAAAAAAAFFCUAAAAAAA\n",
       "AAAAAIAoISgAAAAAAAAAAABAlBAUAAAAAAAAAAAAIEoICgAAAAAAAAAAABAlBAUAAAAAAAAAAACI\n",
       "EoICAAAAAAAAAAAARAlBAQAAAAAAAAAAAKKEoAAAAAAAAAAAAABRQlAAAAAAAAAAAACAKCEoAAAA\n",
       "AAAAAAAAQJQQFAAAAAAAAAAAACBKCAoAAAAAAAAAAAAQJQQFAAAAAAAAAAAAiBKCAgAAAAAAAAAA\n",
       "AEQJQQEAAAAAAAAAAACihKAAAAAAAAAAAAAAUUJQAAAAAAAAAAAAgCghKAAAAAAAAAAAAECUEBQA\n",
       "AAAAAAAAAAAgSggKAAAAAAAAAAAAECUEBQAAAAAAAAAAAIgSggIAAAAAAAAAAABECUEBAAAAAAAA\n",
       "AAAAooSgAAAAAAAAAAAAAFFCUAAAAAAAAAAAAIAoISgAAAAAAAAAAABAlBAUAAAAAAAAAAAAIEoI\n",
       "CgAAAAAAAAAAABAlBAUAAAAAAAAAAACIEoICAAAAAAAAAAAARAlBAQAAAAAAAAAAAKKEoAAAAAAA\n",
       "AAAAAABRQlAAAAAAAAAAAACAKCEoAAAAAAAAAAAAQJQQFAAAAAAAAAAAACBKCAoAAAAAAAAAAAAQ\n",
       "JQQFAAAAAAAAAAAAiBKCAgAAAAAAAAAAAEQJQQEAAAAAAAAAAACihKAAAAAAAAAAAAAAUUJQAAAA\n",
       "AAAAAAAAgCghKAAAAAAAAAAAAECUEBQAAAAAAAAAAAAgSggKAAAAAAAAAAAAECUEBQAAAAAAAAAA\n",
       "AIgSggIAAAAAAAAAAABECUEBAAAAAAAAAAAAooSgAAAAAAAAAAAAAFFCUAAAAAAAAAAAAIAoISgA\n",
       "AAAAAAAAAABAlBAUAAAAAAAAAAAAIEoICgAAAAAAAAAAABAlBAUAAAAAAAAAAACIEoICAAAAAAAA\n",
       "AAAARAlBAQAAAAAAAAAAAKKEoAAAAAAAAAAAAABRQlAAAAAAAAAAAACAKCEoAAAAAAAAAAAAQJQQ\n",
       "FAAAAAAAAAAAACBKCAoAAAAAAAAAAAAQJQQFAAAAAAAAAAAAiBKCAgAAAAAAAAAAAEQJQQEAAAAA\n",
       "AAAAAACihKAAAAAAAAAAAAAAUUJQAAAAAAAAAAAAgCghKAAAAAAAAAAAAECUEBQAAAAAAAAAAAAg\n",
       "SggKAAAAAAAAAAAAECUEBQAAAAAAAAAAAIgSggIAAAAAAAAAAABECUEBAAAAAAAAAAAAooSgAAAA\n",
       "AAAAAAAAAFFCUAAAAAAAAAAAAIAoISgAAAAAAAAAAABAlBAUAAAAAAAAAAAAIEoICgAAAAAAAAAA\n",
       "ABAlBAUAAAAAAAAAAACIEoICAAAAAAAAAAAARAlBAQAAAAAAAAAAAKKEoAAAAAAAAAAAAABRQlAA\n",
       "AAAAAAAAAACAKCEoAAAAAAAAAAAAQJQQFAAAAAAAAAAAACBKCAoAAAAAAAAAAAAQJQQFAAAAAAAA\n",
       "AAAAiBKCAgAAAAAAAAAAAEQJQQEAAAAAAAAAAACihKAAAAAAAAAAAAAAUUJQAAAAAAAAAAAAgCgh\n",
       "KAAAAAAAAAAAAECUEBQAAAAAAAAAAAAgSggKAAAAAAAAAAAAECUEBQAAAAAAAAAAAIgSggIAAAAA\n",
       "AAAAAABECUEBAAAAAAAAAAAAooSgAAAAAAAAAAAAAFFCUAAAAAAAAAAAAIAoISgAAAAAAAAAAABA\n",
       "lBAUAAAAAAAAAAAAIEoICgAAAAAAAAAAABAlBAUAAAAAAAAAAACIEoICAAAAAAAAAAAARAlBAQAA\n",
       "AAAAAAAAAKKEoAAAAAAAAAAAAABRQlAAAAAAAAAAAACAKCEoAAAAAAAAAAAAQJQQFAAAAAAAAAAA\n",
       "ACBKCAoAAAAAAAAAAAAQJQQFAAAAAAAAAAAAiBKCAgAAAAAAAAAAAEQJQQEAAAAAAAAAAACihKAA\n",
       "AAAAAAAAAAAAUUJQAAAAAAAAAAAAgCghKAAAAAAAAAAAAECUEBQAAAAAAAAAAAAgSggKAAAAAAAA\n",
       "AAAAECUEBQAAAAAAAAAAAIgSggIAAAAAAAAAAABECUEBAAAAAAAAAAAAooSgAAAAAAAAAAAAAFFC\n",
       "UAAAAAAAAAAAAIAoISgAAAAAAAAAAABAlBAUAAAAAAAAAAAAIEoICgAAAAAAAAAAABAlBAUAAAAA\n",
       "AAAAAACIEoICAAAAAAAAAAAARAlBAQAAAAAAAAAAAKKEoAAAAAAAAAAAAABRQlAAAAAAAAAAAACA\n",
       "KCEoAAAAAAAAAAAAQJQQFAAAAAAAAAAAACBKCAoAAAAAAAAAAAAQJQQFAAAAAAAAAAAAiBKCAgAA\n",
       "AAAAAAAAAEQJQQEAAAAAAAAAAACihKAAAAAAAAAAAAAAUUJQAAAAAAAAAAAAgCghKAAAAAAAAAAA\n",
       "AECUEBQAAAAAAAAAAAAgSggKAAAAAAAAAAAAECUEBQAAAAAAAAAAAIgSggIAAAAAAAAAAABECUEB\n",
       "AAAAAAAAAAAAooSgAAAAAAAAAAAAAFFCUAAAAAAAAAAAAIAoISgAAAAAAAAAAABAlBAUAAAAAAAA\n",
       "AAAAIEoICgAAAAAAAAAAABAlBAUAAAAAAAAAAACIEoICAAAAAAAAAAAARAlBAQAAAAAAAAAAAKKE\n",
       "oAAAAAAAAAAAAABRQlAAAAAAAAAAAACAKCEoAAAAAAAAAAAAQJQQFAAAAAAAAAAAACBKCAoAAAAA\n",
       "AAAAAAAQJQQFAAAAAAAAAAAAiBKCAgAAAAAAAAAAAEQJQQEAAAAAAAAAAACihKAAAAAAAAAAAAAA\n",
       "UUJQAAAAAAAAAAAAgCghKAAAAAAAAAAAAECUEBQAAAAAAAAAAAAgSggKAAAAAAAAAAAAECUEBQAA\n",
       "AAAAAAAAAIgSggIAAAAAAAAAAABECUEBAAAAAAAAAAAAooSgAAAAAAAAAAAAAFFCUAAAAAAAAAAA\n",
       "AIAoISgAAAAAAAAAAABAlBAUAAAAAAAAAAAAIEoICgAAAAAAAAAAABAlBAUAAAAAAAAAAACIEoIC\n",
       "AAAAAAAAAAAARAlBAQAAAAAAAAAAAKKEoAAAAAAAAAAAAABRQlAAAAAAAAAAAACAKCEoAAAAAAAA\n",
       "AAAAQJQQFAAAAAAAAAAAACBKCAoAAAAAAAAAAAAQJQQFAAAAAAAAAAAAiBKCAgAAAAAAAAAAAEQJ\n",
       "QQEAAAAAAAAAAACihKAAAAAAAAAAAAAAUUJQAAAAAAAAAAAAgCghKAAAAAAAAAAAAECUEBQAAAAA\n",
       "AAAAAAAgSggKAAAAAAAAAAAAECUEBQAAAAAAAAAAAIgSggIAAAAAAAAAAABECUEBAAAAAAAAAAAA\n",
       "ooSgAAAAAAAAAAAAAFFCUAAAAAAAAAAAAIAoISgAAAAAAAAAAABAlBAUAAAAAAAAAAAAIEoICgAA\n",
       "AAAAAAAAABAlBAUAAAAAAAAAAACIEoICAAAAAAAAAAAARAlBAQAAAAAAAAAAAKKEoAAAAAAAAAAA\n",
       "AABRQlAAAAAAAAAAAACAKCEoAAAAAAAAAAAAQJQQFAAAAAAAAAAAACBKCAoAAAAAAAAAAAAQJQQF\n",
       "AAAAAAAAAAAAiBKCAgAAAAAAAAAAAEQJQQEAAAAAAAAAAACihKAAAAAAAAAAAAAAUUJQAAAAAAAA\n",
       "AAAAgCghKAAAAAAAAAAAAECUEBQAAAAAAAAAAAAgSggKAAAAAAAAAAAAECUEBQAAAAAAAAAAAIgS\n",
       "ggIAAAAAAAAAAABECUEBAAAAAAAAAAAAooSgAAAAAAAAAAAAAFFCUAAAAAAAAAAAAIAoISgAAAAA\n",
       "AAAAAABAlBAUAAAAAAAAAAAAIEoICgAAAAAAAAAAABAlBAUAAAAAAAAAAACIEoICAAAAAAAAAAAA\n",
       "RAlBAQAAAAAAAAAAAKKEoAAAAAAAAAAAAABRQlAAAAAAAAAAAACAKCEoAAAAAAAAAAAAQJQQFAAA\n",
       "AAAAAAAAACBKCAoAAAAAAAAAAAAQJQQFAAAAAAAAAAAAiBKCAgAAAAAAAAAAAEQJQQEAAAAAAAAA\n",
       "AACihKAAAAAAAAAAAAAAUUJQAAAAAAAAAAAAgCghKAAAAAAAAAAAAECUEBQAAAAAAAAAAAAgSggK\n",
       "AAAAAAAAAAAAECUEBQAAAAAAAAAAAIgSggIAAAAAAAAAAABECUEBAAAAAAAAAAAAooSgAAAAAAAA\n",
       "AAAAAFFCUAAAAAAAAAAAAIAoISgAAAAAAAAAAABAlBAUAAAAAAAAAAAAIEoICgAAAAAAAAAAABAl\n",
       "BAUAAAAAAAAAAACIEoICAAAAAAAAAAAARAlBAQAAAAAAAAAAAKKEoAAAAAAAAAAAAABRQlAAAAAA\n",
       "AAAAAACAKCEoAAAAAAAAAAAAQJQQFAAAAAAAAAAAACBKCAoAAAAAAAAAAAAQJQQFAAAAAAAAAAAA\n",
       "iBKCAgAAAAAAAAAAAERth8P+Oz0CAAD+u+2wTU8AFtq26+kJwCL7/jA9AVjo/vppegKwyPPv2/QE\n",
       "YKH342l6ArDIx+P39ARgoc+nr+kJwCIeQQEAAAAAAAAAAACihKAAAAAAAAAAAAAAUUJQAAAAAAAA\n",
       "AAAAgCghKAAAAAAAAAAAAECUEBQAAAAAAAAAAAAgSggKAAAAAAAAAAAAECUEBQAAAAAAAAAAAIgS\n",
       "ggIAAAAAAAAAAABECUEBAAAAAAAAAAAAooSgAAAAAAAAAAAAAFFCUAAAAAAAAAAAAIAoISgAAAAA\n",
       "AAAAAABAlBAUAAAAAAAAAAAAIEoICgAAAAAAAAAAABAlBAUAAAAAAAAAAACIEoICAAAAAAAAAAAA\n",
       "RAlBAQAAAAAAAAAAAKKEoAAAAAAAAAAAAABRQlAAAAAAAAAAAACAKCEoAAAAAAAAAAAAQJQQFAAA\n",
       "AAAAAAAAACBKCAoAAAAAAAAAAAAQJQQFAAAAAAAAAAAAiBKCAgAAAAAAAAAAAEQJQQEAAAAAAAAA\n",
       "AACihKAAAAAAAAAAAAAAUUJQAAAAAAAAAAAAgCghKAAAAAAAAAAAAECUEBQAAAAAAAAAAAAgSggK\n",
       "AAAAAAAAAAAAECUEBQAAAAAAAAAAAIgSggIAAAAAAAAAAABECUEBAAAAAAAAAAAAooSgAAAAAAAA\n",
       "AAAAAFFCUAAAAAAAAAAAAIAoISgAAAAAAAAAAABAlBAUAAAAAAAAAAAAIEoICgAAAAAAAAAAABAl\n",
       "BAUAAAAAAAAAAACIEoICAAAAAAAAAAAARAlBAQAAAAAAAAAAAKKEoAAAAAAAAAAAAABRQlAAAAAA\n",
       "AAAAAACAKCEoAAAAAAAAAAAAQJQQFAAAAAAAAAAAACBKCAoAAAAAAAAAAAAQJQQFAAAAAAAAAAAA\n",
       "iBKCAgAAAAAAAAAAAEQJQQEAAAAAAAAAAACihKAAAAAAAAAAAAAAUUJQAAAAAAAAAAAAgCghKAAA\n",
       "AAAAAAAAAECUEBQAAAAAAAAAAAAgSggKAAAAAAAAAAAAECUEBQAAAAAAAAAAAIgSggIAAAAAAAAA\n",
       "AABECUEBAAAAAAAAAAAAooSgAAAAAAAAAAAAAFFCUAAAAAAAAAAAAIAoISgAAAAAAAAAAABAlBAU\n",
       "AAAAAAAAAAAAIEoICgAAAAAAAAAAABAlBAUAAAAAAAAAAACIEoICAAAAAAAAAAAARAlBAQAAAAAA\n",
       "AAAAAKKEoAAAAAAAAAAAAABRQlAAAAAAAAAAAACAKCEoAAAAAAAAAAAAQJQQFAAAAAAAAAAAACBK\n",
       "CAoAAAAAAAAAAAAQJQQFAAAAAAAAAAAAiBKCAgAAAAAAAAAAAEQJQQEAAAAAAAD4Y+eOTSIKoCCK\n",
       "+mFXMXPBwFgQDEwVjLb/3MAibEGwArMHjwvnVDAFXAYAAIgSggIAAAAAAAAAAABECUEBAAAAAAAA\n",
       "AAAAooSgAAAAAAAAAAAAAFFCUAAAAAAAAAAAAIAoISgAAAAAAAAAAABAlBAUAAAAAAAAAAAAIEoI\n",
       "CgAAAAAAAAAAABAlBAUAAAAAAAAAAACIEoICAAAAAAAAAAAARAlBAQAAAAAAAAAAAKKEoAAAAAAA\n",
       "AAAAAABRQlAAAAAAAAAAAACAKCEoAAAAAAAAAAAAQJQQFAAAAAAAAAAAACBKCAoAAAAAAAAAAAAQ\n",
       "JQQFAAAAAAAAAAAAiBKCAgAAAAAAAAAAAEQJQQEAAAAAAAAAAACihKAAAAAAAAAAAAAAUUJQAAAA\n",
       "AAAAAAAAgCghKAAAAAAAAAAAAECUEBQAAAAAAAAAAAAgSggKAAAAAAAAAAAAECUEBQAAAAAAAAAA\n",
       "AIgSggIAAAAAAAAAAABECUEBAAAAAAAAAAAAooSgAAAAAAAAAAAAAFFCUAAAAAAAAAAAAIAoISgA\n",
       "AAAAAAAAAABAlBAUAAAAAAAAAAAAIEoICgAAAAAAAAAAABAlBAUAAAAAAAAAAACIEoICAAAAAAAA\n",
       "AAAARAlBAQAAAAAAAAAAAKKEoAAAAAAAAAAAAABRQlAAAAAAAAAAAACAKCEoAAAAAAAAAAAAQJQQ\n",
       "FAAAAAAAAAAAACBKCAoAAAAAAAAAAAAQJQQFAAAAAAAAAAAAiBKCAgAAAAAAAAAAAEQJQQEAAAAA\n",
       "AAAAAACihKAAAAAAAAAAAAAAUUJQAAAAAAAAAAAAgCghKAAAAAAAAAAAAECUEBQAAAAAAAAAAAAg\n",
       "SggKAAAAAAAAAAAAECUEBQAAAAAAAAAAAIgSggIAAAAAAAAAAABECUEBAAAAAAAAAAAAooSgAAAA\n",
       "AAAAAAAAAFFCUAAAAAAAAAAAAIAoISgAAAAAAAAAAABAlBAUAAAAAAAAAAAAIEoICgAAAAAAAAAA\n",
       "ABAlBAUAAAAAAAAAAACIEoICAAAAAAAAAAAARAlBAQAAAAAAAAAAAKKEoAAAAAAAAAAAAABRQlAA\n",
       "AAAAAAAAAACAKCEoAAAAAAAAAAAAQJQQFAAAAAAAAAAAACBKCAoAAAAAAAAAAAAQJQQFAAAAAAAA\n",
       "AAAAiBKCAgAAAAAAAAAAAEQJQQEAAAAAAAAAAACihKAAAAAAAAAAAAAAUUJQAAAAAAAAAAAAgCgh\n",
       "KAAAAAAAAAAAAECUEBQAAAAAAAAAAAAgSggKAAAAAAAAAAAAECUEBQAAAAAAAAAAAIgSggIAAAAA\n",
       "AAAAAABECUEBAAAAAAAAAAAAooSgAAAAAAAAAAAAAFFCUAAAAAAAAAAAAIAoISgAAAAAAAAAAABA\n",
       "lBAUAAAAAAAAAAAAIEoICgAAAAAAAAAAABAlBAUAAAAAAAAAAACIEoICAAAAAAAAAAAARAlBAQAA\n",
       "AAAAAAAAAKKEoAAAAAAAAAAAAABRqT8btwAAIABJREFUQlAAAAAAAAAAAACAKCEoAAAAAAAAAAAA\n",
       "QJQQFAAAAAAAAAAAACBKCAoAAAAAAAAAAAAQJQQFAAAAAAAAAAAAiBKCAgAAAAAAAAAAAEQJQQEA\n",
       "AAAAAAAAAACihKAAAAAAAAAAAAAAUUJQAAAAAAAAAAAAgCghKAAAAAAAAAAAAECUEBQAAAAAAAAA\n",
       "AAAgSggKAAAAAAAAAAAAECUEBQAAAAAAAAAAAIgSggIAAAAAAAAAAABECUEBAAAAAAAAAAAAooSg\n",
       "AAAAAAAAAAAAAFFCUAAAAAAAAAAAAIAoISgAAAAAAAAAAABAlBAUAAAAAAAAAAAAIEoICgAAAAAA\n",
       "AAAAABAlBAUAAAAAAAAAAACIEoICAAAAAAAAAAAARAlBAQAAAAAAAAAAAKKEoAAAAAAAAAAAAABR\n",
       "QlAAAAAAAAAAAACAKCEoAAAAAAAAAAAAQJQQFAAAAAAAAAAAACBKCAoAAAAAAAAAAAAQJQQFAAAA\n",
       "AAAAAAAAiBKCAgAAAAAAAAAAAEQJQQEAAAAAAAAAAACihKAAAAAAAAAAAAAAUUJQAAAAAAAAAAAA\n",
       "gCghKAAAAAAAAAAAAECUEBQAAAAAAAAAAAAgSggKAAAAAAAAAAAAECUEBQAAAAAAAAAAAIgSggIA\n",
       "AAAAAAAAAABECUEBAAAAAAAAAAAAooSgAAAAAAAAAAAAAFFCUAAAAAAAAAAAAIAoISgAAAAAAAAA\n",
       "AABAlBAUAAAAAAAAAAAAIEoICgAAAAAAAAAAABAlBAUAAAAAAAAAAACIEoICAAAAAAAAAAAARAlB\n",
       "AQAAAAAAAAAAAKKEoAAAAAAAAAAAAABRQlAAAAAAAAAAAACAKCEoAAAAAAAAAAAAQJQQFAAAAAAA\n",
       "AAAAACBKCAoAAAAAAAAAAAAQJQQFAAAAAAAAAAAAiBKCAgAAAAAAAAAAAEQJQQEAAAAAAAAAAACi\n",
       "hKAAAAAAAAAAAAAAUUJQAAAAAAAAAAAAgCghKAAAAAAAAAAAAECUEBQAAAAAAAAAAAAgSggKAAAA\n",
       "AAAAAAAAECUEBQAAAAAAAAAAAIgSggIAAAAAAAAAAABECUEBAAAAAAAAAAAAooSgAAAAAAAAAAAA\n",
       "AFFCUAAAAAAAAAAAAIAoISgAAAAAAAAAAABAlBAUAAAAAAAAAAAAIEoICgAAAAAAAAAAABAlBAUA\n",
       "AAAAAAAAAACIEoICAAAAAAAAAAAARAlBAQAAAAAAAAAAAKKEoAAAAAAAAAAAAABRQlAAAAAAAAAA\n",
       "AACAKCEoAAAAAAAAAAAAQJQQFAAAAAAAAAAAACBKCAoAAAAAAAAAAAAQJQQFAAAAAAAAAAAAiBKC\n",
       "AgAAAAAAAAAAAEQJQQEAAAAAAAAAAACihKAAAAAAAAAAAAAAUUJQAAAAAAAAAAAAgCghKAAAAAAA\n",
       "AAAAAECUEBQAAAAAAAAAAAAgSggKAAAAAAAAAAAAECUEBQAAAAAAAAAAAIgSggIAAAAAAAAAAABE\n",
       "CUEBAAAAAAAAAAAAooSgAAAAAAAAAAAAAFFCUAAAAAAAAAAAAIAoISgAAAAAAAAAAABAlBAUAAAA\n",
       "AAAAAAAAIEoICgAAAAAAAAAAABAlBAUAAAAAAAAAAACIEoICAAAAAAAAAAAARAlBAQAAAAAAAAAA\n",
       "AKKEoAAAAAAAAAAAAABRQlAAAAAAAAAAAACAKCEoAAAAAAAAAAAAQJQQFAAAAAAAAAAAACBKCAoA\n",
       "AAAAAAAAAAAQJQQFAAAAAAAAAAAAiBKCAgAAAAAAAAAAAEQJQQEAAAAAAAAAAACihKAAAAAAAAAA\n",
       "AAAAUUJQAAAAAAAAAAAAgCghKAAAAAAAAAAAAECUEBQAAAAAAAAAAAAgSggKAAAAAAAAAAAAECUE\n",
       "BQAAAAAAAAAAAIgSggIAAAAAAAAAAABECUEBAAAAAAAAAAAAooSgAAAAAAAAAAAAAFFCUAAAAAAA\n",
       "AAAAAIAoISgAAAAAAAAAAABAlBAUAAAAAAAAAAAAIEoICgAAAAAAAAAAABB12h4AAPzvuDm2JwBD\n",
       "juN2ewIw6Hx62J4ADLncPW9PAAa9/L5uTwCGvF/utycAg65PP9sTgCEfb1/bE4BBj5/f2xOAIR5B\n",
       "AQAAAAAAAAAAAKKEoAAAAAAAAAAAAABRQlAAAAAAAAAAAACAKCEoAAAAAAAAAAAAQJQQFAAAAAAA\n",
       "AAAAACBKCAoAAAAAAAAAAAAQJQQFAAAAAAAAAAAAiBKCAgAAAAAAAAAAAEQJQQEAAAAAAAAAAACi\n",
       "hKAAAAAAAAAAAAAAUUJQAAAAAAAAAAAAgCghKAAAAAAAAAAAAECUEBQAAAAAAAAAAAAgSggKAAAA\n",
       "AAAAAAAAECUEBQAAAAAAAAAAAIgSggIAAAAAAAAAAABECUEBAAAAAAAAAAAAooSgAAAAAAAAAAAA\n",
       "AFFCUAAAAAAAAAAAAIAoISgAAAAAAAAAAABAlBAUAAAAAAAAAAAAIEoICgAAAAAAAAAAABAlBAUA\n",
       "AAAAAAAAAACIEoICAAAAAAAAAAAARAlBAQAAAAAAAAAAAKKEoAAAAAAAAAAAAABRQlAAAAAAAAAA\n",
       "AACAKCEoAAAAAAAAAAAAQJQQFAAAAAAAAAAAACBKCAoAAAAAAAAAAAAQJQQFAAAAAAAAAAAAiBKC\n",
       "AgAAAAAAAAAAAEQJQQEAAAAAAAAAAACihKAAAAAAAAAAAAAAUUJQAAAAAAAAAAAAgCghKAAAAAAA\n",
       "AAAAAECUEBQAAAAAAAAAAAAgSggKAAAAAAAAAAAAECUEBQAAAAAAAAAAAIgSggIAAAAAAAAAAABE\n",
       "CUEBAAAAAAAAAAAAooSgAAAAAAAAAAAAAFFCUAAAAAAAAAAAAIAoISgAAAAAAAAAAABAlBAUAAAA\n",
       "AAAAAAAAIEoICgAAAAAAAAAAABAlBAUAAAAAAAAAAACIEoICAAAAAAAAAAAARAlBAQAAAAAAAAAA\n",
       "AKKEoAAAAAAAAAAAAABRQlAAAAAAAAAAAACAKCEoAAAAAAAAAAAAQJQQFAAAAAAAAAAAACBKCAoA\n",
       "AAAAAAAAAAAQJQQFAAAAAAAAAAAAiBKCAgAAAAAAAAAAAEQJQQEAAAAAAAAAAACihKAAAAAAAAAA\n",
       "AAAAUUJQAAAAAAAAAAAAgCghKAAAAAAAAAAAAECUEBQAAAAAAAAAAAAgSggKAAAAAAAAAAAAECUE\n",
       "BQAAAAAAAAAAAIgSggIAAAAAAAAAAABECUEBAAAAAAAAAAAAooSgAAAAAAAAAAAAAFFCUAAAAAAA\n",
       "AAAAAIAoISgAAAAAAAAAAABAlBAUAAAAAAAAAAAAIEoICgAAAAAAAAAAABAlBAUAAAAAAAAAAACI\n",
       "EoICAAAAAAAAAAAARAlBAQAAAAAAAAAAAKKEoAAAAAAAAAAAAABRQlAAAAAAAAAAAACAKCEoAAAA\n",
       "AAAAAAAAQJQQFAAAAAAAAAAAACBKCAoAAAAAAAAAAAAQJQQFAAAAAAAAAAAAiBKCAgAAAAAAAAAA\n",
       "AEQJQQEAAAAAAAAAAACihKAAAAAAAAAAAAAAUUJQAAAAAAAAAAAAgCghKAAAAAAAAAAAAECUEBQA\n",
       "AAAAAAAAAAAgSggKAAAAAAAAAAAAECUEBQAAAAAAAAAAAIgSggIAAAAAAAAAAABECUEBAAAAAAAA\n",
       "AAAAooSgAAAAAAAAAAAAAFFCUAAAAAAAAAAAAIAoISgAAAAAAAAAAABAlBAUAAAAAAAAAAAAIEoI\n",
       "CgAAAAAAAAAAABAlBAUAAAAAAAAAAACIEoICAAAAAAAAAAAARAlBAQAAAAAAAAAAAKKEoAAAAAAA\n",
       "AAAAAABRQlAAAAAAAAAAAACAKCEoAAAAAAAAAAAAQJQQFAAAAAAAAAAAACBKCAoAAAAAAAAAAAAQ\n",
       "JQQFAAAAAAAAAAAAiBKCAgAAAAAAAAAAAEQJQQEAAAAAAAAAAACihKAAAAAAAAAAAAAAUUJQAAAA\n",
       "AAAAAAAAgCghKAAAAAAAAAAAAECUEBQAAAAAAAAAAAAgSggKAAAAAAAAAAAAECUEBQAAAAAAAAAA\n",
       "AIgSggIAAAAAAAAAAABECUEBAAAAAAAAAAAAooSgAAAAAAAAAAAAAFFCUAAAAAAAAAAAAIAoISgA\n",
       "AAAAAAAAAABAlBAUAAAAAAAAAAAAIEoICgAAAAAAAAAAABAlBAUAAAAAAAAAAACIEoICAAAAAAAA\n",
       "AAAARAlBAQAAAAAAAAAAAKKEoAAAAAAAAAAAAABRQlAAAAAAAAAAAACAKCEoAAAAAAAAAAAAQJQQ\n",
       "FAAAAAAAAAAAACBKCAoAAAAAAAAAAAAQJQQFAAAAAAAAAAAAiBKCAgAAAAAAAAAAAEQJQQEAAAAA\n",
       "AAAAAACihKAAAAAAAAAAAAAAUUJQAAAAAAAAAAAAgCghKAAAAAAAAAAAAECUEBQAAAAAAAAAAAAg\n",
       "SggKAAAAAAAAAAAAECUEBQAAAAAAAAAAAIgSggIAAAAAAAAAAABECUEBAAAAAAAAAAAAooSgAAAA\n",
       "AAAAAAAAAFFCUAAAAAAAAAAAAIAoISgAAAAAAAAAAABAlBAUAAAAAAAAAAAAIEoICgAAAAAAAAAA\n",
       "ABAlBAUAAAAAAAAAAACIEoICAAAAAAAAAAAARAlBAQAAAAAAAAAAAKKEoAAAAAAAAAAAAABRQlAA\n",
       "AAAAAAAAAACAKCEoAAAAAAAAAAAAQJQQFAAAAAAAAAAAACBKCAoAAAAAAAAAAAAQJQQFAAAAAAAA\n",
       "AAAAiBKCAgAAAAAAAAAAAEQJQQEAAAAAAAAAAACihKAAAAAAAAAAAAAAUUJQAAAAAAAAAAAAgCgh\n",
       "KAAAAAAAAAAAAECUEBQAAAAAAAAAAAAgSggKAAAAAAAAAAAAECUEBQAAAAAAAAAAAIgSggIAAAAA\n",
       "AAAAAABECUEBAAAAAAAAAAAAooSgAAAAAAAAAAAAAFFCUAAAAAAAAAAAAIAoISgAAAAAAAAAAABA\n",
       "lBAUAAAAAAAAAAAAIEoICgAAAAAAAAAAABAlBAUAAAAAAAAAAACIEoICAAAAAAAAAAAARAlBAQAA\n",
       "AAAAAAAAAKKEoAAAAAAAAAAAAABRQlAAAAAAAAAAAACAKCEoAAAAAAAAAAAAQJQQFAAAAAAAAAAA\n",
       "ACBKCAoAAAAAAAAAAAAQJQQFAAAAAAAAAAAAiBKCAgAAAAAAAAAAAEQJQQEAAAAAAAAAAACihKAA\n",
       "AAAAAAAAAAAAUUJQAAAAAAAAAAAAgCghKAAAAAAAAAAAAECUEBQAAAAAAAAAAAAgSggKAAAAAAAA\n",
       "AAAAECUEBQAAAAAAAAAAAIgSggIAAAAAAAAAAABECUEBAAAAAAAAAAAAooSgAAAAAAAAAAAAAFFC\n",
       "UAAAAAAAAAAAAIAoISgAAAAAAAAAAABAlBAUAAAAAAAAAAD+2Ll71CqgKIyivsdT8C8BI2hhIoiF\n",
       "2MRGtBAr519YKjgGayXqDKwOHHZYawRfd5t9LgBECUEBAAAAAAAAAAAAooSgAAAAAAAAAAAAAFFC\n",
       "UAAAAAAAAAAAAIAoISgAAAAAAAAAAABAlBAUAAAAAAAAAAAAIEoICgAAAAAAAAAAABAlBAUAAAAA\n",
       "AAAAAACIEoICAAAAAAAAAAAARAlBAQAAAAAAAAAAAKKEoAAAAAAAAAAAAABRQlAAAAAAAAAAAACA\n",
       "KCEoAAAAAAAAAAAAQJQQFAAAAAAAAAAAACBKCAoAAAAAAAAAAAAQJQQFAAAAAAAAAAAAiBKCAgAA\n",
       "AAAAAAAAAEQJQQEAAAAAAAAAAACihKAAAAAAAAAAAAAAUUJQAAAAAAAAAAAAgCghKAAAAAAAAAAA\n",
       "AECUEBQAAAAAAAAAAAAgSggKAAAAAAAAAAAAECUEBQAAAAAAAAAAAIgSggIAAAAAAAAAAABECUEB\n",
       "AAAAAAAAAAAAooSgAAAAAAAAAAAAAFFCUAAAAAAAAAAAAIAoISgAAAAAAAAAAABAlBAUAAAAAAAA\n",
       "AAAAIEoICgAAAAAAAAAAABAlBAUAAAAAAAAAAACIEoICAAAAAAAAAAAARAlBAQAAAAAAAAAAAKKE\n",
       "oAAAAAAAAAAAAABRQlAAAAAAAAAAAACAKCEoAAAAAAAAAAAAQJQQFAAAAAAAAAAAACBKCAoAAAAA\n",
       "AAAAAAAQJQQFAAAAAAAAAAAAiBKCAgAAAAAAAAAAAEQJQQEAAAAAAAAAAACihKAAAAAAAAAAAAAA\n",
       "UUJQAAAAAAAAAAAAgCghKAAAAAAAAAAAAECUEBQAAAAAAAAAAAAgSggKAAAAAAAAAAAAECUEBQAA\n",
       "AAAAAAAAAIgSggIAAAAAAAAAAABECUEBAAAAAAAAAAAAooSgAAAAAAAAAAAAAFFCUAAAAAAAAAAA\n",
       "AIAoISgAAAAAAAAAAABAlBAUAAAAAAAAAAAAIEoICgAAAAAAAAAAABAlBAUAAAAAAAAAAACIEoIC\n",
       "AAAAAAAAAAAARAlBAQAAAAAAAAAAAKKEoAAAAAAAAAAAAABRQlAAAAAAAAAAAACAKCEoAAAAAAAA\n",
       "AAAAQJQQFAAAAAAAAAAAACBKCAoAAAAAAAAAAAAQJQQFAAAAAAAAAAAAiBKCAgAAAAAAAAAAAEQJ\n",
       "QQEAAAAAAAAAAACihKAAAAAAAAAAAAAAUUJQAAAAAAAAAAAAgCghKAAAAAAAAAAAAECUEBQAAAAA\n",
       "AAAAAAAgSggKAAAAAAAAAAAAECUEBQAAAAAAAAAAAIgSggIAAAAAAAAAAABECUEBAAAAAAAAAAAA\n",
       "ooSgAAAAAAAAAAAAAFFCUAAAAAAAAAAAAIAoISgAAAAAAAAAAABAlBAUAAAAAAAAAAAAIEoICgAA\n",
       "AAAAAAAAABAlBAUAAAAAAAAAAACIEoICAAAAAAAAAAAARAlBAQAAAAAAAAAAAKKEoAAAAAAAAAAA\n",
       "AABRQlAAAAAAAAAAAACAqNP2AADgPw5uNuC2OB4fbE8ABj28+2x7AjDkxZ9X2xOAQW8e3d+eAAz5\n",
       "8PTn9gRg0Mfrr9sTgCEXn79vTwAG/X15tT0BGKIuAQAAAAAAAAAAAIgSggIAAAAAAAAAAABECUEB\n",
       "AAAAAAAAAAAAooSgAAAAAAAAAAAAAFFCUAAAAAAAAAAAAIAoISgAAAAAAAAAAABAlBAUAAAAAAAA\n",
       "AAAAIEoICgAAAAAAAAAAABAlBAUAAAAAAAAAAACIEoICAAAAAAAAAAAARAlBAQAAAAAAAAAAAKKE\n",
       "oAAAAAAAAAAAAABRQlAAAAAAAAAAAACAKCEoAAAAAAAAAAAAQJQQFAAAAAAAAAAAACBKCAoAAAAA\n",
       "AAAAAAAQJQQFAAAAAAAAAAAAiBKCAgAAAAAAAAAAAEQJQQEAAAAAAAAAAACihKAAAAAAAAAAAAAA\n",
       "UUJQAAAAAAAAAAAAgCghKAAAAAAAAAAAAECUEBQAAAAAAAAAAAAgSggKAAAAAAAAAAAAECUEBQAA\n",
       "AAAAAAAAAIgSggIAAAAAAAAAAABECUEBAAAAAAAAAAAAooSgAAAAAAAAAAAAAFFCUAAAAAAAAAAA\n",
       "AIAoISgAAAAAAAAAAABAlBAUAAAAAAAAAAAAIEoICgAAAAAAAAAAABAlBAUAAAAAAAAAAACIEoIC\n",
       "AAAAAAAAAAAARAlBAQAAAAAAAAAAAKKEoAAAAAAAAAAAAABRQlAAAAAAAAAAAACAKCEoAAAAAAAA\n",
       "AAAAQJQQFAAAAAAAAAAAACBKCAoAAAAAAAAAAAAQJQQFAAAAAAAAAAAAiBKCAgAAAAAAAAAAAEQJ\n",
       "QQEAAAAAAAAAAACihKAAAAAAAAAAAAAAUUJQAAAAAAAAAAAAgCghKAAAAAAAAAAAAECUEBQAAAAA\n",
       "AAAAAAAgSggKAAAAAAAAAAAAECUEBQAAAAAAAAAAAIgSggIAAAAAAAAAAABECUEBAAAAAAAAAAAA\n",
       "ooSgAAAAAAAAAAAAAFFCUAAAAAAAAAAAAIAoISgAAAAAAAAAAABAlBAUAAAAAAAAAAAAIEoICgAA\n",
       "AAAAAAAAABAlBAUAAAAAAAAAAACIEoICAAAAAAAAAAAARAlBAQAAAAAAAAAAAKKEoAAAAAAAAAAA\n",
       "AABRQlAAAAAAAAAAAACAKCEoAAAAAAAAAAAAQJQQFAAAAAAAAAAAACBKCAoAAAAAAAAAAAAQJQQF\n",
       "AAAAAAAAAAAAiBKCAgAAAAAAAAAAAEQJQQEAAAAAAAAAAACihKAAAAAAAAAAAAAAUUJQAAAAAAAA\n",
       "AAAAgCghKAAAAAAAAAAAAECUEBQAAAAAAAAAAAAgSggKAAAAAAAAAAAAECUEBQAAAAAAAAAAAIgS\n",
       "ggIAAAAAAAAAAABECUEBAAAAAAAAAAAAooSgAAAAAAAAAAAAAFFCUAAAAAAAAAAAAIAoISgAAAAA\n",
       "AAAAAABAlBAUAAAAAAAAAAAAIEoICgAAAAAAAAAAABAlBAUAAAAAAAAAAACIEoICAAAAAAAAAAAA\n",
       "RAlBAQAAAAAAAAAAAKKEoAAAAAAAAAAAAABRQlAAAAAAAAAAAACAKCEoAAAAAAAAAAAAQJQQFAAA\n",
       "AAAAAAAAACBKCAoAAAAAAAAAAAAQJQQFAAAAAAAAAAAAiBKCAgAAAAAAAAAAAEQJQQEAAAAAAAAA\n",
       "AACihKAAAAAAAAAAAAAAUUJQAAAAAAAAAAAAgCghKAAAAAAAAAAAAECUEBQAAAAAAAAAAAAgSggK\n",
       "AAAAAAAAAAAAECUEBQAAAAAAAAAAAIgSggIAAAAAAAAAAABECUEBAAAAAAAAAAAAooSgAAAAAAAA\n",
       "AAAAAFFCUAAAAAAAAAAAAIAoISgAAAAAAAAAAABAlBAUAAAAAAAAAAAAIEoICgAAAAAAAAAAABAl\n",
       "BAUAAAAAAAAAAACIEoICAAAAAAAAAAAARAlBAQAAAAAAAAAAAKKEoAAAAAAAAAAAAABRQlAAAAAA\n",
       "AAAAAACAKCEoAAAAAAAAAAAAQJQQFAAAAAAAAAAAACBKCAoAAAAAAAAAAAAQJQQFAAAAAAAAAAAA\n",
       "iBKCAgAAAAAAAAAAAEQJQQEAAAAAAAAAAACihKAAAAAAAAAAAAAAUUJQAAAAAAAAAAAAgCghKAAA\n",
       "AAAAAAAAAECUEBQAAAAAAAAAAAAgSggKAAAAAAAAAAAAECUEBQAAAAAAAAAAAIgSggIAAAAAAAAA\n",
       "AABECUEBAAAAAAAAAAAAooSgAAAAAAAAAAAAAFFCUAAAAAAAAAAAAIAoISgAAAAAAAAAAABAlBAU\n",
       "AAAAAAAAAAAAIEoICgAAAAAAAAAAABAlBAUAAAAAAAAAAACIEoICAAAAAAAAAAAARAlBAQAAAAAA\n",
       "AAAAAKKEoAAAAAAAAAAAAABRQlAAAAAAAAAAAACAKCEoAAAAAAAAAAAAQJQQFAAAAAAAAAAAACBK\n",
       "CAoAAAAAAAAAAAAQJQQFAAAAAAAAAAAAiBKCAgAAAAAAAAAAAEQJQQEAAAAAAAAAAACihKAAAAAA\n",
       "AAAAAAAAUUJQAAAAAAAAAAAAgCghKAAAAAAAAAAAAECUEBQAAAAAAAAAAAAgSggKAAAAAAAAAAAA\n",
       "ECUEBQAAAAAAAAAAAIgSggIAAAAAAAAAAABECUEBAAAAAAAAAAAAooSgAAAAAAAAAAAAAFFCUAAA\n",
       "AAAAAAAAAIAoISgAAAAAAAAAAABAlBAUAAAAAAAAAAAAIEoICgAAAAAAAAAAABAlBAUAAAAAAAAA\n",
       "AACIEoICAAAAAAAAAAAARAlBAQAAAAAAAAAAAKKEoAAAAAAAAAAAAABRQlAAAAAAAAAAAACAKCEo\n",
       "AAAAAAAAAAAAQJQQFAAAAAAAAAAAACBKCAoAAAAAAAAAAAAQJQQFAAAAAAAAAAAAiBKCAgAAAAAA\n",
       "AAAAAEQJQQEAAAAAAAAAAACihKAAAAAAAAAAAAAAUUJQAAAAAAAAAAAAgCghKAAAAAAAAAAAAECU\n",
       "EBQAAAAAAAAAAAAgSggKAAAAAAAAAAAAECUEBQAAAAAAAAAAAIgSggIAAAAAAAAAAABECUEBAAAA\n",
       "AAAAAAAAooSgAAAAAAAAAAAAAFFCUAAAAAAAAAAAAIAoISgAAAAAAAAAAABAlBAUAAAAAAAAAAAA\n",
       "IEoICgAAAAAAAAAAABAlBAUAAAAAAAAAAACIEoICAAAAAAAAAAAARAlBAQAAAAAAAAAAAKKEoAAA\n",
       "AAAAAAAAAABRQlAAAAAAAAAAAACAKCEoAAAAAAAAAAAAQJQQFAAAAAAAAAAAACBKCAoAAAAAAAAA\n",
       "AAAQJQQFAAAAAAAAAAAAiBKCAgAAAAAAAAAAAEQJQQEAAAAAAAAAAACihKAAAAAAAAAAAAAAUUJQ\n",
       "AAAAAAAAAAAAgCghKAAAAAAAAAAAAECUEBQAAAAAAAAAAAAgSggKAAAAAAAAAAAAECUEBQAAAAAA\n",
       "AAAAAIgSggIAAAAAAAAAAABECUEBAAAAAAAAAAAAooSgAAAAAAAAAAAAAFFCUAAAAAAAAAAAAIAo\n",
       "ISgAAAAAAAAAAABAlBAUAAAAAAAAAAAAIEoICgAAAAAAAAAAABAlBAUAAAAAAAAAAACIEoICAAAA\n",
       "AAAAAAAARAlBAQAAAAAAAAAAAKKEoAAAAAAAAAAAAABRQlAAAAAAAAAAAACAKCEoAAAAAAAAAAAA\n",
       "QJQQFAAAAAAAAAAAACBKCAoAAAAAAAAAAAAQJQQFAAAAAAAAAAAAiBKCAgAAAAAAAAAAAEQJQQEA\n",
       "AAAAAAAAAACihKAAAAAAAAAAAAAAUUJQAAAAAAAAAAAAgCghKAAAAAAAAAAAAECUEBQAAAAAAAAA\n",
       "AAAgSggKAAAAAAAAAAAAECUEBQAAAAAAAAAAAIgSggIAAAAAAAAAAABECUEBAAAAAAAAAAAAooSg\n",
       "AAAAAAAAAAAAAFFCUAAAAAAAAAAAAIAoISgAAAAAAAAAAABAlBAUAAAAAAAAAAAAIEoICgAAAAAA\n",
       "AAAAABAlBAUAAAAAAAAAAACIEoICAAAAAAAAAAAARAlBAQAAAAAAAAAAAKKEoAAAAAAAAAAAAABR\n",
       "QlAAAAAAAAAAAACAKCEoAAAAAAAAAAAAQJQQFAAAAAAAAAAAACBKCAoAAAAAAAAAAAAQJQQFAAAA\n",
       "AAAAAAAAiBKCAgAAAAAAAADPXiQaAAAgAElEQVQAAEQJQQEAAAAAAAAAAACihKAAAAAAAAAAAAAA\n",
       "UUJQAAAAAAAAAAAAgCghKAAAAAAAAAAAAECUEBQAAAAAAAAAAAAgSggKAAAAAAAAAAAAECUEBQAA\n",
       "AAAAAAAAAIgSggIAAAAAAAAAAABECUEBAAAAAAAAAAAAooSgAAAAAAAAAAAAAFFCUAAAAAAAAAAA\n",
       "AIAoISgAAAAAAAAAAABAlBAUAAAAAAAAAAAAIEoICgAAAAAAAAAAABAlBAUAAAAAAAAAAACIEoIC\n",
       "AAAAAAAAAAAARAlBAQAAAAAAAAAAAKKEoAAAAAAAAAAAAABRQlAAAAAAAAAAAACAKCEoAAAAAAAA\n",
       "AAAAQJQQFAAAAAAAAAAAACBKCAoAAAAAAAAAAAAQJQQFAAAAAAAAAAAAiBKCAgAAAAAAAAAAAEQJ\n",
       "QQEAAAAAAAAAAACihKAAAAAAAAAAAAAAUUJQAAAAAAAAAAAAgCghKAAAAAAAAAAAAECUEBQAAAAA\n",
       "AAAAAAAgSggKAAAAAAAAAAAAECUEBQAAAAAAAAAAAIgSggIAAAAAAAAAAABECUEBAAAAAAAAAAAA\n",
       "ooSgAAAAAAAAAAAAAFFCUAAAAAAAAAAAAIAoISgAAAAAAAAAAABAlBAUAAAAAAAAAAAAIEoICgAA\n",
       "AAAAAAAAABB12h4AzDrcOWxPAAYdPNVwa9w7Pd6eAAx6crzcngAMuTqebU8ABr09/709ARjy/vW3\n",
       "7QnAoIsvP7YnAEN+vfu0PQEYdHP2fHsCMMSPoAAAAAAAAAAAAABRQlAAAAAAAAAAAACAKCEoAAAA\n",
       "AAAAAAAAQJQQFAAAAAAAAAAAACBKCAoAAAAAAAAAAAAQJQQFAAAAAAAAAAAAiBKCAgAAAAAAAAAA\n",
       "AEQJQQEAAAAAAAAAAACihKAAAAAAAAAAAAAAUUJQAAAAAAAAAAAAgCghKAAAAAAAAAAAAECUEBQA\n",
       "AAAAAAAAAAAgSggKAAAAAAAAAAAAECUEBQAAAAAAAAAAAIgSggIAAAAAAAAAAABECUEBAAAAAAAA\n",
       "AAAAooSgAAAAAAAAAAAAAFFCUAAAAAAAAAAAAIAoISgAAAAAAAAAAABAlBAUAAAAAAAAAAAAIEoI\n",
       "CgAAAAAAAAAAABAlBAUAAAAAAAAAAACIEoICAAAAAAAAAAAARAlBAQAAAAAAAAAAAKKEoAAAAAAA\n",
       "AAAAAABRQlAAAAAAAAAAAACAKCEoAAAAAAAAAAAAQJQQFAAAAAAAAAAAACBKCAoAAAAAAAAAAAAQ\n",
       "JQQFAAAAAAAAAAAAiBKCAgAAAAAAAAAAAEQJQfnHzh2bVBBAURRkdQN/8DERRMyNNTGw/yaswlxB\n",
       "rMDswePATAW3gMMFAAAAAAAAAAAAooSgAAAAAAAAAAAAAFFCUAAAAAAAAAAAAIAoISgAAAAAAAAA\n",
       "AABAlBAUAAAAAAAAAAAAIEoICgAAAAAAAAAAABAlBAUAAAAAAAAAAACIEoICAAAAAAAAAAAARAlB\n",
       "AQAAAAAAAAAAAKKEoAAAAAAAAAAAAABRQlAAAAAAAAAAAACAKCEoAAAAAAAAAAAAQJQQFAAAAAAA\n",
       "AAAAACBKCAoAAAAAAAAAAAAQJQQFAAAAAAAAAAAAiBKCAgAAAAAAAAAAAEQJQQEAAAAAAAAAAACi\n",
       "hKAAAAAAAAAAAAAAUUJQAAAAAAAAAAAAgCghKAAAAAAAAAAAAECUEBQAAAAAAAAAAAAgSggKAAAA\n",
       "AAAAAAAAECUEBQAAAAAAAAAAAIgSggIAAAAAAAAAAABECUEBAAAAAAAAAAAAooSgAAAAAAAAAAAA\n",
       "AFFCUAAAAAAAAAAAAIAoISgAAAAAAAAAAABAlBAUAAAAAAAAAAAAIEoICgAAAAAAAAAAABAlBAUA\n",
       "AAAAAAAAAACIEoICAAAAAAAAAAAARAlBAQAAAAAAAAAAAKKEoAAAAAAAAAAAAABRQlAAAAAAAAAA\n",
       "AACAKCEoAAAAAAAAAAAAQJQQFAAAAAAAAAAAACBKCAoAAAAAAAAAAAAQJQQFAAAAAAAAAAAAiBKC\n",
       "AgAAAAAAAAAAAEQJQQEAAAAAAAAAAACihKAAAAAAAAAAAAAAUUJQAAAAAAAAAAAAgCghKAAAAAAA\n",
       "AAAAAECUEBQAAAAAAAAAAAAgSggKAAAAAAAAAAAAECUEBQAAAAAAAAAAAIgSggIAAAAAAAAAAABE\n",
       "CUEBAAAAAAAAAAAAooSgAAAAAAAAAAAAAFFCUAAAAAAAAAAAAIAoISgAAAAAAAAAAABAlBAUAAAA\n",
       "AAAAAAAAIEoICgAAAAAAAAAAABAlBAUAAAAAAAAAAACIEoICAAAAAAAAAAAARAlBAQAAAAAAAAAA\n",
       "AKKEoAAAAAAAAAAAAABRQlAAAAAAAAAAAACAKCEoAAAAAAAAAAAAQJQQFAAAAAAAAAAAACBKCAoA\n",
       "AAAAAAAAAAAQJQQFAAAAAAAAAAAAiBKCAgAAAAAAAAAAAEQJQQEAAAAAAAAAAACihKAAAAAAAAAA\n",
       "AAAAUUJQAAAAAAAAAAAAgCghKAAAAAAAAAAAAECUEBQAAAAAAAAAAAAgSggKAAAAAAAAAAAAECUE\n",
       "BQAAAAAAAAAAAIgSggIAAAAAAAAAAABECUEBAAAAAAAAAAAAooSgAAAAAAAAAAAAAFFCUAAAAAAA\n",
       "AAAAAIAoISgAAAAAAAAAAABAlBAUAAAAAAAAAAAAIEoICgAAAAAAAAAAABAlBAUAAAAAAAAAAACI\n",
       "EoICAAAAAAAAAAAARAlBAQAAAAAAAAAAAKKEoAAAAAAAAAAAAABRQlAAAAAAAAAAAACAKCEoAAAA\n",
       "AAAAAAAAQJQQFAAAAAAAAAAAACBKCAoAAAAAAAAAAAAQJQQFAAAAAAAAAAAAiBKCAgAAAAAAAAAA\n",
       "AEQJQQEAAAAAAAAAAACihKAAAAAAAAAAAAAAUUJQAAAAAAAAAAAAgCghKAAAAAAAAAAAAECUEBQA\n",
       "AAAAAAAAAAAgSggKAAAAAAAAAAAAECUEBQAAAAAAAAAAAIgSggIAAAAAAAAAAABECUEBAAAAAAAA\n",
       "AAAAooSgAAAAAAAAAAAAAFFCUAAAAAAAAAAAAIAoISgAAAAAAAAAAABAlBAUAAAAAAAAAAAAIEoI\n",
       "CgAAAAAAAAAAABAlBAUAAAAAAAAAAACIEoICAAAAAAAAAAAARAlBAQAAAAAAAAAAAKKEoAAAAAAA\n",
       "AAAAAABRQlAAAAAAAAAAAACAKCEoAAAAAAAAAAAAQJQQFAAAAAAAAAAAACBKCAoAAAAAAAAAAAAQ\n",
       "JQQFAAAAAAAAAAAAiBKCAgAAAAAAAAAAAEQJQQEAAAAAAAAAAACihKAAAAAAAAAAAAAAUUJQAAAA\n",
       "AAAAAAAAgCghKAAAAAAAAAAAAECUEBQAAAAAAAAAAAAgSggKAAAAAAAAAAAAECUEBQAAAAAAAAAA\n",
       "AIgSggIAAAAAAAAAAABECUEBAAAAAAAAAAAAooSgAAAAAAAAAAAAAFFCUAAAAAAAAAAAAIAoISgA\n",
       "AAAAAAAAAABAlBAUAAAAAAAAAAAAIEoICgAAAAAAAAAAABAlBAUAAAAAAAAAAACIEoICAAAAAAAA\n",
       "AAAARAlBAQAAAAAAAAAAAKKEoAAAAAAAAAAAAABRQlAAAAAAAAAAAACAKCEoAAAAAAAAAAAAQJQQ\n",
       "FAAAAAAAAAAAACBKCAoAAAAAAAAAAAAQJQQFAAAAAAAAAAAAiBKCAgAAAAAAAAAAAEQJQQEAAAAA\n",
       "AAAAAACihKAAAAAAAAAAAAAAUUJQAAAAAAAAAAAAgCghKAAAAAAAAAAAAECUEBQAAAAAAAAAAAAg\n",
       "SggKAAAAAAAAAAAAECUEBQAAAAAAAAAAAIgSggIAAAAAAAAAAABECUEBAAAAAAAAAAAAooSgAAAA\n",
       "AAAAAAAAAFFCUAAAAAAAAAAAAIAoISgAAAAAAAAAAABAlBAUAAAAAAAAAAAAIEoICgAAAAAAAAAA\n",
       "ABAlBAUAAAAAAAAAAACIEoICAAAAAAAAAAAARAlBAQAAAAAAAAAAAKKEoAAAAAAAAAAAAABRQlAA\n",
       "AAAAAAAAAACAKCEoAAAAAAAAAAAAQJQQFAAAAAAAAAAAACBKCAoAAAAAAAAAAAAQJQQFAAAAAAAA\n",
       "AAAAiBKCAgAAAAAAAAAAAEQJQQEAAAAAAAAAAACihKAAAAAAAAAAAAAAUUJQAAAAAAAAAAAAgCgh\n",
       "KAAAAAAAAAAAAECUEBQAAAAAAAAAAAAgSggKAAAAAAAAAAAAECUEBQAAAAAAAAAAAIgSggIAAAAA\n",
       "AAAAAABECUEBAAAAAAAAAAAAooSgAAAAAAAAAAAAAFFCUAAAAAAAAAAAAIAoISgAAAAAAAAAAABA\n",
       "lBAUAAAAAAAAAAAAIEoICgAAAAAAAAAAABAlBAUAAAAAAAAAAACIEoICAAAAAAAAAAAARAlBAQAA\n",
       "AAAAAAAAAKKEoAAAAAAAAAAAAABRQlAAAAAAAAAAAACAKCEoAAAAAAAAAAAAQJQQFAAAAAAAAAAA\n",
       "ACBKCAoAAAAAAAAAAAAQJQQFAAAAAAAAAAAAiBKCAgAAAAAAAAAAAEQJQQEAAAAAAAAAAACihKAA\n",
       "AAAAAAAAAAAAUUJQAAAAAAAAAAAAgCghKAAAAAAAAAAAAECUEBQAAAAAAAAAAAAgSggKAAAAAAAA\n",
       "AAAAECUEBQAAAAAAAAAAAIgSggIAAAAAAAAAAABECUEBAAAAAAAAAAAAooSgAAAAAAAAAAAAAFFC\n",
       "UAAAAAAAAAAAAIAoISgAAAAAAAAAAABAlBAUAAAAAAAAAAAAIEoICgAAAAAAAAAAABAlBAUAAAAA\n",
       "AAAAAACIEoICAAAAAAAAAAAARAlBAQAAAAAAAAAAAKKEoAAAAAAAAAAAAABRQlAAAAAAAAAAAACA\n",
       "KCEoAAAAAAAAAAAAQJQQFAAAAAAAAAAAACBKCAoAAAAAAAAAAAAQJQQFAAAAAAAAAAAAiBKCAgAA\n",
       "AAAAAAAAAEQJQQEAAAAAAAAAAACihKAAAAAAAAAAAAAAUUJQAAAAAAAAAAAAgCghKAAAAAAAAAAA\n",
       "AECUEBQAAAAAAAAAAAAgSggKAAAAAAAAAAAAECUEBQAAAAAAAAAAAIgSggIAAAAAAAAAAABECUEB\n",
       "AAAAAAAAAAAAooSgAAAAAAAAAAAAAFFCUAAAAAAAAAAAAIAoISgAAAAAAAAAAABAlBAUAAAAAAAA\n",
       "AAAAIEoICgAAAAAAAAAAABAlBAUAAAAAAAAAAACIEoICAAAAAAAAAAAARAlBAQAAAAAAAAAAAKKE\n",
       "oAAAAAAAAAAAAABRQlAAAAAAAAAAAACAKCEoAAAAAAAAAAAAQJQQFAAAAAAAAAAAACBKCAoAAAAA\n",
       "AAAAAAAQJQQFAAAAAAAAAAAAiBKCAgAAAAAAAAAAAEQJQQEAAAAAAAAAAACihKAAAAAAAAAAAAAA\n",
       "UUJQAAAAAAAAAAAAgCghKAAAAAAAAAAAAECUEBQAAAAAAAAAAAAgSggKAAAAAAAAAAAAECUEBQAA\n",
       "AAAAAAAAAIgSggIAAAAAAAAAAABECUEBAAAAAAAAAAAAooSgAAAAAAAAAAAAAFHn9gAA4H/Hcbs9\n",
       "ARhy3ly2JwCDrr/X7QnAkIfLsT0BGPRy/7U9ARjy9Pq5PQEY9P32sT0BGPLz/L49ARh03j1uTwCG\n",
       "eAQFAAAAAAAAAAAAiBKCAgAAAAAAAAAAAEQJQQEAAAAAAAAAAACihKAAAAAAAAAAAAAAUUJQAAAA\n",
       "AAAAAAAAgCghKAAAAAAAAAAAAECUEBQAAAAAAAAAAAAgSggKAAAAAAAAAAAAECUEBQAAAAAAAAAA\n",
       "AIgSggIAAAAAAAAAAABECUEBAAAAAAAAAAAAooSgAAAAAAAAAAAAAFFCUAAAAAAAAAAAAIAoISgA\n",
       "AAAAAAAAAABAlBAUAAAAAAAAAAAAIEoICgAAAAAAAAAAABAlBAUAAAAAAAAAAACIEoICAAAAAAAA\n",
       "AAAARAlBAQAAAAAAAAAAAKKEoAAAAAAAAAAAAABRQlAAAAAAAAAAAACAKCEoAAAAAAAAAAAAQJQQ\n",
       "FAAAAAAAAAAAACBKCAoAAAAAAAAAAAAQJQQFAAAAAAAAAAAAiBKCAgAAAAAAAAAAAEQJQQEAAAAA\n",
       "AAAAAACihKAAAAAAAAAAAAAAUUJQAAAAAAAAAAAAgCghKAAAAAAAAAAAAECUEBQAAAAAAAAAAAAg\n",
       "SggKAAAAAAAAAAAAECUEBQAAAAAAAAAAAIgSggIAAAAAAAAAAABECUEBAAAAAAAAAAAAooSgAAAA\n",
       "AAAAAAAAAFFCUAAAAAAAAAAAAIAoISgAAAAAAAAAAABAlBAUAAAAAAAAAAAAIEoICgAAAAAAAAAA\n",
       "ABAlBAUAAAAAAAAAAACIEoICAAAAAAAAAAAARAlBAQAAAAAAAAAAAKKEoAAAAAAAAAAAAABRQlAA\n",
       "AAAAAAAAAACAKCEoAAAAAAAAAAAAQJQQFAAAAAAAAAAAACBKCAoAAAAAAAAAAAAQJQQFAAAAAAAA\n",
       "AAAAiBKCAgAAAAAAAAAAAEQJQQEAAAAAAAAAAACihKAAAAAAAAAAAAAAUUJQAAAAAAAAAAAAgCgh\n",
       "KAAAAAAAAAAAAECUEBQAAAAAAAAAAAAgSggKAAAAAAAAAAAAECUEBQAAAAAAAAAAAIgSggIAAAAA\n",
       "AAAAAABECUEBAAAAAAAAAAAAooSgAAAAAAAAAAAAAFFCUAAAAAAAAAAAAIAoISgAAAAAAAAAAABA\n",
       "lBAUAAAAAAAAAAAAIEoICgAAAAAAAAAAABAlBAUAAAAAAAAAAACIEoICAAAAAAAAAAAARAlBAQAA\n",
       "AAAAAAAAAKKEoAAAAAAAAAAAAABRQlAAAAAAAAAAAACAKCEoAAAAAAAAAAAAQJQQFAAAAAAAAAAA\n",
       "ACBKCAoAAAAAAAAAAAAQJQQFAAAAAAAAAAAAiBKCAgAAAAAAAAAAAEQJQQEAAAAAAAAAAACihKAA\n",
       "AAAAAAAAAAAAUUJQAAAAAAAAAAAAgCghKAAAAAAAAAAAAECUEBQAAAAAAAAAAAAgSggKAAAAAAAA\n",
       "AAAAECUEBQAAAAAAAAAAAIgSggIAAAAAAAAAAABECUEBAAAAAAAAAAAAooSgAAAAAAAAAAAAAFFC\n",
       "UAAAAAAAAAAAAIAoISgAAAAAAAAAAABAlBAUAAAAAAAAAAAAIEoICgAAAAAAAAAAABAlBAUAAAAA\n",
       "AAAAAACIEoICAAAAAAAAAAAARAlBAQAAAAAAAAAAAKKEoAAAAAAAAAAAAABRQlAAAAAAAAAAAACA\n",
       "KCEoAAAAAAAAAAAAQJQQFAAAAAAAAAAAACBKCAoAAAAAAAAAAAAQJQQFAAAAAAAAAAAAiBKCAgAA\n",
       "AAAAAAAAAEQJQQEAAAAAAAAAAACihKAAAAAAAAAAAAAAUUJQAAAAAAAAAAAAgCghKAAAAAAAAAAA\n",
       "AECUEBQAAAAAAAAAAAAgSggKAAAAAAAAAAAAECUEBQAAAAAAAAAAAIgSggIAAAAAAAAAAABECUEB\n",
       "AAAAAAAAAAAAooSgAAAAAAAAAAAAAFFCUAAAAAAAAAAAAIAoISgAAAAAAAAAAABAlBAUAAAAAAAA\n",
       "AAAAIEoICgAAAAAAAAAAABAlBAUAAAAAAAAAAACIEoICAAAAAAAAAAAARAlBAQAAAAAAAAAAAKKE\n",
       "oAAAAAAAAAAAAABRQlAAAAAAAAAAAACAKCEoAAAAAAAAAAAAQJQQFAAAAAAAAAAAACBKCAoAAAAA\n",
       "AAAAAAAQJQQFAAAAAAAAAAAAiBKCAgAAAAAAAAAAAEQJQQEAAAAAAAAAAACihKAAAAAAAAAAAAAA\n",
       "UUJQAAAAAAAAAAAAgCghKAAAAAAAAAAAAECUEBQAAAAAAAAAAAAgSggKAAAAAAAAAAAAECUEBQAA\n",
       "AAAAAAAAAIgSggIAAAAAAAAAAABECUEBAAAAAAAAAAAAooSgAAAAAAAAAAAAAFFCUAAAAAAAAAAA\n",
       "AIAoISgAAAAAAAAAAABAlBAUAAAAAAAAAAAAIEoICgAAAAAAAAAAABAlBAUAAAAAAAAAAACIEoIC\n",
       "AAAAAAAAAAAARAlBAQAAAAAAAAAAAKKEoAAAAAAAAAAAAABRQlAAAAAAAAAAAACAKCEoAAAAAAAA\n",
       "AAAAQJQQFAAAAAAAAAAAACBKCAoAAAAAAAAAAAAQJQQFAAAAAAAAAAAAiBKCAgAAAAAAAAAAAEQJ\n",
       "QQHgj507RkEghqIoSphRFBQbwf2vUSysdBOBcIdzVvCaT5pLAAAAAAAAAAAgSggKAAAAAAAAAAAA\n",
       "ECUEBQAAAAAAAAAAAIgSggIAAAAAAAAAAABECUEBAAAAAAAAAAAAooSgAAAAAAAAAAAAAFFCUAAA\n",
       "AAAAAAAAAIAoISgAAAAAAAAAAABAlBAUAAAAAAAAAAAAIEoICgAAAAAAAAAAABAlBAUAAAAAAAAA\n",
       "AACIEoICAAAAAAAAAAAARAlBAQAAAAAAAAAAAKKEoAAAAAAAAAAAAABRQlAAAAAAAAAAAACAKCEo\n",
       "AAAAAAAAAAAAQJQQFAAAAAAAAAAAACBKCAoAAAAAAAAAAAAQJQQFAAAAAAAAAAAAiBKCAgAAAAAA\n",
       "AAAAAEQJQQEAAAAAAAAAAACihKAAAAAAAAAAAAAAUUJQAAAAAAAAAAAAgCghKAAAAAAAAAAAAECU\n",
       "EBQAAAAAAAAAAAAgSggKAAAAAAAAAAAAECUEBQAAAAAAAAAAAIgSggIAAAAAAAAAAABECUEBAAAA\n",
       "AAAAAAAAooSgAAAAAAAAAAAAAFFCUAAAAAAAAAAAAIAoISgAAAAAAAAAAABAlBAUAAAAAAAAAAAA\n",
       "IEoICgAAAAAAAAAAABAlBAUAAAAAAAAAAACIEoICAAAAAAAAAAAARAlBAQAAAAAAAAAAAKKEoAAA\n",
       "AAAAAAAAAABRQlAAAAAAAAAAAACAKCEoAAAAAAAAAAAAQJQQFAAAAAAAAAAAACBKCAoAAAAAAAAA\n",
       "AAAQJQQFAAAAAAAAAAAAiBKCAgAAAAAAAAAAAEQJQQEAAAAAAAAAAACihKAAAAAAAAAAAAAAUUJQ\n",
       "AAAAAAAAAAAAgCghKAAAAAAAAAAAAECUEBQAAAAAAAAAAAAgSggKAAAAAAAAAAAAECUEBQAAAAAA\n",
       "AAAAAIgSggIAAAAAAAAAAABECUEBAAAAAAAAAAAAooSgAAAAAAAAAAAAAFFCUAAAAAAAAAAAAIAo\n",
       "ISgAAAAAAAAAAABAlBAUAAAAAAAAAAAAIEoICgAAAAAAAAAAABAlBAUAAAAAAAAAAACIEoICAAAA\n",
       "AAAAAAAARAlBAQAAAAAAAAAAAKKEoAAAAAAAAAAAAABRQlAAAAAAAAAAAACAKCEoAAAAAAAAAAAA\n",
       "QJQQFAAAAAAAAAAAACBKCAoAAAAAAAAAAAAQJQQFAAAAAAAAAAAAiBKCAgAAAAAAAAAAAEQJQQEA\n",
       "AAAAAAAAAACihKAAAAAAAAAAAAAAUUJQAAAAAAAAAAAAgCghKAAAAAAAAAAAAECUEBQAAAAAAAAA\n",
       "AAAgSggKAAAAAAAAAAAAECUEBQAAAAAAAAAAAIgSggIAAAAAAAAAAABECUEBAAAAAAAAAAAAooSg\n",
       "AAAAAAAAAAAAAFFCUAAAAAAAAAAAAIAoISgAAAAAAAAAAABAlBAUAAAAAAAAAAAAIEoICgAAAAAA\n",
       "AAAAABAlBAUAAAAAAAAAAACIEoICAAAAAAAAAAAARAlBAQAAAAAAAAAAAKKEoAAAAAAAAAAAAABR\n",
       "QlAAAAAAAAAAAACAKCEoAAAAAAAAAAAAQJQQFAAAAAAAAAAAACBKCAoAAAAAAAAAAAAQJQQFAAAA\n",
       "AAAAAAAAiBKCAgAAAAAAAAAAAEQJQQEAAAAAAAAAAACihKAAAAAAAAAAAAAAUUJQAAAAAAAAAAAA\n",
       "gCghKAAAAAAAAAAAAECUEBQAAAAAAAAAAAAgSggKAAAAAAAAAAAAECUEBQAAAAAAAAAAAIgSggIA\n",
       "AAAAAAAAAABECUEBAAAAAAAAAAAAooSgAAAAAAAAAAAAAFFCUAAAAAAAAAAAAIAoISgAAAAAAAAA\n",
       "AABAlBAUAAAAAAAAAAAAIEoICgAAAAAAAAAAABAlBAUAAAAAAAAAAACIEoICAAAAAAAAAAAARAlB\n",
       "AQAAAAAAAAAAAKKEoAAAAAAAAAAAAABRQlAAAAAAAAAAAACAKCEoAAAAAAAAAAAAQJQQFAAAAAAA\n",
       "AAAAACBKCAoAAAAAAAAAAAAQJQQFAAAAAAAAAAAAiBKCAgAAAAAAAAAAAEQJQQEAAAAAAAAAAACi\n",
       "hKAAAAAAAAAAAAAAUUJQAAAAAAAAAAAAgCghKAAAAAAAAAAAAECUEBQAAAAAAAAAAAAgSggKAAAA\n",
       "AAAAAAAAECUEBQAAAAAAAAAAAIgSggIAAAAAAAAAAABECUEBAAAAAAAAAAAAooSgAAAAAAAAAAAA\n",
       "AFH76gHAZGOsXgDMNDzVcBSbe4ZDOf9OqycAk9ydMxzK8/ZePQGYZH99Vk8AJvpeH6snAJOM7bJ6\n",
       "AjDR8IcgHIZrBgAAAAAAAAAAAIgSggIAAAAAAAAAAABECUEBAAAAAAAAAAAAooSgAAAAAAAAAAAA\n",
       "AFFCUAAAAAAAAAAAAIAoISgAAAAAAAAAAABAlBAUAAAAAAAAAAAAIEoICgAAAAAAAAAAABAlBAUA\n",
       "AAAAAAAAAACIEoICAAAAAAAAAAAARAlBAQAAAAAAAAAAAKKEoAAAAAAAAAAAAABRQlAAAAAAAAAA\n",
       "AACAKCEoAAAAAAAAAAAAQJQQFAAAAAAAAAAAACBKCAoAAAAAAAAAAAAQJQQFAAAAAAAAAAAAiBKC\n",
       "AgAAAAAAAAAAAEQJQQEAAAAAAAAAAACihKAAAAAAAAAAAAAAUUJQAAAAAAAAAAAAgCghKAAAAAAA\n",
       "AAAAAECUEBQAAAAAAAAAAAAgSggKAAAAAAAAAAAAECUEBQAAAAAAAAAAAIgSggIAAAAAAAAAAABE\n",
       "CUEBAAAAAAAAAAAAooSgAAAAAAAAAAAAAFFCUAAAAAAAAAAAAIAoISgAAAAAAAAAAABAlBAUAAAA\n",
       "AAAAAAAAIEoICgAAAAgQeJAAABoqSURBVAAAAAAAABAlBAUAAAAAAAAAAACIEoICAAAAAAAAAAAA\n",
       "RAlBAQAAAAAAAAAAAKKEoAAAAAAAAAAAAABRQlAAAAAAAAAAAACAKCEoAAAAAAAAAAAAQJQQFAAA\n",
       "AAAAAAAAACBKCAoAAAAAAAAAAAAQJQQFAAAAAAAAAAAAiBKCAgAAAAAAAAAAAEQJQQEAAAAAAAAA\n",
       "AACihKAAAAAAAAAAAAAAUUJQAAAAAAAAAAAAgCghKAAAAAAAAAAAAECUEBQAAAAAAAAAAAAgSggK\n",
       "AAAAAAAAAAAAECUEBQAAAAAAAAAAAIgSggIAAAAAAAAAAABECUEBAAAAAAAAAAAAooSgAAAAAAAA\n",
       "AAAAAFFCUAAAAAAAAAAAAIAoISgAAAAAAAAAAABAlBAUAAAAAAAAAAAAIEoICgAAAAAAAAAAABAl\n",
       "BAUAAAAAAAAAAACIEoICAAAAAAAAAAAARAlBAQAAAAAAAAAAAKKEoAAAAAAAAAAAAABRQlAAAAAA\n",
       "AAAAAACAKCEoAAAAAAAAAAAAQJQQFAAAAAAAAAAAACBKCAoAAAAAAAAAAAAQJQQFAAAAAAAAAAAA\n",
       "iBKCAgAAAAAAAAAAAEQJQQEAAAAAAAAAAACihKAAAAAAAAAAAAAAUUJQAAAAAAAAAAAAgCghKAAA\n",
       "AAAAAAAAAECUEBQAAAAAAAAAAAAgSggKAAAAAAAAAAAAECUEBQAAAAAAAAAAAIgSggIAAAAAAAAA\n",
       "AABECUEBAAAAAAAAAAAAooSgAAAAAAAAAAAAAFFCUAAAAAAAAAAAAIAoISgAAAAAAAAAAABAlBAU\n",
       "AAAAAAAAAAAAIEoICgAAAAAAAAAAABAlBAUAAAAAAAAAAACIEoICAAAAAAAAAAAARAlBAQAAAAAA\n",
       "AAAAAKKEoAAAAAAAAAAAAABRQlAAAAAAAAAAAACAKCEoAAAAAAAAAAAAQJQQFAAAAAAAAAAAACBK\n",
       "CAoAAAAAAAAAAAAQJQQFAAAAAAAAAAAAiBKCAgAAAAAAAAAAAEQJQQEAAAAAAAAAAACihKAAAAAA\n",
       "AAAAAAAAUUJQAAAAAAAAAAAAgCghKAAAAAAAAAAAAECUEBQAAAAAAAAAAAAgSggKAAAAAAAAAAAA\n",
       "ECUEBQAAAAAAAAAAAIgSggIAAAAAAAAAAABECUEBAAAAAAAAAAAAooSgAAAAAAAAAAAAAFFCUAAA\n",
       "AAAAAAAAAIAoISgAAAAAAAAAAABAlBAUAAAAAAAAAAAAIEoICgAAAAAAAAAAABAlBAUAAAAAAAAA\n",
       "AACIEoICAAAAAAAAAAAARAlBAQAAAAAAAAAAAKKEoAAAAAAAAAAAAABRQlAAAAAAAAAAAACAKCEo\n",
       "AAAAAAAAAAAAQJQQFAAAAAAAAAAAACBKCAoAAAAAAAAAAAAQJQQFAAAAAAAAAAAAiBKCAgAAAAAA\n",
       "AAAAAEQJQQEAAAAAAAAAAACihKAAAAAAAAAAAAAAUUJQAAAAAAAAAAAAgCghKAAAAAAAAAAAAECU\n",
       "EBQAAAAAAAAAAAAgSggKAAAAAAAAAAAAECUEBQAAAAAAAAAAAIgSggIAAAAAAAAAAABECUEBAAAA\n",
       "AAAAAAAAooSgAAAAAAAAAAAAAFFCUAAAAAAAAAAAAIAoISgAAAAAAAAAAABAlBAUAAAAAAAAAAAA\n",
       "IEoICgAAAAAAAAAAABAlBAUAAAAAAAAAAACIEoICAAAAAAAAAAAARAlBAQAAAAAAAAAAAKKEoAAA\n",
       "AAAAAAAAAABRQlAAAAAAAAAAAACAKCEoAAAAAAAAAAAAQJQQFAAAAAAAAAAAACBKCAoAAAAAAAAA\n",
       "AAAQJQQFAAAAAAAAAAAAiBKCAgAAAAAAAAAAAEQJQQEAAAAAAAAAAACihKAAAAAAAAAAAAAAUUJQ\n",
       "AAAAAAAAAAAAgCghKAAAAAAAAAAAAECUEBQAAAAAAAAAAAAgSggKAAAAAAAAAAAAECUEBQAAAAAA\n",
       "AAAAAIgSggIAAAAAAAAAAABECUEBAAAAAAAAAAAAooSgAAAAAAAAAAAAAFFCUAAAAAAAAAAAAIAo\n",
       "ISgAAAAAAAAAAABAlBAUAAAAAAAAAAAAIEoICgAAAAAAAAAAABAlBAUAAAAAAAAAAACIEoICAAAA\n",
       "AAAAAAAARAlBAQAAAAAAAAAAAKKEoAAAAAAAAAAAAABRQlAAAAAAAAAAAACAKCEoAAAAAAAAAAAA\n",
       "QJQQFAAAAAAAAAAAACBKCAoAAAAAAAAAAAAQJQQFAAAAAAAAAAAAiBKCAgAAAAAAAAAAAEQJQQEA\n",
       "AAAAAAAAAACihKAAAAAAAAAAAAAAUUJQAAAAAAAAAAAAgCghKAAAAAAAAAAAAECUEBQAAAAAAAAA\n",
       "AAAgSggKAAAAAAAAAAAAECUEBQAAAAAAAAAAAIgSggIAAAAAAAAAAABECUEBAAAAAAAAAAAAooSg\n",
       "AAAAAAAAAAAAAFFCUAAAAAAAAAAAAIAoISgAAAAAAAAAAABAlBAUAAAAAAAAAAAAIEoICgAAAAAA\n",
       "AAAAABAlBAUAAAAAAAAAAACIEoICAAAAAAAAAAAARAlBAQAAAAAAAAAAAKKEoAAAAAAAAAAAAABR\n",
       "QlAAAAAAAAAAAACAKCEoAAAAAAAAAAAAQJQQFAAAAAAAAAAAACBKCAoAAAAAAAAAAAAQJQQFAAAA\n",
       "AAAAAAAAiBKCAgAAAAAAAAAAAEQJQQEAAAAAAAAAAACihKAAAAAAAAAAAAAAUUJQAAAAAAAAAAAA\n",
       "gCghKAAAAAAAAAAAAECUEBQAAAAAAAAAAAAgSggKAAAAAAAAAAAAECUEBQAAAAAAAAAAAIgSggIA\n",
       "AAAAAAAAAABECUEBAAAAAAAAAAAAooSgAAAAAAAAAAAAAFFCUAAAAAAAAAAAAIAoISgAAAAAAAAA\n",
       "AABAlBAUAAAAAAAAAAAAIEoICgAAAAAAAAAAABAlBAUAAAAAAAAAAACIEoICAAAAAAAAAAAARAlB\n",
       "AQAAAAAAAAAAAKKEoAAAAAAAAAAAAABRQlAAAAAAAAAAAACAKCEoAAAAAAAAAAAAQJQQFAAAAAAA\n",
       "AAAAACBKCAoAAAAAAAAAAAAQJQQFAAAAAAAAAAAAiBKCAgAAAAAAAAAAAEQJQQEAAAAAAAAAAACi\n",
       "hKAAAAAAAAAAAAAAUUJQAAAAAAAAAAAAgCghKAAAAAAAAAAAAECUEBQAAAAAAAAAAAAgSggKAAAA\n",
       "AAAAAAAAECUEBQAAAAAAAAAAAIgSggIAAAAAAAAAAABECUEBAAAAAAAAAAAAooSgAAAAAAAAAAAA\n",
       "AFFCUAAAAAAAAAAAAIAoISgAAAAAAAAAAABAlBAUAAAAAAAAAAAAIEoICgAAAAAAAAAAABAlBAUA\n",
       "AAAAAAAAAACIEoICAAAAAAAAAAAARAlBAQAAAAAAAAAAAKKEoAAAAAAAAAAAAABRQlAAAAAAAAAA\n",
       "AACAKCEoAAAAAAAAAAAAQJQQFAAAAAAAAAAAACBKCAoAAAAAAAAAAAAQJQQFAAAAAAAAAAAAiBKC\n",
       "AgAAAAAAAAAAAEQJQQEAAAAAAAAAAACihKAAAAAAAAAAAAAAUUJQAAAAAAAAAAAAgCghKAAAAAAA\n",
       "AAAAAECUEBQAAAAAAAAAAAAgSggKAAAAAAAAAAAAECUEBQAAAAAAAAAAAIgSggIAAAAAAAAAAABE\n",
       "CUEBAAAAAAAAAAAAooSgAAAAAAAAAAAAAFFCUAAAAAAAAAAAAIAoISgAAAAAAAAAAABAlBAUAAAA\n",
       "AAAAAAAAIEoICgAAAAAAAAAAABAlBAUAAAAAAAAAAACIEoICAAAAAAAAAAAARAlBAQAAAAAAAAAA\n",
       "AKKEoAAAAAAAAAAAAABRQlAAAAAAAAAAAACAKCEoAAAAAAAAAAAAQJQQFAAAAAAAAAAAACBKCAoA\n",
       "AAAAAAAAAAAQJQQFAAAAAAAAAAAAiBKCAgAAAAAAAAAAAEQJQQEAAAAAAAAAAACihKAAAAAAAAAA\n",
       "AAAAUUJQAAAAAAAAAAAAgCghKAAAAAAAAAAAAECUEBQAAAAA4N/OHaMgEARRFEQ00UUTYxPvfz3D\n",
       "VW9gNNA8qTrBD4fmMQAAAAAAUUJQAAAAAAAAAAAAgCghKAAAAAAAAAAAAECUEBQAAAAAAAAAAAAg\n",
       "SggKAAAAAAAAAAAAECUEBQAAAAAAAAAAAIgSggIAAAAAAAAAAABECUEBAAAAAAAAAAAAooSgAAAA\n",
       "AAAAAAAAAFFCUAAAAAAAAAAAAICo0/QAAOCXz/QAYJH3Z5+eACx1mB4ALHI+enPDP7lur+kJwCKH\n",
       "+zY9AVhovz2mJwCLbJfn9ARgJadu+Bt+BAUAAAAAAAAAAACIEoICAAAAAAAAAAAARAlBAQAAAAAA\n",
       "AAAAAKKEoAAAAAAAAAAAAABRQlAAAAAAAAAAAACAKCEoAAAAAAAAAAAAQJQQFAAAAAAAAAAAACBK\n",
       "CAoAAAAAAAAAAAAQJQQFAAAAAAAAAAAAiBKCAgAAAAAAAAAAAEQJQQEAAAAAAAAAAACihKAAAAAA\n",
       "AAAAAAAAUUJQAAAAAAAAAAAAgCghKAAAAAAAAAAAAECUEBQAAAAAAAAAAAAgSggKAAAAAAAAAAAA\n",
       "ECUEBQAAAAAAAAAAAIgSggIAAAAAAAAAAABECUEBAAAAAAAAAAAAooSgAAAAAAAAAAAAAFFCUAAA\n",
       "AAAAAAAAAIAoISgAAAAAAAAAAABAlBAUAAAAAAAAAAAAIEoICgAAAAAAAAAAABAlBAUAAAAAAAAA\n",
       "AACIEoICAAAAAAAAAAAARAlBAQAAAAAAAAAAAKKEoAAAAAAAAAAAAABRQlAAAAAAAAAAAACAKCEo\n",
       "AAAAAAAAAAAAQJQQFAAAAAAAAAAAACBKCAoAAAAAAAAAAAAQJQQFAAAAAAAAAAAAiBKCAgAAAAAA\n",
       "AAAAAEQJQQEAAAAAAAAAAACihKAAAAAAAAAAAAAAUUJQAAAAAAAAAAAAgCghKAAAAAAAAAAAAECU\n",
       "EBQAAAAAAAAAAAAgSggKAAAAAAAAAAAAECUEBQAAAAAAAAAAAIgSggIAAAAAAAAAAABECUEBAAAA\n",
       "AAAAAAAAooSgAAAAAAAAAAAAAFFCUAAAAAAAAAAAAIAoISgAAAAAAAAAAABAlBAUAAAAAAAAAAAA\n",
       "IEoICgAAAAAAAAAAABAlBAUAAAAAAAAAAACIEoICAAAAAAAAAAAARAlBAQAAAAAAAAAAAKKEoAAA\n",
       "AAAAAAAAAABRQlAAAAAAAAAAAACAKCEoAAAAAAAAAAAAQJQQFAAAAAAAAAAAACBKCAoAAAAAAAAA\n",
       "AAAQJQQFAAAAAAAAAAAAiBKCAgAAAAAAAAAAAEQJQQEAAAAAAAAAAACihKAAAAAAAAAAAAAAUUJQ\n",
       "AAAAAAAAAAAAgCghKAAAAAAAAAAAAECUEBQAAAAAAAAAAAAgSggKAAAAAAAAAAAAECUEBQAAAAAA\n",
       "AAAAAIgSggIAAAAAAAAAAABECUEBAAAAAAAAAAAAooSgAAAAAAAAAAAAAFFCUAAAAAAAAAAAAIAo\n",
       "ISgAAAAAAAAAAABAlBAUAAAAAAAAAAAAIEoICgAAAAAAAAAAABAlBAUAAAAAAAAAAACIEoICAAAA\n",
       "AAAAAAAARAlBAQAAAAAAAAAAAKKEoAAAAAAAAAAAAABRQlAAAAAAAAAAAACAKCEoAAAAAAAAAAAA\n",
       "QJQQFAAAAAAAAAAAACBKCAoAAAAAAAAAAAAQJQQFAAAAAAAAAAAAiBKCAgAAAAAAAAAAAEQJQQEA\n",
       "AAAAAAAAAACihKAAAAAAAAAAAAAAUUJQAAAAAAAAAAAAgCghKAAAAAAAAAAAAECUEBQAAAAAAAAA\n",
       "AAAgSggKAAAAAAAAAAAAECUEBQAAAAAAAAAAAIgSggIAAAAAAAAAAABECUEBAAAAAAAAAAAAooSg\n",
       "AAAAAAAAAAAAAFFCUAAAAAAAAAAAAIAoISgAAAAAAAAAAABAlBAUAAAAAAAAAAAAIEoICgAAAAAA\n",
       "AAAAABAlBAUAAAAAAAAAAACIEoICAAAAAAAAAAAARAlBAQAAAAAAAAAAAKKEoAAAAAAAAAAAAABR\n",
       "QlAAAAAAAAAAAACAKCEoAAAAAAAAAAAAQJQQFAAAAAAAAAAAACBKCAoAAAAAAAAAAAAQJQQFAAAA\n",
       "AAAAAAAAiBKCAgAAAAAAAAAAAEQJQQEAAAAAAAAAAACihKAAAAAAAAAAAAAAUUJQAAAAAAAAAAAA\n",
       "gCghKAAAAAAAAAAAAECUEBQAAAAAAAAAAAAgSggKAAAAAAAAAAAAECUEBQAAAAAAAAAAAIgSggIA\n",
       "AAAAAAAAAABECUEBAAAAAAAAAAAAooSgAAAAAAAAAAAAAFFCUAAAAAAAAAAAAIAoISgAAAAAAAAA\n",
       "AABAlBAUAAAAAAAAAAAAIEoICgAAAAAAAAAAABAlBAUAAAAAAAAAAACIEoICAAAAAAAAAAAARAlB\n",
       "AQAAAAAAAAAAAKKEoAAAAAAAAAAAAABRQlAAAAAAAAAAAACAKCEoAAAAAAAAAAAAQJQQFAAAAAAA\n",
       "AAAAACBKCAoAAAAAAAAAAAAQJQQFAAAAAAAAAAAAiBKCAgAAAAAAAAAAAEQJQQEAAAAAAAAAAACi\n",
       "hKAAAAAAAAAAAAAAUUJQAAAAAAAAAAAAgCghKAAAAAAAAAAAAECUEBQAAAAAAAAAAAAgSggKAAAA\n",
       "AAAAAAAAECUEBQAAAAAAAAAAAIgSggIAAAAAAAAAAABECUEBAAAAAAAAAAAAooSgAAAAAAAAAAAA\n",
       "AFFCUAAAAAAAAAAAAIAoISgAAAAAAAAAAABAlBAUAAAAAAAAAAAAIEoICgAAAAAAAAAAABAlBAUA\n",
       "AAAAAAAAAACIEoICAAAAAAAAAAAARAlBAQAAAAAAAAAAAKKEoAAAAAAAAAAAAABRQlAAAAAAAAAA\n",
       "AACAKCEoAAAAAAAAAAAAQJQQFAAAAAAAAAAAACBKCAoAAAAAAAAAAAAQJQQFAAAAAAAAAAAAiBKC\n",
       "AgAAAAAAAAAAAEQJQQEAAAAAAAAAAACihKAAAAAAAAAAAAAAUUJQAAAAAAAAAAAAgCghKAAAAAAA\n",
       "AAAAAECUEBQAAAAAAAAAAAAgSggKAAAAAAAAAAAAECUEBQAAAAAAAAAAAIgSggIAAAAAAAAAAABE\n",
       "CUEBAAAAAAAAAAAAooSgAAAAAAAAAAAAAFFCUAAAAAAAAAAAAIAoISgAAAAAAAAAAABAlBAUAAAA\n",
       "AAAAAAAAIEoICgAAAAAAAAAAABAlBAUAAAAAAAAAAACIEoICAAAAAAAAAAAARAlBAQAAAAAAAAAA\n",
       "AKKEoAAAAAAAAAAAAABRQlAAAAAAAAAAAACAKCEoAAAAAAAAAAAAQJQQFAAAAAAAAAAAACBKCAoA\n",
       "AAAAAAAAAAAQJQQFAAAAAAAAAAAAiBKCAgAAAAAAAAAAAEQJQQEAAAAAAAAAAACihKAAAAAAAAAA\n",
       "AAAAUUJQAAAAAAAAAAAAgCghKAAAAAAAAAAAAECUEBQAAAAAAAAAAAAgSggKAAAAAAAAAAAAECUE\n",
       "BQAAAAAAAAAAAIgSggIAAAAAAAAAAABECUEBAAAAAAAAAAAAooSgAAAAAAAAAAAAAFFCUAAAAAAA\n",
       "AAAAAIAoISgAAAAAAAAAAABAlBAUAAAAAAAAAAAAIEoICgAAAAAAAAAAABAlBAUAAAAAAAAAAACI\n",
       "EoICAAAAAAAAAAAARAlBAQAAAAAAAAAAAKKEoAAAAAAAAAAAAABRQlAAAAAAAAAAAACAKCEoAAAA\n",
       "AAAAAAAAQJQQFAAAAAAAAAAAACBKCAoAAAAAAAAAAAAQJQQFAAAAAAAAAAAAiBKCAgAAAAAAAAAA\n",
       "AEQJQQEAAAAAAAAAAACihKAAAAAAAAAAAAAAUUJQAAAAAAAAAAAAgCghKAAAAAAAAAAAAECUEBQA\n",
       "AAAAAAAAAAAgSggKAAAAAAAAAAAAECUEBQAAAAAAAAAAAIgSggIAAAAAAAAAAABECUEBAAAAAAAA\n",
       "AAAAooSgAAAAAAAAAAAAAFFCUAAAAAAAAAAAAIAoISgAAAAAAAAAAABAlBAUAAAAAAAAAAAAIEoI\n",
       "CgAAAAAAAAAAABAlBAUAAAAAAAAAAACIEoICAAAAAAAAAAAARAlBAQAAAAAAAAAAAKKEoAAAAAAA\n",
       "AAAAAABRQlAAAAAAAAAAAACAKCEoAAAAAAAAAAAAQJQQFAAAAAAAAAAAACBKCAoAAAAAAAAAAAAQ\n",
       "JQQFAAAAAAAAAAAAiBKCAgAAAAAAAAAAAEQJQQEAAAAAAAAAAACihKAAAAAAAAAAAAAAUUJQAAAA\n",
       "AAAAAAAAgCghKAAAAAAAAAAAAECUEBQAAAAAAAAAAAAgSggKAAAAAAAAAAAAECUEBQAAAAAAAAAA\n",
       "AIgSggIAAAAAAAAAAABECUEBAAAAAAAAAAAAooSgAAAAAAAAAAAAAFFCUAAAAAAAAAAAAIAoISgA\n",
       "AAAAAAAAAABAlBAUAAAAAAAAAAAAIEoICgAAAAAAAAAAABAlBAUAAAAAAAAAAACIEoICAAAAAAAA\n",
       "AAAARAlBAQAAAAAAAAAAAKKEoAAAAAAAAAAAAABRQlAAAAAAAAAAAACAKCEoAAAAAAAAAAAAQJQQ\n",
       "FAAAAAAAAAAAACBKCAoAAAAAAAAAAAAQJQQFAAAAAAAAAAAAiBKCAgAAAAAAAAAAAEQJQQEAAAAA\n",
       "AAAAAACihKAAAAAAAAAAAAAAUUJQAAAAAAAAAAAAgCghKAAAAAAAAAAAAECUEBQAAAAAAAAAAAAg\n",
       "SggKAAAAAAAAAAAAECUEBQAAAAAAAAAAAIgSggIAAAAAAAAAAABECUEBAAAAAAAAAAAAooSgAAAA\n",
       "AAAAAAAAAFFCUAAAAAAAAAAAAIAoISgAAAAAAAAAAABAlBAUAAAAAAAAAAAAIEoICgAAAAAAAAAA\n",
       "ABAlBAUAAAAAAAAAAACIEoICAAAAAAAAAAAARAlBAQAAAAAAAAAAAKKEoAAAAAAAAAAAAABRQlAA\n",
       "AAAAAAAAAACAKCEoAAAAAAAAAAAAQJQQFAAAAAAAAAAAACBKCAoAAAAAAAAAAAAQ9QU7bkU0Xdi1\n",
       "5gAAAABJRU5ErkJggg==\n",
       "\" transform=\"translate(143, 47)\"/>\n",
       "</g>\n",
       "<defs>\n",
       "  <clipPath id=\"clip143\">\n",
       "    <rect x=\"2896\" y=\"47\" width=\"97\" height=\"3007\"/>\n",
       "  </clipPath>\n",
       "</defs>\n",
       "<g clip-path=\"url(#clip143)\">\n",
       "<image width=\"96\" height=\"3006\" xlink:href=\"data:image/png;base64,\n",
       "iVBORw0KGgoAAAANSUhEUgAAAGAAAAu+CAYAAADIq16dAAAa4ElEQVR4nO3dwQ3kRhAEwVmh/bdC\n",
       "XuquW2bEgxkWLDZRH2KG/P3Zf++F+Uf/gK8rAFYArABYAbACYAXACoAVACsAVgBs9v7o3/BpLQAr\n",
       "AFYArABYAbACYAXACoAVACsAVgBs7v7q3/BpLQArAFYArABYAbACYAXACoAVACsAVgCsc0FYC8AK\n",
       "gBUAKwBWAKwAWAGwAmAFwAqAzfUogmoBWAGwAmAFwAqAFQArAFYArABYAbACYHPbsyCpBWAFwAqA\n",
       "FQArAFYArABYAbACYAXACoB1LghrAVgBsAJgBcAKgBUAKwBWAKwAWAGwAmA9C8JaAFYArABYAbAC\n",
       "YAXACoAVACsAVgCsK0pYC8AKgBUAKwBWAKwAWAGwAmAFwAqAFQCb17EUqgVgBcAKgBUAKwBWAKwA\n",
       "WAGwAmAFwAqAdUUJawFYAbACYAXACoAVACsAVgCsAFgBsAJg87ojRrUArABYAbACYAXACoAVACsA\n",
       "VgCsANi8/U//hk9rAVgBsAJgBcAKgBUAKwBWAKwAWAGwAmC9rgZrAVgBsAJgBcAKgBUAKwBWAKwA\n",
       "WAGwAmBdUcJaAFYArABYAbACYAXACoAVACsAVgCsAFjPgrAWgBUAKwBWAKwAWAGwAmAFwAqAFQDr\n",
       "ihLWArACYAXACoAVACsAVgCsAFgBsAJgBcDm17EUqgVgBcAKgBUAKwBWAKwAWAGwAmAFwAqAzdu/\n",
       "+jd8WgvACoAVACsAVgCsAFgBsAJgBcAKgBUA61wQ1gKwAmAFwAqAFQArAFYArABYAbACYB1LwVoA\n",
       "VgCsAFgBsAJgBcAKgBUAKwBWAKwAWF9RwloAVgCsAFgBsAJgBcAKgBUAKwBWAKwA2Pw6F0S1AKwA\n",
       "WAGwAmAFwAqAFQArAFYArABYAbA+aY61AKwAWAGwAmAFwAqAFQArAFYArABYx1KwFoAVACsAVgCs\n",
       "AFgBsAJgBcAKgBUAKwDWq4uxFoAVACsAVgCsAFgBsAJgBcAKgBUAKwDWuSCsBWAFwAqAFQArAFYA\n",
       "rABYAbACYAXACoB1LghrAVgBsAJgBcAKgBUAKwBWAKwAWAGwjqVgLQArAFYArABYAbACYAXACoAV\n",
       "ACsAVgBs3q7+DZ/WArACYAXACoAVACsAVgCsAFgBsAJgBcA6F4S1AKwAWAGwAmAFwAqAFQArAFYA\n",
       "rABYAbBeV4O1AKwAWAGwAmAFwAqAFQArAFYArABYjyKwFoAVACsAVgCsAFgBsAJgBcAKgBUAKwA2\n",
       "v15XQ7UArABYAbACYAXACoAVACsAVgCsAFgBsM4FYS0AKwBWAKwAWAGwAmAFwAqAFQArANZXlLAW\n",
       "gBUAKwBWAKwAWAGwAmAFwAqAFQArANYVJawFYAXACoAVACsAVgCsAFgBsAJgBcAKgHVFCWsBWAGw\n",
       "AmAFwAqAFQArAFYArABYAbACYN0Rw1oAVgCsAFgBsAJgBcAKgBUAKwBWAKxHEVgLwAqAFQArAFYA\n",
       "rABYAbACYAXACoAVAJtfV5SoFoAVACsAVgCsAFgBsAJgBcAKgBUAKwDWuSCsBWAFwAqAFQArAFYA\n",
       "rABYAbACYAXACoD1LAhrAVgBsAJgBcAKgBUAKwBWAKwAWAGwHkVgLQArAFYArABYAbACYAXACoAV\n",
       "ACsAVgCsZ0FYC8AKgBUAKwBWAKwAWAGwAmAFwAqAFQCbdz0LkloAVgCsAFgBsAJgBcAKgBUAKwBW\n",
       "AKwAWOeCsBaAFQArAFYArABYAbACYAXACoAVAOtRBNYCsAJgBcAKgBUAKwBWAKwAWAGwAmAFwHoW\n",
       "hLUArABYAbACYAXACoAVACsAVgCsAFgBsHl7+jd8WgvACoAVACsAVgCsAFgBsAJgBcAKgBUA61wQ\n",
       "1gKwAmAFwAqAFQArAFYArABYAbACYB1LwVoAVgCsAFgBsAJgBcAKgBUAKwBWAKwAWMdSsBaAFQAr\n",
       "AFYArABYAbACYAXACoAVACsA1rkgrAVgBcAKgBUAKwBWAKwAWAGwAmAFwAqAzetYENUCsAJgBcAK\n",
       "gBUAKwBWAKwAWAGwAmDzrmMpUgvACoAVACsAVgCsAFgBsAJgBcAKgBUA61gK1gKwAmAFwAqAFQAr\n",
       "AFYArABYAbACYAXAehaEtQCsAFgBsAJgBcAKgBUAKwBWAKwAWAGwuZ4FUS0AKwBWAKwAWAGwAmAF\n",
       "wAqAFQArANaxFKwFYAXACoAVACsAVgCsAFgBsAJgBcAKgPUsCGsBWAGwAmAFwAqAFQArAFYArABY\n",
       "AbACYPP2p3/Dp7UArABYAbACYAXACoAVACsAVgCsAFgBsLnrWZDUArACYAXACoAVACsAVgCsAFgB\n",
       "sAJgXVHCWgBWAKwAWAGwAmAFwAqAFQArAFYArABYV5SwFoAVACsAVgCsAFgBsAJgBcAKgBUAKwA2\n",
       "tzWQ+vexAmAFwAqAFQArAFYArABYAbACYB1LwVoAVgCsAFgBsAJgBcAKgBUAKwBWAKwA2LzenEu1\n",
       "AKwAWAGwAmAFwAqAFQArAFYArABYAbC5zgVRLQArAFYArABYAbACYAXACoAVACsAVgBsXq+rofr3\n",
       "sQJgBcAKgBUAKwBWAKwAWAGwAmAdS8FaAFYArABYAbACYAXACoAVACsAVgCsAFivq8FaAFYArABY\n",
       "AbACYAXACoAVACsAVgCsAFhf1Mb697ECYAXACoAVACsAVgCsAFgBsAJgBcD6pDnWArACYAXACoAV\n",
       "ACsAVgCsAFgBsAJgva4GawFYAbACYAXACoAVACsAVgCsAFgBsAJgc1cDqX8fKwBWAKwAWAGwAmAF\n",
       "wAqAFQArAFYArCtKWAvACoAVACsAVgCsAFgBsAJgBcAKgBUA644Y1gKwAmAFwAqAFQArAFYArABY\n",
       "AbACYPO6okT172MFwAqAFQArAFYArABYAbACYAXACoB1LAVrAVgBsAJgBcAKgBUAKwBWAKwAWAGw\n",
       "AmA9C8JaAFYArABYAbACYAXACoAVACsAVgCsANi861mQ1AKwAmAFwAqAFQArAFYArABYAbACYHNb\n",
       "A6l/HysAVgCsAFgBsAJgBcAKgBUAKwBWAGyuYylUC8AKgBUAKwBWAKwAWAGwAmAFwAqAFQDrdTVY\n",
       "C8AKgBUAKwBWAKwAWAGwAmAFwAqAFQCb1x0xqn8fKwBWAKwAWAGwAmAFwAqAFQArANYVJawFYAXA\n",
       "CoAVACsAVgCsAFgBsAJgBcAKgHVFCWsBWAGwAmAFwAqAFQArAFYArABYAbACYJ0LwloAVgCsAFgB\n",
       "sAJgBcAKgBUAKwBWAKwAWJ80x/r3sQJgBcAKgBUAKwBWAKwAWAGwAmAdS8FaAFYArABYAbACYAXA\n",
       "CoAVACsAVgCsAFivq8FaAFYArABYAbACYAXACoAVACsAVgCsAFjngrAWgBUAKwBWAKwAWAGwAmAF\n",
       "wAqAFQArADavc0FUC8AKgBUAKwBWAKwAWAGwAmAFwAqAzV0NpP59rABYAbACYAXACoAVACsAVgCs\n",
       "AFgBsK4oYS0AKwBWAKwAWAGwAmAFwAqAFQArAFYArFcXYy0AKwBWAKwAWAGwAmAFwAqAFQArANax\n",
       "FKwFYAXACoAVACsAVgCsAFgBsAJgBcAKgM32LIhqAVgBsAJgBcAKgBUAKwBWAKwAWAGwAmBzWwOp\n",
       "fx8rAFYArABYAbACYAXACoAVACsAVgCsO2JYC8AKgBUAKwBWAKwAWAGwAmAFwAqA9SgCawFYAbAC\n",
       "YAXACoAVACsAVgCsAFgBsAJgfUUJawFYAbACYAXACoAVACsAVgCsAFgBsAJgnQvCWgBWAKwAWAGw\n",
       "AmAFwAqAFQArAFYArABYz4KwFoAVACsAVgCsAFgBsAJgBcAKgBUAm7saSP37WAGwAmAFwAqAFQAr\n",
       "AFYArABYAbACYLO9roZqAVgBsAJgBcAKgBUAKwBWAKwAWAGwAmBdUcJaAFYArABYAbACYAXACoAV\n",
       "ACsAVgCsAFjPgrAWgBUAKwBWAKwAWAGwAmAFwAqAFQDrUQTWArACYAXACoAVACsAVgCsAFgBsAJg\n",
       "BcBmexZEtQCsAFgBsAJgBcAKgBUAKwBWAKwAWAGwzgVhLQArAFYArABYAbACYAXACoAVACsAVgCs\n",
       "Z0FYC8AKgBUAKwBWAKwAWAGwAmAFwAqAzV0NpP59rABYAbACYAXACoAVACsAVgCsAFgBsNntWIrU\n",
       "ArACYAXACoAVACsAVgCsAFgBsAJgBcC6ooS1AKwAWAGwAmAFwAqAFQArAFYArABYAbCeBWEtACsA\n",
       "VgCsAFgBsAJgBcAKgBUAKwDWF7WxFoAVACsAVgCsAFgBsAJgBcAKgBUAKwDWsRSsBWAFwAqAFQAr\n",
       "AFYArABYAbACYAXACoDNvZ4FSS0AKwBWAKwAWAGwAmAFwAqAFQArAFYArDtiWAvACoAVACsAVgCs\n",
       "AFgBsAJgBcAKgHVFCWsBWAGwAmAFwAqAFQArAFYArABYAbACYB1LwVoAVgCsAFgBsAJgBcAKgBUA\n",
       "KwBWAKwAWOeCsBaAFQArAFYArABYAbACYAXACoAVACsA1rkgrAVgBcAKgBUAKwBWAKwAWAGwAmAF\n",
       "wDqWgrUArABYAbACYAXACoAVACsAVgCsAFgBsJ4FYS0AKwBWAKwAWAGwAmAFwAqAFQArAFYAbPb1\n",
       "LEhqAVgBsAJgBcAKgBUAKwBWAKwAWAGwjqVgLQArAFYArABYAbACYAXACoAVACsAVgCsN+diLQAr\n",
       "AFYArABYAbACYAXACoAVACsAVgBs7vRP+LYWgBUAKwBWAKwAWAGwAmAFwAqAFQArANa5IKwFYAXA\n",
       "CoAVACsAVgCsAFgBsAJgBcDmenMu1QKwAmAFwAqAFQArAFYArABYAbACYAXAOpaCtQCsAFgBsAJg\n",
       "BcAKgBUAKwBWAKwAWAGwPmOFtQCsAFgBsAJgBcAKgBUAKwBWAKwAWAGw2e6IUS0AKwBWAKwAWAGw\n",
       "AmAFwAqAFQArANZXlLAWgBUAKwBWAKwAWAGwAmAFwAqAFQArANbrarAWgBUAKwBWAKwAWAGwAmAF\n",
       "wAqAFQArANbrarAWgBUAKwBWAKwAWAGwAmAFwAqAFQArANbrarAWgBUAKwBWAKwAWAGwAmAFwAqA\n",
       "FQDrihLWArACYAXACoAVACsAVgCsAFgBsAJgBcB6dTHWArACYAXACoAVACsAVgCsAFgBsAJgBcC6\n",
       "ooS1AKwAWAGwAmAFwAqAFQArAFYArABYAbBeXYy1AKwAWAGwAmAFwAqAFQArAFYArADYrP4FH9cC\n",
       "sAJgBcAKgBUAKwBWAKwAWAGwAmAFwDqWgrUArABYAbACYAXACoAVACsAVgCsAFgBsD5jhbUArABY\n",
       "AbACYAXACoAVACsAVgCsAFgBsO6IYS0AKwBWAKwAWAGwAmAFwAqAFQArANYVJawFYAXACoAVACsA\n",
       "VgCsAFgBsAJgBcAKgHUsBWsBWAGwAmAFwAqAFQArAFYArABYAbACYJ0LwloAVgCsAFgBsAJgBcAK\n",
       "gBUAKwBWAKwAWK8uxloAVgCsAFgBsAJgBcAKgBUAKwBWAGxO/4KPawFYAbACYAXACoAVACsAVgCs\n",
       "AFgBsAJgHUvBWgBWAKwAWAGwAmAFwAqAFQArAFYArABYry7GWgBWAKwAWAGwAmAFwAqAFQArAFYA\n",
       "rABYry7GWgBWAKwAWAGwAmAFwAqAFQArAFYArGMpWAvACoAVACsAVgCsAFgBsAJgBcAKgBUA61gK\n",
       "1gKwAmAFwAqAFQArAFYArABYAbACYAXAZvuOFdUCsAJgBcAKgBUAKwBWAKwAWAGwAmAFwLojhrUA\n",
       "rABYAbACYAXACoAVACsAVgCsAFhXlLAWgBUAKwBWAKwAWAGwAmAFwAqAFQArANaxFKwFYAXACoAV\n",
       "ACsAVgCsAFgBsAJgBcAKgM31uhqqBWAFwAqAFQArAFYArABYAbACYAXAZl9XlKQWgBUAKwBWAKwA\n",
       "WAGwAmAFwAqAFQArANZXlLAWgBUAKwBWAKwAWAGwAmAFwAqAFQArADY9CrJaAFYArABYAbACYAXA\n",
       "CoAVACsAVgCsANhsn7GiWgBWAKwAWAGwAmAFwAqAFQArAFYArDfnYi0AKwBWAKwAWAGwAmAFwAqA\n",
       "FQArAFYArC9qYy0AKwBWAKwAWAGwAmAFwAqAFQArAFYAbK4rSlQLwAqAFQArAFYArABYAbACYAXA\n",
       "CoAVAOtcENYCsAJgBcAKgBUAKwBWAKwAWAGwAmB9URtrAVgBsAJgBcAKgBUAKwBWAKwAWAGwAmB9\n",
       "URtrAVgBsAJgBcAKgBUAKwBWAKwAWAGwAmCdC8JaAFYArABYAbACYAXACoAVACsAVgCsAFifNMda\n",
       "AFYArABYAbACYAXACoAVACsAVgBs9vUVJakFYAXACoAVACsAVgCsAFgBsAJgBcAKgHVFCWsBWAGw\n",
       "AmAFwAqAFQArAFYArABYAbACYL26GGsBWAGwAmAFwAqAFQArAFYArABYAbACYJ0LwloAVgCsAFgB\n",
       "sAJgBcAKgBUAKwBWAKxjKVgLwAqAFQArAFYArABYAbACYAXACoAVAOtYCtYCsAJgBcAKgBUAKwBW\n",
       "AKwAWAGwAmAFwHoWhLUArABYAbACYAXACoAVACsAVgCsAFgBsO6IYS0AKwBWAKwAWAGwAmAFwAqA\n",
       "FQArANaxFKwFYAXACoAVACsAVgCsAFgBsAJgBcAKgHUsBWsBWAGwAmAFwAqAFQArAFYArABYAbAC\n",
       "YJ0LwloAVgCsAFgBsAJgBcAKgBUAKwBWAKwA2FzPgqgWgBUAKwBWAKwAWAGwAmAFwAqAFQCb1b/g\n",
       "41oAVgCsAFgBsAJgBcAKgBUAKwBWAKwAWFeUsBaAFQArAFYArABYAbACYAXACoAVACsANvd6GCS1\n",
       "AKwAWAGwAmAFwAqAFQArAFYArABYAbDOBWEtACsAVgCsAFgBsAJgBcAKgBUAKwDWm3OxFoAVACsA\n",
       "VgCsAFgBsAJgBcAKgBUAKwDWq4uxFoAVACsAVgCsAFgBsAJgBcAKgBUAKwDWFSWsBWAFwAqAFQAr\n",
       "AFYArABYAbACYAXAenMu1gKwAmAFwAqAFQArAFYArABYAbACYAXAOpaCtQCsAFgBsAJgBcAKgBUA\n",
       "KwBWAKwAWAGw6VGQ1QKwAmAFwAqAFQArAFYArABYAbACYAXAZvuOFdUCsAJgBcAKgBUAKwBWAKwA\n",
       "WAGwAmB9RQlrAVgBsAJgBcAKgBUAKwBWAKwAWAGwAmBzHUuhWgBWAKwAWAGwAmAFwAqAFQArAFYA\n",
       "rABY54KwFoAVACsAVgCsAFgBsAJgBcAKgBUAKwDW62qwFoAVACsAVgCsAFgBsAJgBcAKgBUA6ytK\n",
       "WAvACoAVACsAVgCsAFgBsAJgBcAKgBUAm309DZJaAFYArABYAbACYAXACoAVACsAVgCsAFhXlLAW\n",
       "gBUAKwBWAKwAWAGwAmAFwAqAFQArADbXuSCqBWAFwAqAFQArAFYArABYAbACYAXA+ooS1gKwAmAF\n",
       "wAqAFQArAFYArABYAbACYAXAel0N1gKwAmAFwAqAFQArAFYArABYAbACYAXAuqKEtQCsAFgBsAJg\n",
       "BcAKgBUAKwBWAKwAWAGw2dctMakFYAXACoAVACsAVgCsAFgBsAJgBcC6ooS1AKwAWAGwAmAFwAqA\n",
       "FQArAFYArABYAbCeBWEtACsAVgCsAFgBsAJgBcAKgBUAKwBWAKzX1WAtACsAVgCsAFgBsAJgBcAK\n",
       "gBUAKwBWAKzX1WAtACsAVgCsAFgBsAJgBcAKgBUAKwA2++tYitQCsAJgBcAKgBUAKwBWAKwAWAGw\n",
       "AmAFwDqWgrUArABYAbACYAXACoAVACsAVgCsAFgBsLmeBVEtACsAVgCsAFgBsAJgBcAKgBUAKwBW\n",
       "AKxzQVgLwAqAFQArAFYArABYAbACYAXACoDN/noUIbUArABYAbACYAXACoAVACsAVgCsAFgBsI6l\n",
       "YC0AKwBWAKwAWAGwAmAFwAqAFQArAFYArNfVYC0AKwBWAKwAWAGwAmAFwAqAFQArAFYArHNBWAvA\n",
       "CoAVACsAVgCsAFgBsAJgBcAKgPUoAmsBWAGwAmAFwAqAFQArAFYArABYAbACYL26GGsBWAGwAmAF\n",
       "wAqAFQArAFYArABYAbACYHPvr/4Nn9YCsAJgBcAKgBUAKwBWAKwAWAGwAmBdUcJaAFYArABYAbAC\n",
       "YAXACoAVACsAVgCsAFhfUcJaAFYArABYAbACYAXACoAVACsAVgCsANjsdUVJagFYAbACYAXACoAV\n",
       "ACsAVgCsAFgBsAJgnQvCWgBWAKwAWAGwAmAFwAqAFQArAFYAbLY351ItACsAVgCsAFgBsAJgBcAK\n",
       "gBUAKwBWAKxjKVgLwAqAFQArAFYArABYAbACYAXACoAVAOtcENYCsAJgBcAKgBUAKwBWAKwAWAGw\n",
       "AmAFwOauc0FSC8AKgBUAKwBWAKwAWAGwAmAFwAqAdUUJawFYAbACYAXACoAVACsAVgCsAFgBsAJg\n",
       "fVEbawFYAbACYAXACoAVACsAVgCsAFgBsAJgnQvCWgBWAKwAWAGwAmAFwAqAFQArAFYArADYXOeC\n",
       "qBaAFQArAFYArABYAbACYAXACoAVAOtYCtYCsAJgBcAKgBUAKwBWAKwAWAGwAmAFwGb7ihLVArAC\n",
       "YAXACoAVACsAVgCsAFgBsAJgBcDmXleUpBaAFQArAFYArABYAbACYAXACoAVACsANte5IKoFYAXA\n",
       "CoAVACsAVgCsAFgBsAJgBcB6XQ3WArACYAXACoAVACsAVgCsAFgBsAJgBcA6loK1AKwAWAGwAmAF\n",
       "wAqAFQArAFYArABYAbCeBWEtACsAVgCsAFgBsAJgBcAKgBUAKwBWAKxXF2MtACsAVgCsAFgBsAJg\n",
       "BcAKgBUAKwDWsRSsBWAFwAqAFQArAFYArABYAbACYAXACoDN69XFVAvACoAVACsAVgCsAFgBsAJg\n",
       "BcAKgBUA61wQ1gKwAmAFwAqAFQArAFYArABYAbACYAXA+qQ51gKwAmAFwAqAFQArAFYArABYAbAC\n",
       "YPM6lkK1AKwAWAGwAmAFwAqAFQArAFYArABYAbC+ooS1AKwAWAGwAmAFwAqAFQArAFYArABYAbBe\n",
       "XYy1AKwAWAGwAmAFwAqAFQArAFYArABYAbDuiGEtACsAVgCsAFgBsAJgBcAKgBUAKwA2907/hk9r\n",
       "AVgBsAJgBcAKgBUAKwBWAKwAWAGwAmBdUcJaAFYArABYAbACYAXACoAVACsAVgCsANi8zgVRLQAr\n",
       "AFYArABYAbACYAXACoAVACsA9j8dlvqLQrRCsQAAAABJRU5ErkJggg==\n",
       "\" transform=\"translate(2897, 47)\"/>\n",
       "</g>\n",
       "<path clip-path=\"url(#clip140)\" d=\"M 0 0 M3052.7 3035.34 Q3049.09 3035.34 3047.26 3038.9 Q3045.45 3042.44 3045.45 3049.57 Q3045.45 3056.68 3047.26 3060.25 Q3049.09 3063.79 3052.7 3063.79 Q3056.33 3063.79 3058.14 3060.25 Q3059.97 3056.68 3059.97 3049.57 Q3059.97 3042.44 3058.14 3038.9 Q3056.33 3035.34 3052.7 3035.34 M3052.7 3031.63 Q3058.51 3031.63 3061.57 3036.24 Q3064.64 3040.82 3064.64 3049.57 Q3064.64 3058.3 3061.57 3062.91 Q3058.51 3067.49 3052.7 3067.49 Q3046.89 3067.49 3043.81 3062.91 Q3040.76 3058.3 3040.76 3049.57 Q3040.76 3040.82 3043.81 3036.24 Q3046.89 3031.63 3052.7 3031.63 Z\" fill=\"#000000\" fill-rule=\"evenodd\" fill-opacity=\"1\" /><path clip-path=\"url(#clip140)\" d=\"M 0 0 M3052.7 2726.24 Q3049.09 2726.24 3047.26 2729.81 Q3045.45 2733.35 3045.45 2740.48 Q3045.45 2747.58 3047.26 2751.15 Q3049.09 2754.69 3052.7 2754.69 Q3056.33 2754.69 3058.14 2751.15 Q3059.97 2747.58 3059.97 2740.48 Q3059.97 2733.35 3058.14 2729.81 Q3056.33 2726.24 3052.7 2726.24 M3052.7 2722.54 Q3058.51 2722.54 3061.57 2727.14 Q3064.64 2731.73 3064.64 2740.48 Q3064.64 2749.2 3061.57 2753.81 Q3058.51 2758.39 3052.7 2758.39 Q3046.89 2758.39 3043.81 2753.81 Q3040.76 2749.2 3040.76 2740.48 Q3040.76 2731.73 3043.81 2727.14 Q3046.89 2722.54 3052.7 2722.54 Z\" fill=\"#000000\" fill-rule=\"evenodd\" fill-opacity=\"1\" /><path clip-path=\"url(#clip140)\" d=\"M 0 0 M3069.71 2751.84 L3074.6 2751.84 L3074.6 2757.72 L3069.71 2757.72 L3069.71 2751.84 Z\" fill=\"#000000\" fill-rule=\"evenodd\" fill-opacity=\"1\" /><path clip-path=\"url(#clip140)\" d=\"M 0 0 M3080.48 2753.79 L3088.12 2753.79 L3088.12 2727.42 L3079.81 2729.09 L3079.81 2724.83 L3088.07 2723.16 L3092.75 2723.16 L3092.75 2753.79 L3100.39 2753.79 L3100.39 2757.72 L3080.48 2757.72 L3080.48 2753.79 Z\" fill=\"#000000\" fill-rule=\"evenodd\" fill-opacity=\"1\" /><path clip-path=\"url(#clip140)\" d=\"M 0 0 M3052.7 2417.14 Q3049.09 2417.14 3047.26 2420.71 Q3045.45 2424.25 3045.45 2431.38 Q3045.45 2438.49 3047.26 2442.05 Q3049.09 2445.59 3052.7 2445.59 Q3056.33 2445.59 3058.14 2442.05 Q3059.97 2438.49 3059.97 2431.38 Q3059.97 2424.25 3058.14 2420.71 Q3056.33 2417.14 3052.7 2417.14 M3052.7 2413.44 Q3058.51 2413.44 3061.57 2418.05 Q3064.64 2422.63 3064.64 2431.38 Q3064.64 2440.11 3061.57 2444.71 Q3058.51 2449.3 3052.7 2449.3 Q3046.89 2449.3 3043.81 2444.71 Q3040.76 2440.11 3040.76 2431.38 Q3040.76 2422.63 3043.81 2418.05 Q3046.89 2413.44 3052.7 2413.44 Z\" fill=\"#000000\" fill-rule=\"evenodd\" fill-opacity=\"1\" /><path clip-path=\"url(#clip140)\" d=\"M 0 0 M3069.71 2442.75 L3074.6 2442.75 L3074.6 2448.63 L3069.71 2448.63 L3069.71 2442.75 Z\" fill=\"#000000\" fill-rule=\"evenodd\" fill-opacity=\"1\" /><path clip-path=\"url(#clip140)\" d=\"M 0 0 M3083.7 2444.69 L3100.01 2444.69 L3100.01 2448.63 L3078.07 2448.63 L3078.07 2444.69 Q3080.73 2441.94 3085.32 2437.31 Q3089.92 2432.65 3091.1 2431.31 Q3093.35 2428.79 3094.23 2427.05 Q3095.13 2425.29 3095.13 2423.6 Q3095.13 2420.85 3093.19 2419.11 Q3091.26 2417.38 3088.16 2417.38 Q3085.96 2417.38 3083.51 2418.14 Q3081.08 2418.9 3078.3 2420.45 L3078.3 2415.73 Q3081.13 2414.6 3083.58 2414.02 Q3086.03 2413.44 3088.07 2413.44 Q3093.44 2413.44 3096.64 2416.13 Q3099.83 2418.81 3099.83 2423.3 Q3099.83 2425.43 3099.02 2427.35 Q3098.23 2429.25 3096.13 2431.84 Q3095.55 2432.51 3092.45 2435.73 Q3089.34 2438.93 3083.7 2444.69 Z\" fill=\"#000000\" fill-rule=\"evenodd\" fill-opacity=\"1\" /><path clip-path=\"url(#clip140)\" d=\"M 0 0 M3052.7 2108.05 Q3049.09 2108.05 3047.26 2111.61 Q3045.45 2115.15 3045.45 2122.28 Q3045.45 2129.39 3047.26 2132.95 Q3049.09 2136.5 3052.7 2136.5 Q3056.33 2136.5 3058.14 2132.95 Q3059.97 2129.39 3059.97 2122.28 Q3059.97 2115.15 3058.14 2111.61 Q3056.33 2108.05 3052.7 2108.05 M3052.7 2104.34 Q3058.51 2104.34 3061.57 2108.95 Q3064.64 2113.53 3064.64 2122.28 Q3064.64 2131.01 3061.57 2135.62 Q3058.51 2140.2 3052.7 2140.2 Q3046.89 2140.2 3043.81 2135.62 Q3040.76 2131.01 3040.76 2122.28 Q3040.76 2113.53 3043.81 2108.95 Q3046.89 2104.34 3052.7 2104.34 Z\" fill=\"#000000\" fill-rule=\"evenodd\" fill-opacity=\"1\" /><path clip-path=\"url(#clip140)\" d=\"M 0 0 M3069.71 2133.65 L3074.6 2133.65 L3074.6 2139.53 L3069.71 2139.53 L3069.71 2133.65 Z\" fill=\"#000000\" fill-rule=\"evenodd\" fill-opacity=\"1\" /><path clip-path=\"url(#clip140)\" d=\"M 0 0 M3093.83 2120.89 Q3097.19 2121.61 3099.07 2123.88 Q3100.96 2126.15 3100.96 2129.48 Q3100.96 2134.6 3097.45 2137.4 Q3093.93 2140.2 3087.45 2140.2 Q3085.27 2140.2 3082.95 2139.76 Q3080.66 2139.34 3078.21 2138.49 L3078.21 2133.97 Q3080.15 2135.11 3082.47 2135.69 Q3084.78 2136.26 3087.31 2136.26 Q3091.7 2136.26 3094 2134.53 Q3096.31 2132.79 3096.31 2129.48 Q3096.31 2126.43 3094.16 2124.71 Q3092.03 2122.98 3088.21 2122.98 L3084.18 2122.98 L3084.18 2119.13 L3088.39 2119.13 Q3091.84 2119.13 3093.67 2117.77 Q3095.5 2116.38 3095.5 2113.79 Q3095.5 2111.13 3093.6 2109.71 Q3091.73 2108.28 3088.21 2108.28 Q3086.29 2108.28 3084.09 2108.69 Q3081.89 2109.11 3079.25 2109.99 L3079.25 2105.82 Q3081.91 2105.08 3084.23 2104.71 Q3086.57 2104.34 3088.63 2104.34 Q3093.95 2104.34 3097.05 2106.77 Q3100.15 2109.18 3100.15 2113.3 Q3100.15 2116.17 3098.51 2118.16 Q3096.87 2120.13 3093.83 2120.89 Z\" fill=\"#000000\" fill-rule=\"evenodd\" fill-opacity=\"1\" /><path clip-path=\"url(#clip140)\" d=\"M 0 0 M3052.7 1798.95 Q3049.09 1798.95 3047.26 1802.51 Q3045.45 1806.06 3045.45 1813.19 Q3045.45 1820.29 3047.26 1823.86 Q3049.09 1827.4 3052.7 1827.4 Q3056.33 1827.4 3058.14 1823.86 Q3059.97 1820.29 3059.97 1813.19 Q3059.97 1806.06 3058.14 1802.51 Q3056.33 1798.95 3052.7 1798.95 M3052.7 1795.25 Q3058.51 1795.25 3061.57 1799.85 Q3064.64 1804.44 3064.64 1813.19 Q3064.64 1821.91 3061.57 1826.52 Q3058.51 1831.1 3052.7 1831.1 Q3046.89 1831.1 3043.81 1826.52 Q3040.76 1821.91 3040.76 1813.19 Q3040.76 1804.44 3043.81 1799.85 Q3046.89 1795.25 3052.7 1795.25 Z\" fill=\"#000000\" fill-rule=\"evenodd\" fill-opacity=\"1\" /><path clip-path=\"url(#clip140)\" d=\"M 0 0 M3069.71 1824.55 L3074.6 1824.55 L3074.6 1830.43 L3069.71 1830.43 L3069.71 1824.55 Z\" fill=\"#000000\" fill-rule=\"evenodd\" fill-opacity=\"1\" /><path clip-path=\"url(#clip140)\" d=\"M 0 0 M3092.51 1799.95 L3080.71 1818.39 L3092.51 1818.39 L3092.51 1799.95 M3091.29 1795.87 L3097.17 1795.87 L3097.17 1818.39 L3102.1 1818.39 L3102.1 1822.28 L3097.17 1822.28 L3097.17 1830.43 L3092.51 1830.43 L3092.51 1822.28 L3076.91 1822.28 L3076.91 1817.77 L3091.29 1795.87 Z\" fill=\"#000000\" fill-rule=\"evenodd\" fill-opacity=\"1\" /><path clip-path=\"url(#clip140)\" d=\"M 0 0 M3052.7 1489.85 Q3049.09 1489.85 3047.26 1493.42 Q3045.45 1496.96 3045.45 1504.09 Q3045.45 1511.2 3047.26 1514.76 Q3049.09 1518.3 3052.7 1518.3 Q3056.33 1518.3 3058.14 1514.76 Q3059.97 1511.2 3059.97 1504.09 Q3059.97 1496.96 3058.14 1493.42 Q3056.33 1489.85 3052.7 1489.85 M3052.7 1486.15 Q3058.51 1486.15 3061.57 1490.76 Q3064.64 1495.34 3064.64 1504.09 Q3064.64 1512.82 3061.57 1517.42 Q3058.51 1522.01 3052.7 1522.01 Q3046.89 1522.01 3043.81 1517.42 Q3040.76 1512.82 3040.76 1504.09 Q3040.76 1495.34 3043.81 1490.76 Q3046.89 1486.15 3052.7 1486.15 Z\" fill=\"#000000\" fill-rule=\"evenodd\" fill-opacity=\"1\" /><path clip-path=\"url(#clip140)\" d=\"M 0 0 M3069.71 1515.45 L3074.6 1515.45 L3074.6 1521.33 L3069.71 1521.33 L3069.71 1515.45 Z\" fill=\"#000000\" fill-rule=\"evenodd\" fill-opacity=\"1\" /><path clip-path=\"url(#clip140)\" d=\"M 0 0 M3079.71 1486.77 L3098.07 1486.77 L3098.07 1490.71 L3084 1490.71 L3084 1499.18 Q3085.01 1498.83 3086.03 1498.67 Q3087.05 1498.49 3088.07 1498.49 Q3093.86 1498.49 3097.24 1501.66 Q3100.62 1504.83 3100.62 1510.25 Q3100.62 1515.82 3097.14 1518.93 Q3093.67 1522.01 3087.35 1522.01 Q3085.18 1522.01 3082.91 1521.63 Q3080.66 1521.26 3078.26 1520.52 L3078.26 1515.82 Q3080.34 1516.96 3082.56 1517.51 Q3084.78 1518.07 3087.26 1518.07 Q3091.26 1518.07 3093.6 1515.96 Q3095.94 1513.86 3095.94 1510.25 Q3095.94 1506.64 3093.6 1504.53 Q3091.26 1502.42 3087.26 1502.42 Q3085.39 1502.42 3083.51 1502.84 Q3081.66 1503.26 3079.71 1504.14 L3079.71 1486.77 Z\" fill=\"#000000\" fill-rule=\"evenodd\" fill-opacity=\"1\" /><path clip-path=\"url(#clip140)\" d=\"M 0 0 M3052.7 1180.76 Q3049.09 1180.76 3047.26 1184.32 Q3045.45 1187.86 3045.45 1194.99 Q3045.45 1202.1 3047.26 1205.66 Q3049.09 1209.2 3052.7 1209.2 Q3056.33 1209.2 3058.14 1205.66 Q3059.97 1202.1 3059.97 1194.99 Q3059.97 1187.86 3058.14 1184.32 Q3056.33 1180.76 3052.7 1180.76 M3052.7 1177.05 Q3058.51 1177.05 3061.57 1181.66 Q3064.64 1186.24 3064.64 1194.99 Q3064.64 1203.72 3061.57 1208.33 Q3058.51 1212.91 3052.7 1212.91 Q3046.89 1212.91 3043.81 1208.33 Q3040.76 1203.72 3040.76 1194.99 Q3040.76 1186.24 3043.81 1181.66 Q3046.89 1177.05 3052.7 1177.05 Z\" fill=\"#000000\" fill-rule=\"evenodd\" fill-opacity=\"1\" /><path clip-path=\"url(#clip140)\" d=\"M 0 0 M3069.71 1206.36 L3074.6 1206.36 L3074.6 1212.24 L3069.71 1212.24 L3069.71 1206.36 Z\" fill=\"#000000\" fill-rule=\"evenodd\" fill-opacity=\"1\" /><path clip-path=\"url(#clip140)\" d=\"M 0 0 M3090.25 1193.09 Q3087.1 1193.09 3085.25 1195.25 Q3083.42 1197.4 3083.42 1201.15 Q3083.42 1204.88 3085.25 1207.05 Q3087.1 1209.2 3090.25 1209.2 Q3093.39 1209.2 3095.22 1207.05 Q3097.08 1204.88 3097.08 1201.15 Q3097.08 1197.4 3095.22 1195.25 Q3093.39 1193.09 3090.25 1193.09 M3099.53 1178.44 L3099.53 1182.7 Q3097.77 1181.87 3095.96 1181.43 Q3094.18 1180.99 3092.42 1180.99 Q3087.79 1180.99 3085.34 1184.11 Q3082.91 1187.24 3082.56 1193.56 Q3083.93 1191.54 3085.99 1190.48 Q3088.05 1189.39 3090.52 1189.39 Q3095.73 1189.39 3098.74 1192.56 Q3101.77 1195.71 3101.77 1201.15 Q3101.77 1206.47 3098.63 1209.69 Q3095.48 1212.91 3090.25 1212.91 Q3084.25 1212.91 3081.08 1208.33 Q3077.91 1203.72 3077.91 1194.99 Q3077.91 1186.8 3081.8 1181.94 Q3085.69 1177.05 3092.24 1177.05 Q3094 1177.05 3095.78 1177.4 Q3097.58 1177.75 3099.53 1178.44 Z\" fill=\"#000000\" fill-rule=\"evenodd\" fill-opacity=\"1\" /><path clip-path=\"url(#clip140)\" d=\"M 0 0 M3052.7 871.659 Q3049.09 871.659 3047.26 875.224 Q3045.45 878.765 3045.45 885.895 Q3045.45 893.001 3047.26 896.566 Q3049.09 900.108 3052.7 900.108 Q3056.33 900.108 3058.14 896.566 Q3059.97 893.001 3059.97 885.895 Q3059.97 878.765 3058.14 875.224 Q3056.33 871.659 3052.7 871.659 M3052.7 867.955 Q3058.51 867.955 3061.57 872.562 Q3064.64 877.145 3064.64 885.895 Q3064.64 894.622 3061.57 899.228 Q3058.51 903.811 3052.7 903.811 Q3046.89 903.811 3043.81 899.228 Q3040.76 894.622 3040.76 885.895 Q3040.76 877.145 3043.81 872.562 Q3046.89 867.955 3052.7 867.955 Z\" fill=\"#000000\" fill-rule=\"evenodd\" fill-opacity=\"1\" /><path clip-path=\"url(#clip140)\" d=\"M 0 0 M3069.71 897.26 L3074.6 897.26 L3074.6 903.14 L3069.71 903.14 L3069.71 897.26 Z\" fill=\"#000000\" fill-rule=\"evenodd\" fill-opacity=\"1\" /><path clip-path=\"url(#clip140)\" d=\"M 0 0 M3078.49 868.58 L3100.71 868.58 L3100.71 870.571 L3088.16 903.14 L3083.28 903.14 L3095.08 872.515 L3078.49 872.515 L3078.49 868.58 Z\" fill=\"#000000\" fill-rule=\"evenodd\" fill-opacity=\"1\" /><path clip-path=\"url(#clip140)\" d=\"M 0 0 M3052.7 562.562 Q3049.09 562.562 3047.26 566.127 Q3045.45 569.668 3045.45 576.798 Q3045.45 583.904 3047.26 587.469 Q3049.09 591.011 3052.7 591.011 Q3056.33 591.011 3058.14 587.469 Q3059.97 583.904 3059.97 576.798 Q3059.97 569.668 3058.14 566.127 Q3056.33 562.562 3052.7 562.562 M3052.7 558.858 Q3058.51 558.858 3061.57 563.465 Q3064.64 568.048 3064.64 576.798 Q3064.64 585.525 3061.57 590.131 Q3058.51 594.714 3052.7 594.714 Q3046.89 594.714 3043.81 590.131 Q3040.76 585.525 3040.76 576.798 Q3040.76 568.048 3043.81 563.465 Q3046.89 558.858 3052.7 558.858 Z\" fill=\"#000000\" fill-rule=\"evenodd\" fill-opacity=\"1\" /><path clip-path=\"url(#clip140)\" d=\"M 0 0 M3069.71 588.163 L3074.6 588.163 L3074.6 594.043 L3069.71 594.043 L3069.71 588.163 Z\" fill=\"#000000\" fill-rule=\"evenodd\" fill-opacity=\"1\" /><path clip-path=\"url(#clip140)\" d=\"M 0 0 M3089.67 577.631 Q3086.33 577.631 3084.41 579.413 Q3082.51 581.196 3082.51 584.321 Q3082.51 587.446 3084.41 589.228 Q3086.33 591.011 3089.67 591.011 Q3093 591.011 3094.92 589.228 Q3096.84 587.423 3096.84 584.321 Q3096.84 581.196 3094.92 579.413 Q3093.02 577.631 3089.67 577.631 M3084.99 575.64 Q3081.98 574.9 3080.29 572.839 Q3078.63 570.779 3078.63 567.816 Q3078.63 563.673 3081.57 561.265 Q3084.53 558.858 3089.67 558.858 Q3094.83 558.858 3097.77 561.265 Q3100.71 563.673 3100.71 567.816 Q3100.71 570.779 3099.02 572.839 Q3097.35 574.9 3094.37 575.64 Q3097.75 576.427 3099.62 578.719 Q3101.52 581.011 3101.52 584.321 Q3101.52 589.344 3098.44 592.029 Q3095.39 594.714 3089.67 594.714 Q3083.95 594.714 3080.87 592.029 Q3077.82 589.344 3077.82 584.321 Q3077.82 581.011 3079.71 578.719 Q3081.61 576.427 3084.99 575.64 M3083.28 568.256 Q3083.28 570.941 3084.95 572.446 Q3086.64 573.951 3089.67 573.951 Q3092.68 573.951 3094.37 572.446 Q3096.08 570.941 3096.08 568.256 Q3096.08 565.571 3094.37 564.066 Q3092.68 562.562 3089.67 562.562 Q3086.64 562.562 3084.95 564.066 Q3083.28 565.571 3083.28 568.256 Z\" fill=\"#000000\" fill-rule=\"evenodd\" fill-opacity=\"1\" /><path clip-path=\"url(#clip140)\" d=\"M 0 0 M3052.7 253.465 Q3049.09 253.465 3047.26 257.03 Q3045.45 260.571 3045.45 267.701 Q3045.45 274.807 3047.26 278.372 Q3049.09 281.914 3052.7 281.914 Q3056.33 281.914 3058.14 278.372 Q3059.97 274.807 3059.97 267.701 Q3059.97 260.571 3058.14 257.03 Q3056.33 253.465 3052.7 253.465 M3052.7 249.761 Q3058.51 249.761 3061.57 254.368 Q3064.64 258.951 3064.64 267.701 Q3064.64 276.428 3061.57 281.034 Q3058.51 285.617 3052.7 285.617 Q3046.89 285.617 3043.81 281.034 Q3040.76 276.428 3040.76 267.701 Q3040.76 258.951 3043.81 254.368 Q3046.89 249.761 3052.7 249.761 Z\" fill=\"#000000\" fill-rule=\"evenodd\" fill-opacity=\"1\" /><path clip-path=\"url(#clip140)\" d=\"M 0 0 M3069.71 279.066 L3074.6 279.066 L3074.6 284.946 L3069.71 284.946 L3069.71 279.066 Z\" fill=\"#000000\" fill-rule=\"evenodd\" fill-opacity=\"1\" /><path clip-path=\"url(#clip140)\" d=\"M 0 0 M3079.81 284.228 L3079.81 279.969 Q3081.57 280.803 3083.37 281.242 Q3085.18 281.682 3086.91 281.682 Q3091.54 281.682 3093.97 278.58 Q3096.43 275.455 3096.77 269.113 Q3095.43 271.104 3093.37 272.168 Q3091.31 273.233 3088.81 273.233 Q3083.63 273.233 3080.59 270.108 Q3077.58 266.96 3077.58 261.52 Q3077.58 256.196 3080.73 252.979 Q3083.88 249.761 3089.11 249.761 Q3095.11 249.761 3098.26 254.368 Q3101.43 258.951 3101.43 267.701 Q3101.43 275.872 3097.54 280.756 Q3093.67 285.617 3087.12 285.617 Q3085.36 285.617 3083.56 285.27 Q3081.75 284.923 3079.81 284.228 M3089.11 269.576 Q3092.26 269.576 3094.09 267.423 Q3095.94 265.27 3095.94 261.52 Q3095.94 257.793 3094.09 255.641 Q3092.26 253.465 3089.11 253.465 Q3085.96 253.465 3084.11 255.641 Q3082.28 257.793 3082.28 261.52 Q3082.28 265.27 3084.11 267.423 Q3085.96 269.576 3089.11 269.576 Z\" fill=\"#000000\" fill-rule=\"evenodd\" fill-opacity=\"1\" /><polyline clip-path=\"url(#clip140)\" style=\"stroke:#000000; stroke-width:4; stroke-opacity:1; fill:none\" points=\"\n",
       "  2992.76,3053.17 2992.76,3053.17 3024.76,3053.17 2992.76,3053.17 2992.76,2744.07 3024.76,2744.07 2992.76,2744.07 2992.76,2434.97 3024.76,2434.97 2992.76,2434.97 \n",
       "  2992.76,2125.88 3024.76,2125.88 2992.76,2125.88 2992.76,1816.78 3024.76,1816.78 2992.76,1816.78 2992.76,1507.68 3024.76,1507.68 2992.76,1507.68 2992.76,1198.59 \n",
       "  3024.76,1198.59 2992.76,1198.59 2992.76,889.489 3024.76,889.489 2992.76,889.489 2992.76,580.392 3024.76,580.392 2992.76,580.392 2992.76,271.295 3024.76,271.295 \n",
       "  2992.76,271.295 2992.76,47.2441 \n",
       "  \"/>\n",
       "</svg>\n"
      ]
     },
     "execution_count": 111,
     "metadata": {},
     "output_type": "execute_result"
    }
   ],
   "source": [
    "heatmap(M, size = (800,800))"
   ]
  },
  {
   "cell_type": "markdown",
   "metadata": {},
   "source": [
    "<hr>"
   ]
  },
  {
   "cell_type": "code",
   "execution_count": 138,
   "metadata": {},
   "outputs": [
    {
     "data": {
      "text/plain": [
       "(28, 28, 60000)"
      ]
     },
     "execution_count": 138,
     "metadata": {},
     "output_type": "execute_result"
    }
   ],
   "source": [
    "size(train_X)"
   ]
  },
  {
   "cell_type": "code",
   "execution_count": 31,
   "metadata": {},
   "outputs": [
    {
     "data": {
      "text/plain": [
       "5000"
      ]
     },
     "execution_count": 31,
     "metadata": {},
     "output_type": "execute_result"
    }
   ],
   "source": [
    "N = 5000"
   ]
  },
  {
   "cell_type": "code",
   "execution_count": 32,
   "metadata": {},
   "outputs": [],
   "source": [
    "X = permutedims(train_X, [3,2,1])[1:N,:,:];"
   ]
  },
  {
   "cell_type": "code",
   "execution_count": 34,
   "metadata": {},
   "outputs": [
    {
     "data": {
      "text/plain": [
       "125000×49 adjoint(::Array{N0f8,2}) with eltype N0f8:\n",
       " 0.0    0.0    0.0    0.0    0.0  0.0  …  0.0  0.0  0.0  0.0  0.0    0.0\n",
       " 0.0    0.0    0.0    0.0    0.0  0.0     0.0  0.0  0.0  0.0  0.0    0.0\n",
       " 0.0    0.0    0.0    0.0    0.0  0.0     0.0  0.0  0.0  0.0  0.0    0.0\n",
       " 0.0    0.0    0.0    0.0    0.0  0.0     0.0  0.0  0.0  0.0  0.0    0.0\n",
       " 0.0    0.0    0.0    0.0    0.0  0.0     0.0  0.0  0.0  0.0  0.0    0.0\n",
       " 0.0    0.0    0.0    0.0    0.0  0.0  …  0.0  0.0  0.0  0.0  0.0    0.0\n",
       " 0.0    0.0    0.0    0.0    0.0  0.0     0.0  0.0  0.0  0.0  0.0    0.0\n",
       " 0.0    0.0    0.0    0.0    0.0  0.0     0.0  0.0  0.0  0.0  0.0    0.0\n",
       " 0.0    0.0    0.0    0.0    0.0  0.0     0.0  0.0  0.0  0.0  0.0    0.0\n",
       " 0.0    0.0    0.0    0.0    0.0  0.0     0.0  0.0  0.0  0.0  0.0    0.0\n",
       " 0.0    0.0    0.0    0.0    0.0  0.0  …  0.0  0.0  0.0  0.0  0.0    0.0\n",
       " 0.0    0.0    0.0    0.0    0.0  0.0     0.0  0.0  0.0  0.0  0.0    0.0\n",
       " 0.0    0.0    0.0    0.0    0.0  0.0     0.0  0.0  0.0  0.0  0.557  0.996\n",
       " ⋮                                ⋮    ⋱            ⋮                \n",
       " 0.0    0.0    0.0    0.0    0.0  0.0     0.0  0.0  0.0  0.0  0.0    0.0\n",
       " 0.0    0.0    0.0    0.0    0.0  0.0     0.0  0.0  0.0  0.0  0.0    0.0\n",
       " 0.0    0.0    0.0    0.0    0.0  0.0  …  0.0  0.0  0.0  0.0  0.0    0.0\n",
       " 0.0    0.0    0.0    0.0    0.0  0.0     0.0  0.0  0.0  0.0  0.0    0.0\n",
       " 0.0    0.0    0.0    0.0    0.0  0.0     0.0  0.0  0.0  0.0  0.0    0.0\n",
       " 0.0    0.0    0.0    0.0    0.0  0.0     0.0  0.0  0.0  0.0  0.0    0.0\n",
       " 0.996  0.522  0.0    0.0    0.0  0.0     0.0  0.0  0.0  0.0  0.0    0.0\n",
       " 0.0    0.0    0.0    0.0    0.0  0.0  …  0.0  0.0  0.0  0.0  0.0    0.0\n",
       " 0.0    0.0    0.0    0.0    0.0  0.0     0.0  0.0  0.0  0.0  0.0    0.0\n",
       " 0.0    0.478  0.22   0.0    0.0  0.0     0.0  0.0  0.0  0.0  0.0    0.0\n",
       " 0.0    0.0    0.0    0.0    0.0  0.0     0.0  0.0  0.0  0.0  0.0    0.0\n",
       " 0.0    0.231  0.933  0.996  0.0  0.0     0.0  0.0  0.0  0.0  0.0    0.0"
      ]
     },
     "execution_count": 34,
     "metadata": {},
     "output_type": "execute_result"
    }
   ],
   "source": [
    "rows = []\n",
    "kh, kw = 7, 7\n",
    "sh, sw = 5, 5\n",
    "for i in 1:sh:(28-kh+1)\n",
    "    for j in 1:sw:(28-kw+1)\n",
    "        for n in 1:N\n",
    "            push!(rows,X[n,i:(i+kh-1),j:(j+kw-1)][:])\n",
    "        end\n",
    "    end\n",
    "end\n",
    "data0 = hcat(rows...)'"
   ]
  },
  {
   "cell_type": "code",
   "execution_count": 29,
   "metadata": {},
   "outputs": [
    {
     "data": {
      "text/plain": [
       "PyObject PCA(n_components=4)"
      ]
     },
     "execution_count": 29,
     "metadata": {},
     "output_type": "execute_result"
    }
   ],
   "source": [
    "model = PCA(n_components = 4)"
   ]
  },
  {
   "cell_type": "code",
   "execution_count": 35,
   "metadata": {},
   "outputs": [
    {
     "data": {
      "text/plain": [
       "PyObject PCA(n_components=4)"
      ]
     },
     "execution_count": 35,
     "metadata": {},
     "output_type": "execute_result"
    }
   ],
   "source": [
    "model.fit(data0)"
   ]
  },
  {
   "cell_type": "code",
   "execution_count": 36,
   "metadata": {},
   "outputs": [
    {
     "data": {
      "text/plain": [
       "125000×4 Matrix{Float64}:\n",
       " -1.1123    -0.0182019  -0.0387777  -0.184145\n",
       " -1.1123    -0.0182019  -0.0387777  -0.184145\n",
       " -1.05313    0.0880647   0.0195644  -0.0624267\n",
       " -1.1123    -0.0182019  -0.0387777  -0.184145\n",
       " -1.1123    -0.0182019  -0.0387777  -0.184145\n",
       " -1.1123    -0.0182019  -0.0387777  -0.184145\n",
       " -1.1123    -0.0182019  -0.0387777  -0.184145\n",
       " -1.1123    -0.0182019  -0.0387777  -0.184145\n",
       " -1.1123    -0.0182019  -0.0387777  -0.184145\n",
       " -1.1123    -0.0182019  -0.0387777  -0.184145\n",
       " -1.1123    -0.0182019  -0.0387777  -0.184145\n",
       " -1.1123    -0.0182019  -0.0387777  -0.184145\n",
       " -0.602357   0.858302    0.429744    0.759447\n",
       "  ⋮                                 \n",
       " -1.1123    -0.0182019  -0.0387777  -0.184145\n",
       " -1.1123    -0.0182019  -0.0387777  -0.184145\n",
       " -1.1123    -0.0182019  -0.0387777  -0.184145\n",
       " -1.1123    -0.0182019  -0.0387777  -0.184145\n",
       " -1.1123    -0.0182019  -0.0387777  -0.184145\n",
       " -1.1123    -0.0182019  -0.0387777  -0.184145\n",
       " -0.92691   -0.375055   -0.107489    0.331088\n",
       " -1.1123    -0.0182019  -0.0387777  -0.184145\n",
       " -1.1123    -0.0182019  -0.0387777  -0.184145\n",
       " -1.04162   -0.155987   -0.0488796  -0.0103763\n",
       " -1.1123    -0.0182019  -0.0387777  -0.184145\n",
       " -0.649967  -0.704627    0.106198    0.243378"
      ]
     },
     "execution_count": 36,
     "metadata": {},
     "output_type": "execute_result"
    }
   ],
   "source": [
    "tr = model.transform(data0)"
   ]
  },
  {
   "cell_type": "code",
   "execution_count": 37,
   "metadata": {},
   "outputs": [
    {
     "data": {
      "text/plain": [
       "t (generic function with 2 methods)"
      ]
     },
     "execution_count": 37,
     "metadata": {},
     "output_type": "execute_result"
    }
   ],
   "source": [
    "t(n, f = 1) = [model.transform(reshape(X[n,i:(i+kh-1),j:(j+kw-1)][:],(1,:)))[f] for i in 1:sh:(28-kh+1), j in 1:sw:(28-kw+1)]"
   ]
  },
  {
   "cell_type": "code",
   "execution_count": 38,
   "metadata": {},
   "outputs": [
    {
     "data": {
      "text/plain": [
       "3"
      ]
     },
     "execution_count": 38,
     "metadata": {},
     "output_type": "execute_result"
    }
   ],
   "source": [
    "n = 3"
   ]
  },
  {
   "cell_type": "code",
   "execution_count": 41,
   "metadata": {},
   "outputs": [
    {
     "data": {
      "image/png": "[encoded data removed]",
      "text/plain": [
       "5×5 Array{Gray{Float64},2} with eltype Gray{Float64}:\n",
       " Gray{Float64}(-1.1123)    …  Gray{Float64}(-0.839764)\n",
       " Gray{Float64}(-1.1123)       Gray{Float64}(0.269736)\n",
       " Gray{Float64}(-1.1123)       Gray{Float64}(-0.771444)\n",
       " Gray{Float64}(-0.875066)     Gray{Float64}(-1.1123)\n",
       " Gray{Float64}(-0.385345)     Gray{Float64}(-1.1123)"
      ]
     },
     "execution_count": 41,
     "metadata": {},
     "output_type": "execute_result"
    }
   ],
   "source": [
    "Gray.(t(8,1))"
   ]
  },
  {
   "cell_type": "code",
   "execution_count": 43,
   "metadata": {},
   "outputs": [
    {
     "data": {
      "image/png": "[encoded data removed]",
      "text/plain": [
       "5×5 Array{Gray{Float64},2} with eltype Gray{Float64}:\n",
       " Gray{Float64}(-1.1123)   Gray{Float64}(-0.895533)  …  Gray{Float64}(-1.1123)\n",
       " Gray{Float64}(-1.1123)   Gray{Float64}(-0.77609)      Gray{Float64}(-1.1123)\n",
       " Gray{Float64}(-1.1123)   Gray{Float64}(-0.770797)     Gray{Float64}(-1.1123)\n",
       " Gray{Float64}(-1.03323)  Gray{Float64}(0.0491103)     Gray{Float64}(-1.1123)\n",
       " Gray{Float64}(-1.01292)  Gray{Float64}(0.868585)      Gray{Float64}(-1.1123)"
      ]
     },
     "execution_count": 43,
     "metadata": {},
     "output_type": "execute_result"
    }
   ],
   "source": [
    "Gray.(t(11,1))"
   ]
  },
  {
   "cell_type": "code",
   "execution_count": 44,
   "metadata": {},
   "outputs": [
    {
     "data": {
      "image/png": "[encoded data removed]",
      "text/plain": [
       "5×5 Array{Gray{Float64},2} with eltype Gray{Float64}:\n",
       " Gray{Float64}(-0.602357)  …  Gray{Float64}(-1.1123)\n",
       " Gray{Float64}(0.364997)      Gray{Float64}(-1.1123)\n",
       " Gray{Float64}(-1.1123)       Gray{Float64}(-0.512677)\n",
       " Gray{Float64}(-1.1123)       Gray{Float64}(0.736966)\n",
       " Gray{Float64}(-1.1123)       Gray{Float64}(-0.801759)"
      ]
     },
     "execution_count": 44,
     "metadata": {},
     "output_type": "execute_result"
    }
   ],
   "source": [
    "Gray.(t(13,1))"
   ]
  },
  {
   "cell_type": "code",
   "execution_count": 46,
   "metadata": {},
   "outputs": [
    {
     "data": {
      "image/png": "[encoded data removed]",
      "text/plain": [
       "5×5 Array{Gray{Float64},2} with eltype Gray{Float64}:\n",
       " Gray{Float64}(-1.1123)   …  Gray{Float64}(-1.1123)\n",
       " Gray{Float64}(0.201967)     Gray{Float64}(-1.1123)\n",
       " Gray{Float64}(-0.82453)     Gray{Float64}(-0.555136)\n",
       " Gray{Float64}(-1.1123)      Gray{Float64}(0.891239)\n",
       " Gray{Float64}(-1.1123)      Gray{Float64}(-0.675115)"
      ]
     },
     "execution_count": 46,
     "metadata": {},
     "output_type": "execute_result"
    }
   ],
   "source": [
    "Gray.(t(31,1))"
   ]
  },
  {
   "cell_type": "code",
   "execution_count": 47,
   "metadata": {},
   "outputs": [
    {
     "data": {
      "image/png": "[encoded data removed]",
      "text/plain": [
       "28×28 Array{Gray{N0f8},2} with eltype Gray{N0f8}:\n",
       " Gray{N0f8}(0.0)  Gray{N0f8}(0.0)  …  Gray{N0f8}(0.0)  Gray{N0f8}(0.0)\n",
       " Gray{N0f8}(0.0)  Gray{N0f8}(0.0)     Gray{N0f8}(0.0)  Gray{N0f8}(0.0)\n",
       " Gray{N0f8}(0.0)  Gray{N0f8}(0.0)     Gray{N0f8}(0.0)  Gray{N0f8}(0.0)\n",
       " Gray{N0f8}(0.0)  Gray{N0f8}(0.0)     Gray{N0f8}(0.0)  Gray{N0f8}(0.0)\n",
       " Gray{N0f8}(0.0)  Gray{N0f8}(0.0)     Gray{N0f8}(0.0)  Gray{N0f8}(0.0)\n",
       " Gray{N0f8}(0.0)  Gray{N0f8}(0.0)  …  Gray{N0f8}(0.0)  Gray{N0f8}(0.0)\n",
       " Gray{N0f8}(0.0)  Gray{N0f8}(0.0)     Gray{N0f8}(0.0)  Gray{N0f8}(0.0)\n",
       " Gray{N0f8}(0.0)  Gray{N0f8}(0.0)     Gray{N0f8}(0.0)  Gray{N0f8}(0.0)\n",
       " Gray{N0f8}(0.0)  Gray{N0f8}(0.0)     Gray{N0f8}(0.0)  Gray{N0f8}(0.0)\n",
       " Gray{N0f8}(0.0)  Gray{N0f8}(0.0)     Gray{N0f8}(0.0)  Gray{N0f8}(0.0)\n",
       " Gray{N0f8}(0.0)  Gray{N0f8}(0.0)  …  Gray{N0f8}(0.0)  Gray{N0f8}(0.0)\n",
       " Gray{N0f8}(0.0)  Gray{N0f8}(0.0)     Gray{N0f8}(0.0)  Gray{N0f8}(0.0)\n",
       " Gray{N0f8}(0.0)  Gray{N0f8}(0.0)     Gray{N0f8}(0.0)  Gray{N0f8}(0.0)\n",
       " ⋮                                 ⋱                   \n",
       " Gray{N0f8}(0.0)  Gray{N0f8}(0.0)     Gray{N0f8}(0.0)  Gray{N0f8}(0.0)\n",
       " Gray{N0f8}(0.0)  Gray{N0f8}(0.0)     Gray{N0f8}(0.0)  Gray{N0f8}(0.0)\n",
       " Gray{N0f8}(0.0)  Gray{N0f8}(0.0)     Gray{N0f8}(0.0)  Gray{N0f8}(0.0)\n",
       " Gray{N0f8}(0.0)  Gray{N0f8}(0.0)     Gray{N0f8}(0.0)  Gray{N0f8}(0.0)\n",
       " Gray{N0f8}(0.0)  Gray{N0f8}(0.0)  …  Gray{N0f8}(0.0)  Gray{N0f8}(0.0)\n",
       " Gray{N0f8}(0.0)  Gray{N0f8}(0.0)     Gray{N0f8}(0.0)  Gray{N0f8}(0.0)\n",
       " Gray{N0f8}(0.0)  Gray{N0f8}(0.0)     Gray{N0f8}(0.0)  Gray{N0f8}(0.0)\n",
       " Gray{N0f8}(0.0)  Gray{N0f8}(0.0)     Gray{N0f8}(0.0)  Gray{N0f8}(0.0)\n",
       " Gray{N0f8}(0.0)  Gray{N0f8}(0.0)     Gray{N0f8}(0.0)  Gray{N0f8}(0.0)\n",
       " Gray{N0f8}(0.0)  Gray{N0f8}(0.0)  …  Gray{N0f8}(0.0)  Gray{N0f8}(0.0)\n",
       " Gray{N0f8}(0.0)  Gray{N0f8}(0.0)     Gray{N0f8}(0.0)  Gray{N0f8}(0.0)\n",
       " Gray{N0f8}(0.0)  Gray{N0f8}(0.0)     Gray{N0f8}(0.0)  Gray{N0f8}(0.0)"
      ]
     },
     "execution_count": 47,
     "metadata": {},
     "output_type": "execute_result"
    }
   ],
   "source": [
    "Gray.(X[31,:,:])"
   ]
  },
  {
   "cell_type": "code",
   "execution_count": 40,
   "metadata": {},
   "outputs": [
    {
     "data": {
      "text/plain": [
       "493-element Vector{Int64}:\n",
       "    8\n",
       "   11\n",
       "   13\n",
       "   28\n",
       "   31\n",
       "   45\n",
       "   50\n",
       "   51\n",
       "   75\n",
       "   87\n",
       "   99\n",
       "  108\n",
       "  112\n",
       "    ⋮\n",
       " 4879\n",
       " 4882\n",
       " 4884\n",
       " 4892\n",
       " 4899\n",
       " 4918\n",
       " 4938\n",
       " 4957\n",
       " 4958\n",
       " 4967\n",
       " 4989\n",
       " 4997"
      ]
     },
     "execution_count": 40,
     "metadata": {},
     "output_type": "execute_result"
    }
   ],
   "source": [
    "c(3)"
   ]
  },
  {
   "cell_type": "markdown",
   "metadata": {},
   "source": [
    "<hr>"
   ]
  },
  {
   "cell_type": "code",
   "execution_count": 20,
   "metadata": {},
   "outputs": [
    {
     "data": {
      "image/png": "[encoded data removed]",
      "text/plain": [
       "5×5 Array{Gray{Float64},2} with eltype Gray{Float64}:\n",
       " Gray{Float64}(-1.0875)  Gray{Float64}(-1.0875)  …  Gray{Float64}(-1.0875)\n",
       " Gray{Float64}(-1.0875)  Gray{Float64}(-1.0875)     Gray{Float64}(-1.0875)\n",
       " Gray{Float64}(-1.0875)  Gray{Float64}(-1.0875)     Gray{Float64}(-1.0875)\n",
       " Gray{Float64}(-1.0875)  Gray{Float64}(-1.0875)     Gray{Float64}(-1.0875)\n",
       " Gray{Float64}(-1.0875)  Gray{Float64}(-1.0875)     Gray{Float64}(-1.0875)"
      ]
     },
     "execution_count": 20,
     "metadata": {},
     "output_type": "execute_result"
    }
   ],
   "source": [
    "n = 10\n",
    "Gray.(reshape(X1[9,:,:,:],(5,5)))"
   ]
  },
  {
   "cell_type": "code",
   "execution_count": null,
   "metadata": {},
   "outputs": [],
   "source": []
  }
 ],
 "metadata": {
  "kernelspec": {
   "display_name": "Julia 1.4.2",
   "language": "julia",
   "name": "julia-1.4"
  },
  "language_info": {
   "file_extension": ".jl",
   "mimetype": "application/julia",
   "name": "julia",
   "version": "1.6.0"
  }
 },
 "nbformat": 4,
 "nbformat_minor": 4
}
